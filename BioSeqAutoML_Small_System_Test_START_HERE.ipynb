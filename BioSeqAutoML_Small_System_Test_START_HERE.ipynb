{
 "cells": [
  {
   "cell_type": "markdown",
   "metadata": {},
   "source": [
    "This is purposefully a pretty quick and poorly-performing test, since we are not really training models for very long. Make sure you can run everything here successfully to get familiar with the BioSeq-AutoML platform!"
   ]
  },
  {
   "cell_type": "code",
   "execution_count": null,
   "metadata": {},
   "outputs": [],
   "source": [
    "import sys\n",
    "sys.path.insert(1, 'main_classes/')\n",
    "\n",
    "from CAML_wrapper import run_bioseqml\n",
    "import shutil\n",
    "import os\n",
    "\n",
    "# make directory where these results can live - no need to run if already have a directory\n",
    "os.mkdir('./final_exemplars/')"
   ]
  },
  {
   "cell_type": "markdown",
   "metadata": {},
   "source": [
    "# General Parameters (can be changed)"
   ]
  },
  {
   "cell_type": "code",
   "execution_count": null,
   "metadata": {},
   "outputs": [],
   "source": [
    "# specify parameters for the actual search (example)\n",
    "max_runtime_minutes = 10 # time in minutes to give to each implemented AutoML algorithms\n",
    "num_folds = 2 # recommend 3 - 5 folds for robustness\n",
    "verbosity = 0\n",
    "do_backup = False # make a backup of your outputs and models\n",
    "\n",
    "# Deepswarm execution\n",
    "num_final_epochs = 10\n",
    "num_final_epochs = 10\n",
    "yaml_params = {'ant_count': 1, 'max_depth': 2, 'epochs': 5}\n",
    "\n",
    "# TPOT execution\n",
    "num_generations = 5 # or do hyperparameter optimization in an automated way\n",
    "population_size = 5 # or do hyperparameter optimization in an automated way\n",
    "\n",
    "# required only for binary_classification\n",
    "# If do_auto_bin=True then binary threshold is set to None to be automatically generated\n",
    "do_auto_bin = True\n",
    "if do_auto_bin == True:\n",
    "    bin_threshold=None\n",
    "else:\n",
    "    bin_threshold = 0.75\n",
    "    \n",
    "# Optional Add-ons\n",
    "pad_seqs = 'max' # pads seqs to max length; options include 'max', 'min', 'average'\n",
    "augment_data = 'none' # available for nucleic acids: none, complement, rev_complement, both_complements\n",
    "dataset_robustness = False # try with different fractions of your dataset, may add time\n",
    "\n",
    "# interpretation options\n",
    "run_interpretation = False\n",
    "interpret_params = {'sample_number_class_activation_maps' : 100, \n",
    "                   'class_activation_grad_modifier' : 'absolute',\n",
    "                   'class_activation_layer_index' : -2,\n",
    "                    'sample_number_saliency_maps' : 100,\n",
    "                   'saliency_map_grad_modifier' : 'absolute',\n",
    "                   'saliency_map_layer_index' : -1, \n",
    "                   'sample_number_mutagenesis' : 100}\n",
    "\n",
    "# design options\n",
    "run_design = False\n",
    "design_params = {'k' : 3, \n",
    "                'substitution_type' : 'random',\n",
    "                'target_y' : 1,\n",
    "                'class_of_interest' : 1, # must be zero if task is regression\n",
    "                'constraint_file_path' : '',\n",
    "                'de_novo_num_seqs_to_test' : 100,\n",
    "                'storm_num_seqs_to_test' : 5,\n",
    "                 'num_of_optimization_rounds' : 5}"
   ]
  },
  {
   "cell_type": "markdown",
   "metadata": {},
   "source": [
    "# Synthetic Nucleic Acids Dataset"
   ]
  },
  {
   "cell_type": "code",
   "execution_count": null,
   "metadata": {
    "scrolled": true
   },
   "outputs": [],
   "source": [
    "os.mkdir('./final_exemplars/synthetic_nucleic_acids/')\n",
    "\n",
    "data_folder = './clean_data/clean/'\n",
    "data_file = 'small_synthetic.csv'\n",
    "input_col = 'seq'\n",
    "target_col = 'positive_score'\n",
    "sequence_type = 'nucleic_acid'\n",
    "\n",
    "task = 'binary_classification' # binary_classification, multiclass_classification, regression\n",
    "\n",
    "# Specify target folders for saving models and results\n",
    "# Generic here - will add the tags specifying classification/regression\n",
    "# as well as specific for the AutoML tool being used (i.e. /tpot/)\n",
    "model_folder = './final_exemplars/synthetic_nucleic_acids/models/'\n",
    "output_folder = './final_exemplars/synthetic_nucleic_acids/outputs/'\n",
    "\n",
    "run_bioseqml(task, data_folder, data_file, sequence_type, model_folder, output_folder, max_runtime_minutes, num_folds, verbosity, do_backup, do_auto_bin, bin_threshold, input_col, target_col, pad_seqs, augment_data, dataset_robustness, num_final_epochs, yaml_params, num_generations, population_size, run_interpretation = run_interpretation, interpret_params = interpret_params, run_design = run_design, design_params = design_params)\n"
   ]
  },
  {
   "cell_type": "code",
   "execution_count": null,
   "metadata": {},
   "outputs": [],
   "source": []
  }
 ],
 "metadata": {
  "kernelspec": {
   "display_name": "automl_py37",
   "language": "python",
   "name": "automl_py37"
  },
  "language_info": {
   "codemirror_mode": {
    "name": "ipython",
    "version": 3
   },
   "file_extension": ".py",
   "mimetype": "text/x-python",
   "name": "python",
   "nbconvert_exporter": "python",
   "pygments_lexer": "ipython3",
   "version": "3.7.10"
  }
 },
 "nbformat": 4,
 "nbformat_minor": 2
}
