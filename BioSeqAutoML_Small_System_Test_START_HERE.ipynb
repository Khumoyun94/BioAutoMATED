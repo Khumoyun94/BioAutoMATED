{
 "cells": [
  {
   "cell_type": "markdown",
   "metadata": {},
   "source": [
    "This is purposefully a pretty quick and poorly-performing test, since we are not really training models for very long. Make sure you can run everything here successfully to get familiar with the BioSeq-AutoML platform!"
   ]
  },
  {
   "cell_type": "code",
   "execution_count": 1,
   "metadata": {},
   "outputs": [
    {
     "name": "stderr",
     "output_type": "stream",
     "text": [
      "Using TensorFlow backend.\n"
     ]
    },
    {
     "name": "stdout",
     "output_type": "stream",
     "text": [
      "Better speed can be achieved with apex installed from https://www.github.com/nvidia/apex.\n"
     ]
    }
   ],
   "source": [
    "import sys\n",
    "sys.path.insert(1, 'main_classes/')\n",
    "\n",
    "from BioSeqAutoML_wrapper import run_bioseqml\n",
    "import shutil\n",
    "import os\n",
    "\n",
    "# make directory where these results can live - no need to run if already have a directory\n",
    "#os.mkdir('./final_exemplars/')"
   ]
  },
  {
   "cell_type": "markdown",
   "metadata": {},
   "source": [
    "# General Parameters (can be changed)"
   ]
  },
  {
   "cell_type": "code",
   "execution_count": 2,
   "metadata": {},
   "outputs": [],
   "source": [
    "# ### input arguments \n",
    "#     task : str, one of 'binary_classification', 'multiclass_classification', 'regression'\n",
    "#     data_folder : str representing folder where data is stored\n",
    "#     data_file : str representing file name where data is stored\n",
    "#     sequence_type : str, either 'nucleic_acid', 'peptide', or 'glycan'\n",
    "#     model_folder : str representing folder where models are to be stored\n",
    "#     output_folder : str representing folder where output is to be stored\n",
    "#     automl_search_techniques : str representing which AutoML search technique should be performed, one of 'all', 'deepswarm', 'autokeras', 'tpot'\n",
    "#     do_backup : bool representing if a backup should be performed\n",
    "#     max_runtime_minutes : int representing max runtime for model search in minutes\n",
    "#     num_folds : int representing num folds\n",
    "#     verbosity : int representing 0=not verbose, 1=verbose\n",
    "#     do_auto_bin : bool representing if target values should be automatically binned\n",
    "#     bin_threshold : float representing threshold for positive and negative classes\n",
    "#     do_transform : bool representing if target values should be transformed\n",
    "#     input_col : str representing input column name where sequences can be located\n",
    "#     target_col : str representing target column name where target values can be located\n",
    "#     pad_seqs : str indicating pad_seqs method, either 'max', 'min', 'average'\n",
    "#     augment_data : str, either 'none', 'complement', 'reverse_complement', or 'both_complements'\n",
    "#     dataset_robustness : bool indicating if data ablation study should be performed\n",
    "#     num_final_epochs : int representing number of final epochs to train final deepswarm model\n",
    "#     yaml_params : dict of extra deepswarm parameters, with keys 'max_depth' (int), 'ant_count' (int), 'epochs' (int)\n",
    "#     num_generations : int representing number of generations of tpot search\n",
    "#     population_size : int representing population size of tpot search\n",
    "#     run_interpretation : bool indicating if interpretation module should be executed\n",
    "#     interpret_params : dict of extra interpretation parameters, with keys 'sample_number_class_activation_maps' (int), 'class_activation_grad_modifier' (str), 'class_activation_layer_index' (int);\n",
    "#         'sample_number_saliency_maps' (int), 'saliency_map_grad_modifier' (str), 'saliency_map_layer_index' (int), 'sample_number_mutagenesis' (int)\n",
    "#     run_design : bool indicating if design module should be executed\n",
    "#     design_params :dict of extra design parameters, with keys 'k' (int), 'substitution_type' (str), 'target_y' (float), 'class_of_interest' (int), 'constraint_file_path' (str);\n",
    "#         'de_novo_num_seqs_to_test' (int), 'storm_num_seqs_to_test' (int), 'num_of_optimization_rounds' (int)\n",
    "# ###"
   ]
  },
  {
   "cell_type": "code",
   "execution_count": 3,
   "metadata": {},
   "outputs": [],
   "source": [
    "# specify parameters for the actual search (example)\n",
    "max_runtime_minutes = 10 # time in minutes to give to each implemented AutoML algorithms\n",
    "num_folds = 2 # recommend 3 - 5 folds for robustness\n",
    "verbosity = 0\n",
    "do_backup = False # make a backup of your outputs and models\n",
    "\n",
    "# Deepswarm execution\n",
    "num_final_epochs = 10\n",
    "yaml_params = {'ant_count': 1, 'max_depth': 2, 'epochs': 5}\n",
    "\n",
    "# TPOT execution\n",
    "num_generations = 5\n",
    "population_size = 5\n"
   ]
  },
  {
   "cell_type": "markdown",
   "metadata": {},
   "source": [
    "# Synthetic Nucleic Acids Dataset"
   ]
  },
  {
   "cell_type": "code",
   "execution_count": 4,
   "metadata": {
    "scrolled": false
   },
   "outputs": [
    {
     "name": "stdout",
     "output_type": "stream",
     "text": [
      "Verbosity set to 0. For more display items, set verbosity to 1.\n",
      "#################################################################################################\n",
      "#######################               RUNNING BINARY CLASSIFICATION            ##################\n",
      "#################################################################################################\n",
      "\n",
      "#################################################################################################\n",
      "##############################            RUNNING DEEPSWARM           ###########################\n",
      "#################################################################################################\n",
      "Conducting architecture search now...\n",
      "Testing scrambled control now...\n",
      "Fitting final model now...\n",
      "#################################################################################################\n",
      "##############################            RUNNING AUTOKERAS           ###########################\n",
      "#################################################################################################\n",
      "Conducting architecture search now...\n",
      "Testing scrambled control now...\n",
      "Fitting final model now...\n",
      "Results are located at: ./final_exemplars/TEST_synthetic_nucleic_acids/outputs/autokeras/binary_classification/all_results.txt\n",
      "#################################################################################################\n",
      "##############################            RUNNING TPOT                ###########################\n",
      "#################################################################################################\n",
      "Conducting architecture search now...\n",
      "Testing scrambled control now...\n",
      "Fitting final model now...\n",
      "BioSeq-AutoML has concluded.\n"
     ]
    }
   ],
   "source": [
    "#os.mkdir('./final_exemplars/TEST_synthetic_nucleic_acids/')\n",
    "\n",
    "data_folder = './clean_data/clean/'\n",
    "data_file = 'small_synthetic.csv'\n",
    "input_col = 'seq'\n",
    "target_col = 'positive_score'\n",
    "sequence_type = 'nucleic_acid'\n",
    "\n",
    "task = 'binary_classification' # binary_classification, multiclass_classification, regression\n",
    "\n",
    "# Specify target folders for saving models and results\n",
    "# Generic here - will add the tags specifying classification/regression\n",
    "# as well as specific for the AutoML tool being used (i.e. /tpot/)\n",
    "model_folder = './final_exemplars/TEST_synthetic_nucleic_acids/models/'\n",
    "output_folder = './final_exemplars/TEST_synthetic_nucleic_acids/outputs/'\n",
    "\n",
    "run_bioseqml(task, data_folder, data_file, sequence_type, model_folder, output_folder, input_col=input_col, target_col=target_col, max_runtime_minutes=max_runtime_minutes, num_folds=num_folds, verbosity=verbosity, do_backup=do_backup, num_final_epochs=num_final_epochs, yaml_params=yaml_params, num_generations=num_generations, population_size=population_size)\n"
   ]
  },
  {
   "cell_type": "code",
   "execution_count": null,
   "metadata": {},
   "outputs": [],
   "source": []
  }
 ],
 "metadata": {
  "kernelspec": {
   "display_name": "automl_py37",
   "language": "python",
   "name": "automl_py37"
  },
  "language_info": {
   "codemirror_mode": {
    "name": "ipython",
    "version": 3
   },
   "file_extension": ".py",
   "mimetype": "text/x-python",
   "name": "python",
   "nbconvert_exporter": "python",
   "pygments_lexer": "ipython3",
   "version": "3.7.10"
  }
 },
 "nbformat": 4,
 "nbformat_minor": 2
}
