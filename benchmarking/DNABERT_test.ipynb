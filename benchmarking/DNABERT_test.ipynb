{
 "cells": [
  {
   "cell_type": "markdown",
   "metadata": {},
   "source": [
    "# Import statements"
   ]
  },
  {
   "cell_type": "code",
   "execution_count": 1,
   "metadata": {},
   "outputs": [],
   "source": [
    "import pandas as pd\n",
    "import numpy as np\n",
    "\n",
    "# load in kmer function they provide\n",
    "import sys\n",
    "sys.path.append('motif')\n",
    "import motif_utils\n",
    "\n",
    "from sklearn import metrics\n",
    "from sklearn.metrics import roc_auc_score\n",
    "from sklearn.metrics import matthews_corrcoef"
   ]
  },
  {
   "cell_type": "markdown",
   "metadata": {},
   "source": [
    "# K-merize all data into k=3,4,5,6"
   ]
  },
  {
   "cell_type": "code",
   "execution_count": 2,
   "metadata": {},
   "outputs": [],
   "source": [
    "def binarize_df(df, med, data_col):\n",
    "    df['label'] = [1 if x > med else 0 for x in list(df[data_col])]\n",
    "    df = df[['sequence', 'label']]\n",
    "    return(df)\n",
    "\n",
    "def process_dataset(k, traindf, testdf, path, seq_col = 'seq', data_col = 'out'):\n",
    "    traindf['sequence'] = [motif_utils.seq2kmer(seq, k=k) for seq in traindf[seq_col]]\n",
    "    currmed = np.median(traindf[data_col])\n",
    "    print('median: ', currmed)\n",
    "    traindf = binarize_df(traindf, currmed, data_col)\n",
    "    traindf.to_csv(path + 'train.tsv', sep = '\\t', index = False)\n",
    "    print(len(traindf))\n",
    "\n",
    "    testdf['sequence'] = [motif_utils.seq2kmer(seq, k=k) for seq in testdf[seq_col]]\n",
    "    testdf = binarize_df(testdf, currmed, data_col)\n",
    "    testdf.to_csv(path + 'dev.tsv', sep = '\\t', index = False)\n",
    "    print(len(testdf))"
   ]
  },
  {
   "cell_type": "code",
   "execution_count": 3,
   "metadata": {},
   "outputs": [
    {
     "name": "stdout",
     "output_type": "stream",
     "text": [
      "synthetic_nas\n",
      "3\n"
     ]
    },
    {
     "name": "stderr",
     "output_type": "stream",
     "text": [
      "/tmp/ipykernel_11250/3530510289.py:7: SettingWithCopyWarning: \n",
      "A value is trying to be set on a copy of a slice from a DataFrame.\n",
      "Try using .loc[row_indexer,col_indexer] = value instead\n",
      "\n",
      "See the caveats in the documentation: https://pandas.pydata.org/pandas-docs/stable/user_guide/indexing.html#returning-a-view-versus-a-copy\n",
      "  traindf['sequence'] = [motif_utils.seq2kmer(seq, k=k) for seq in traindf[seq_col]]\n",
      "/tmp/ipykernel_11250/3530510289.py:2: SettingWithCopyWarning: \n",
      "A value is trying to be set on a copy of a slice from a DataFrame.\n",
      "Try using .loc[row_indexer,col_indexer] = value instead\n",
      "\n",
      "See the caveats in the documentation: https://pandas.pydata.org/pandas-docs/stable/user_guide/indexing.html#returning-a-view-versus-a-copy\n",
      "  df['label'] = [1 if x > med else 0 for x in list(df[data_col])]\n"
     ]
    },
    {
     "name": "stdout",
     "output_type": "stream",
     "text": [
      "median:  50.0\n",
      "90000\n",
      "10000\n",
      "4\n"
     ]
    },
    {
     "name": "stderr",
     "output_type": "stream",
     "text": [
      "/tmp/ipykernel_11250/3530510289.py:14: SettingWithCopyWarning: \n",
      "A value is trying to be set on a copy of a slice from a DataFrame.\n",
      "Try using .loc[row_indexer,col_indexer] = value instead\n",
      "\n",
      "See the caveats in the documentation: https://pandas.pydata.org/pandas-docs/stable/user_guide/indexing.html#returning-a-view-versus-a-copy\n",
      "  testdf['sequence'] = [motif_utils.seq2kmer(seq, k=k) for seq in testdf[seq_col]]\n",
      "/tmp/ipykernel_11250/3530510289.py:2: SettingWithCopyWarning: \n",
      "A value is trying to be set on a copy of a slice from a DataFrame.\n",
      "Try using .loc[row_indexer,col_indexer] = value instead\n",
      "\n",
      "See the caveats in the documentation: https://pandas.pydata.org/pandas-docs/stable/user_guide/indexing.html#returning-a-view-versus-a-copy\n",
      "  df['label'] = [1 if x > med else 0 for x in list(df[data_col])]\n",
      "/tmp/ipykernel_11250/3530510289.py:7: SettingWithCopyWarning: \n",
      "A value is trying to be set on a copy of a slice from a DataFrame.\n",
      "Try using .loc[row_indexer,col_indexer] = value instead\n",
      "\n",
      "See the caveats in the documentation: https://pandas.pydata.org/pandas-docs/stable/user_guide/indexing.html#returning-a-view-versus-a-copy\n",
      "  traindf['sequence'] = [motif_utils.seq2kmer(seq, k=k) for seq in traindf[seq_col]]\n",
      "/tmp/ipykernel_11250/3530510289.py:2: SettingWithCopyWarning: \n",
      "A value is trying to be set on a copy of a slice from a DataFrame.\n",
      "Try using .loc[row_indexer,col_indexer] = value instead\n",
      "\n",
      "See the caveats in the documentation: https://pandas.pydata.org/pandas-docs/stable/user_guide/indexing.html#returning-a-view-versus-a-copy\n",
      "  df['label'] = [1 if x > med else 0 for x in list(df[data_col])]\n"
     ]
    },
    {
     "name": "stdout",
     "output_type": "stream",
     "text": [
      "median:  50.0\n",
      "90000\n",
      "10000\n",
      "5\n"
     ]
    },
    {
     "name": "stderr",
     "output_type": "stream",
     "text": [
      "/tmp/ipykernel_11250/3530510289.py:14: SettingWithCopyWarning: \n",
      "A value is trying to be set on a copy of a slice from a DataFrame.\n",
      "Try using .loc[row_indexer,col_indexer] = value instead\n",
      "\n",
      "See the caveats in the documentation: https://pandas.pydata.org/pandas-docs/stable/user_guide/indexing.html#returning-a-view-versus-a-copy\n",
      "  testdf['sequence'] = [motif_utils.seq2kmer(seq, k=k) for seq in testdf[seq_col]]\n",
      "/tmp/ipykernel_11250/3530510289.py:2: SettingWithCopyWarning: \n",
      "A value is trying to be set on a copy of a slice from a DataFrame.\n",
      "Try using .loc[row_indexer,col_indexer] = value instead\n",
      "\n",
      "See the caveats in the documentation: https://pandas.pydata.org/pandas-docs/stable/user_guide/indexing.html#returning-a-view-versus-a-copy\n",
      "  df['label'] = [1 if x > med else 0 for x in list(df[data_col])]\n",
      "/tmp/ipykernel_11250/3530510289.py:7: SettingWithCopyWarning: \n",
      "A value is trying to be set on a copy of a slice from a DataFrame.\n",
      "Try using .loc[row_indexer,col_indexer] = value instead\n",
      "\n",
      "See the caveats in the documentation: https://pandas.pydata.org/pandas-docs/stable/user_guide/indexing.html#returning-a-view-versus-a-copy\n",
      "  traindf['sequence'] = [motif_utils.seq2kmer(seq, k=k) for seq in traindf[seq_col]]\n",
      "/tmp/ipykernel_11250/3530510289.py:2: SettingWithCopyWarning: \n",
      "A value is trying to be set on a copy of a slice from a DataFrame.\n",
      "Try using .loc[row_indexer,col_indexer] = value instead\n",
      "\n",
      "See the caveats in the documentation: https://pandas.pydata.org/pandas-docs/stable/user_guide/indexing.html#returning-a-view-versus-a-copy\n",
      "  df['label'] = [1 if x > med else 0 for x in list(df[data_col])]\n"
     ]
    },
    {
     "name": "stdout",
     "output_type": "stream",
     "text": [
      "median:  50.0\n",
      "90000\n",
      "10000\n",
      "6\n"
     ]
    },
    {
     "name": "stderr",
     "output_type": "stream",
     "text": [
      "/tmp/ipykernel_11250/3530510289.py:14: SettingWithCopyWarning: \n",
      "A value is trying to be set on a copy of a slice from a DataFrame.\n",
      "Try using .loc[row_indexer,col_indexer] = value instead\n",
      "\n",
      "See the caveats in the documentation: https://pandas.pydata.org/pandas-docs/stable/user_guide/indexing.html#returning-a-view-versus-a-copy\n",
      "  testdf['sequence'] = [motif_utils.seq2kmer(seq, k=k) for seq in testdf[seq_col]]\n",
      "/tmp/ipykernel_11250/3530510289.py:2: SettingWithCopyWarning: \n",
      "A value is trying to be set on a copy of a slice from a DataFrame.\n",
      "Try using .loc[row_indexer,col_indexer] = value instead\n",
      "\n",
      "See the caveats in the documentation: https://pandas.pydata.org/pandas-docs/stable/user_guide/indexing.html#returning-a-view-versus-a-copy\n",
      "  df['label'] = [1 if x > med else 0 for x in list(df[data_col])]\n",
      "/tmp/ipykernel_11250/3530510289.py:7: SettingWithCopyWarning: \n",
      "A value is trying to be set on a copy of a slice from a DataFrame.\n",
      "Try using .loc[row_indexer,col_indexer] = value instead\n",
      "\n",
      "See the caveats in the documentation: https://pandas.pydata.org/pandas-docs/stable/user_guide/indexing.html#returning-a-view-versus-a-copy\n",
      "  traindf['sequence'] = [motif_utils.seq2kmer(seq, k=k) for seq in traindf[seq_col]]\n",
      "/tmp/ipykernel_11250/3530510289.py:2: SettingWithCopyWarning: \n",
      "A value is trying to be set on a copy of a slice from a DataFrame.\n",
      "Try using .loc[row_indexer,col_indexer] = value instead\n",
      "\n",
      "See the caveats in the documentation: https://pandas.pydata.org/pandas-docs/stable/user_guide/indexing.html#returning-a-view-versus-a-copy\n",
      "  df['label'] = [1 if x > med else 0 for x in list(df[data_col])]\n"
     ]
    },
    {
     "name": "stdout",
     "output_type": "stream",
     "text": [
      "median:  50.0\n",
      "90000\n",
      "10000\n",
      "rbs\n"
     ]
    },
    {
     "name": "stderr",
     "output_type": "stream",
     "text": [
      "/tmp/ipykernel_11250/3530510289.py:14: SettingWithCopyWarning: \n",
      "A value is trying to be set on a copy of a slice from a DataFrame.\n",
      "Try using .loc[row_indexer,col_indexer] = value instead\n",
      "\n",
      "See the caveats in the documentation: https://pandas.pydata.org/pandas-docs/stable/user_guide/indexing.html#returning-a-view-versus-a-copy\n",
      "  testdf['sequence'] = [motif_utils.seq2kmer(seq, k=k) for seq in testdf[seq_col]]\n",
      "/tmp/ipykernel_11250/3530510289.py:2: SettingWithCopyWarning: \n",
      "A value is trying to be set on a copy of a slice from a DataFrame.\n",
      "Try using .loc[row_indexer,col_indexer] = value instead\n",
      "\n",
      "See the caveats in the documentation: https://pandas.pydata.org/pandas-docs/stable/user_guide/indexing.html#returning-a-view-versus-a-copy\n",
      "  df['label'] = [1 if x > med else 0 for x in list(df[data_col])]\n"
     ]
    },
    {
     "name": "stdout",
     "output_type": "stream",
     "text": [
      "3\n",
      "median:  0.1249095128703919\n",
      "275849\n",
      "27654\n",
      "4\n",
      "median:  0.1249095128703919\n",
      "275849\n",
      "27654\n",
      "5\n",
      "median:  0.1249095128703919\n",
      "275849\n",
      "27654\n",
      "6\n",
      "median:  0.1249095128703919\n",
      "275849\n",
      "27654\n",
      "toeholds\n",
      "3\n"
     ]
    },
    {
     "name": "stderr",
     "output_type": "stream",
     "text": [
      "/tmp/ipykernel_11250/3530510289.py:7: SettingWithCopyWarning: \n",
      "A value is trying to be set on a copy of a slice from a DataFrame.\n",
      "Try using .loc[row_indexer,col_indexer] = value instead\n",
      "\n",
      "See the caveats in the documentation: https://pandas.pydata.org/pandas-docs/stable/user_guide/indexing.html#returning-a-view-versus-a-copy\n",
      "  traindf['sequence'] = [motif_utils.seq2kmer(seq, k=k) for seq in traindf[seq_col]]\n",
      "/tmp/ipykernel_11250/3530510289.py:2: SettingWithCopyWarning: \n",
      "A value is trying to be set on a copy of a slice from a DataFrame.\n",
      "Try using .loc[row_indexer,col_indexer] = value instead\n",
      "\n",
      "See the caveats in the documentation: https://pandas.pydata.org/pandas-docs/stable/user_guide/indexing.html#returning-a-view-versus-a-copy\n",
      "  df['label'] = [1 if x > med else 0 for x in list(df[data_col])]\n"
     ]
    },
    {
     "name": "stdout",
     "output_type": "stream",
     "text": [
      "median:  0.4434906405000001\n",
      "82380\n"
     ]
    },
    {
     "name": "stderr",
     "output_type": "stream",
     "text": [
      "/tmp/ipykernel_11250/3530510289.py:14: SettingWithCopyWarning: \n",
      "A value is trying to be set on a copy of a slice from a DataFrame.\n",
      "Try using .loc[row_indexer,col_indexer] = value instead\n",
      "\n",
      "See the caveats in the documentation: https://pandas.pydata.org/pandas-docs/stable/user_guide/indexing.html#returning-a-view-versus-a-copy\n",
      "  testdf['sequence'] = [motif_utils.seq2kmer(seq, k=k) for seq in testdf[seq_col]]\n",
      "/tmp/ipykernel_11250/3530510289.py:2: SettingWithCopyWarning: \n",
      "A value is trying to be set on a copy of a slice from a DataFrame.\n",
      "Try using .loc[row_indexer,col_indexer] = value instead\n",
      "\n",
      "See the caveats in the documentation: https://pandas.pydata.org/pandas-docs/stable/user_guide/indexing.html#returning-a-view-versus-a-copy\n",
      "  df['label'] = [1 if x > med else 0 for x in list(df[data_col])]\n"
     ]
    },
    {
     "name": "stdout",
     "output_type": "stream",
     "text": [
      "9154\n",
      "4\n"
     ]
    },
    {
     "name": "stderr",
     "output_type": "stream",
     "text": [
      "/tmp/ipykernel_11250/3530510289.py:7: SettingWithCopyWarning: \n",
      "A value is trying to be set on a copy of a slice from a DataFrame.\n",
      "Try using .loc[row_indexer,col_indexer] = value instead\n",
      "\n",
      "See the caveats in the documentation: https://pandas.pydata.org/pandas-docs/stable/user_guide/indexing.html#returning-a-view-versus-a-copy\n",
      "  traindf['sequence'] = [motif_utils.seq2kmer(seq, k=k) for seq in traindf[seq_col]]\n",
      "/tmp/ipykernel_11250/3530510289.py:2: SettingWithCopyWarning: \n",
      "A value is trying to be set on a copy of a slice from a DataFrame.\n",
      "Try using .loc[row_indexer,col_indexer] = value instead\n",
      "\n",
      "See the caveats in the documentation: https://pandas.pydata.org/pandas-docs/stable/user_guide/indexing.html#returning-a-view-versus-a-copy\n",
      "  df['label'] = [1 if x > med else 0 for x in list(df[data_col])]\n"
     ]
    },
    {
     "name": "stdout",
     "output_type": "stream",
     "text": [
      "median:  0.4434906405000001\n",
      "82380\n"
     ]
    },
    {
     "name": "stderr",
     "output_type": "stream",
     "text": [
      "/tmp/ipykernel_11250/3530510289.py:14: SettingWithCopyWarning: \n",
      "A value is trying to be set on a copy of a slice from a DataFrame.\n",
      "Try using .loc[row_indexer,col_indexer] = value instead\n",
      "\n",
      "See the caveats in the documentation: https://pandas.pydata.org/pandas-docs/stable/user_guide/indexing.html#returning-a-view-versus-a-copy\n",
      "  testdf['sequence'] = [motif_utils.seq2kmer(seq, k=k) for seq in testdf[seq_col]]\n",
      "/tmp/ipykernel_11250/3530510289.py:2: SettingWithCopyWarning: \n",
      "A value is trying to be set on a copy of a slice from a DataFrame.\n",
      "Try using .loc[row_indexer,col_indexer] = value instead\n",
      "\n",
      "See the caveats in the documentation: https://pandas.pydata.org/pandas-docs/stable/user_guide/indexing.html#returning-a-view-versus-a-copy\n",
      "  df['label'] = [1 if x > med else 0 for x in list(df[data_col])]\n"
     ]
    },
    {
     "name": "stdout",
     "output_type": "stream",
     "text": [
      "9154\n",
      "5\n"
     ]
    },
    {
     "name": "stderr",
     "output_type": "stream",
     "text": [
      "/tmp/ipykernel_11250/3530510289.py:7: SettingWithCopyWarning: \n",
      "A value is trying to be set on a copy of a slice from a DataFrame.\n",
      "Try using .loc[row_indexer,col_indexer] = value instead\n",
      "\n",
      "See the caveats in the documentation: https://pandas.pydata.org/pandas-docs/stable/user_guide/indexing.html#returning-a-view-versus-a-copy\n",
      "  traindf['sequence'] = [motif_utils.seq2kmer(seq, k=k) for seq in traindf[seq_col]]\n",
      "/tmp/ipykernel_11250/3530510289.py:2: SettingWithCopyWarning: \n",
      "A value is trying to be set on a copy of a slice from a DataFrame.\n",
      "Try using .loc[row_indexer,col_indexer] = value instead\n",
      "\n",
      "See the caveats in the documentation: https://pandas.pydata.org/pandas-docs/stable/user_guide/indexing.html#returning-a-view-versus-a-copy\n",
      "  df['label'] = [1 if x > med else 0 for x in list(df[data_col])]\n"
     ]
    },
    {
     "name": "stdout",
     "output_type": "stream",
     "text": [
      "median:  0.4434906405000001\n",
      "82380\n"
     ]
    },
    {
     "name": "stderr",
     "output_type": "stream",
     "text": [
      "/tmp/ipykernel_11250/3530510289.py:14: SettingWithCopyWarning: \n",
      "A value is trying to be set on a copy of a slice from a DataFrame.\n",
      "Try using .loc[row_indexer,col_indexer] = value instead\n",
      "\n",
      "See the caveats in the documentation: https://pandas.pydata.org/pandas-docs/stable/user_guide/indexing.html#returning-a-view-versus-a-copy\n",
      "  testdf['sequence'] = [motif_utils.seq2kmer(seq, k=k) for seq in testdf[seq_col]]\n",
      "/tmp/ipykernel_11250/3530510289.py:2: SettingWithCopyWarning: \n",
      "A value is trying to be set on a copy of a slice from a DataFrame.\n",
      "Try using .loc[row_indexer,col_indexer] = value instead\n",
      "\n",
      "See the caveats in the documentation: https://pandas.pydata.org/pandas-docs/stable/user_guide/indexing.html#returning-a-view-versus-a-copy\n",
      "  df['label'] = [1 if x > med else 0 for x in list(df[data_col])]\n"
     ]
    },
    {
     "name": "stdout",
     "output_type": "stream",
     "text": [
      "9154\n",
      "6\n"
     ]
    },
    {
     "name": "stderr",
     "output_type": "stream",
     "text": [
      "/tmp/ipykernel_11250/3530510289.py:7: SettingWithCopyWarning: \n",
      "A value is trying to be set on a copy of a slice from a DataFrame.\n",
      "Try using .loc[row_indexer,col_indexer] = value instead\n",
      "\n",
      "See the caveats in the documentation: https://pandas.pydata.org/pandas-docs/stable/user_guide/indexing.html#returning-a-view-versus-a-copy\n",
      "  traindf['sequence'] = [motif_utils.seq2kmer(seq, k=k) for seq in traindf[seq_col]]\n",
      "/tmp/ipykernel_11250/3530510289.py:2: SettingWithCopyWarning: \n",
      "A value is trying to be set on a copy of a slice from a DataFrame.\n",
      "Try using .loc[row_indexer,col_indexer] = value instead\n",
      "\n",
      "See the caveats in the documentation: https://pandas.pydata.org/pandas-docs/stable/user_guide/indexing.html#returning-a-view-versus-a-copy\n",
      "  df['label'] = [1 if x > med else 0 for x in list(df[data_col])]\n"
     ]
    },
    {
     "name": "stdout",
     "output_type": "stream",
     "text": [
      "median:  0.4434906405000001\n",
      "82380\n",
      "9154\n"
     ]
    },
    {
     "name": "stderr",
     "output_type": "stream",
     "text": [
      "/tmp/ipykernel_11250/3530510289.py:14: SettingWithCopyWarning: \n",
      "A value is trying to be set on a copy of a slice from a DataFrame.\n",
      "Try using .loc[row_indexer,col_indexer] = value instead\n",
      "\n",
      "See the caveats in the documentation: https://pandas.pydata.org/pandas-docs/stable/user_guide/indexing.html#returning-a-view-versus-a-copy\n",
      "  testdf['sequence'] = [motif_utils.seq2kmer(seq, k=k) for seq in testdf[seq_col]]\n",
      "/tmp/ipykernel_11250/3530510289.py:2: SettingWithCopyWarning: \n",
      "A value is trying to be set on a copy of a slice from a DataFrame.\n",
      "Try using .loc[row_indexer,col_indexer] = value instead\n",
      "\n",
      "See the caveats in the documentation: https://pandas.pydata.org/pandas-docs/stable/user_guide/indexing.html#returning-a-view-versus-a-copy\n",
      "  df['label'] = [1 if x > med else 0 for x in list(df[data_col])]\n"
     ]
    }
   ],
   "source": [
    "ks = [3, 4, 5, 6]\n",
    "datasets = ['synthetic_nas', 'rbs', 'toeholds']\n",
    "\n",
    "for dataset in datasets:\n",
    "    print(dataset)\n",
    "    if dataset == 'rbs':\n",
    "        train = pd.read_csv('jv_rbs_data/hollerer_rbs_train.csv')\n",
    "        test = pd.read_csv('jv_rbs_data/hollerer_rbs_test.csv')\n",
    "        seq_col = 'seq'\n",
    "        data_col = 'out'\n",
    "    if dataset == 'synthetic_nas':\n",
    "        synthnafull = pd.read_csv('jv_synthetic_nucleic_acids_data/large_synthetic.csv')\n",
    "        train = synthnafull.iloc[0:90000,:]\n",
    "        test = synthnafull.iloc[90000:100000,:]\n",
    "        seq_col = 'seq'\n",
    "        data_col = 'positive_score'\n",
    "    if dataset == 'toeholds':\n",
    "        toeholdfull = pd.read_csv('jv_toeholds_data/toeholds.csv')\n",
    "        ninetiethnumber = int(0.9 * len(toeholdfull))\n",
    "        train = toeholdfull.iloc[0:ninetiethnumber,:]\n",
    "        test = toeholdfull.iloc[ninetiethnumber:len(toeholdfull),:]\n",
    "        seq_col = 'seq'\n",
    "        data_col = 'ON'\n",
    "\n",
    "    for k in ks:\n",
    "        print(k)\n",
    "        path = 'jv_grid_search/' + dataset + '/k' + str(k) + '/data/'\n",
    "        process_dataset(k, train, test, path, seq_col, data_col)"
   ]
  },
  {
   "cell_type": "markdown",
   "metadata": {},
   "source": [
    "# Write script for train and testing with each combination"
   ]
  },
  {
   "cell_type": "code",
   "execution_count": 5,
   "metadata": {},
   "outputs": [],
   "source": [
    "bash_dir = 'DNABERT_code_for_publication_grid_search_kmer_lr.sh'\n",
    "# add first command\n",
    "file1 = open(bash_dir,\"a\") \n",
    "file1.write('cd examples/')\n",
    "file1.write('\\n')\n",
    "file1.close()\n",
    "\n",
    "s0 = 'mkdir '\n",
    "s1 = 'export KMER=' # + 6\n",
    "s2 = ';\\nexport MODEL_PATH=' # + 6-new-12w-0\n",
    "s3 = ';\\nexport DATA_PATH=' # + ../jv_rbs_data/fulltestv2_cutoff0.15\n",
    "s4 = ';\\nexport OUTPUT_PATH=' # + ../jv_rbs_data/fulltestv2_cutoff0.15_output\n",
    "\n",
    "s5 = '\\npython run_finetune.py --model_type dna --tokenizer_name=dna$KMER --model_name_or_path $MODEL_PATH --task_name dnaprom --do_train --data_dir $DATA_PATH --output_dir $OUTPUT_PATH --logging_steps 100 --save_steps 1000 --overwrite_output --n_process 48 --early_stop 5'\n",
    "\n",
    "s6 = ' --max_seq_length ' # 17\n",
    "s7 = ' --learning_rate ' # 2e-4, 5e-5\n",
    "\n",
    "s8 = '\\nexport PREDICTION_PATH='\n",
    "s9 = '\\npython run_finetune.py --model_type dna --tokenizer_name=dna$KMER --model_name_or_path $MODEL_PATH --task_name dnaprom --do_predict --data_dir $DATA_PATH --output_dir $MODEL_PATH --predict_dir $PREDICTION_PATH --n_process 48 --max_seq_length '\n",
    "seqlendict = {'rbs': 17, 'synthetic_nas': 20, 'toeholds': 59}\n",
    "generic_path = '../jv_grid_search/'\n",
    "\n",
    "lrs = [2e-4, 5e-5]\n",
    "ks = [3, 6] # reduced set for now\n",
    "for dataset in datasets:\n",
    "    for k in ks:\n",
    "        for lr in lrs:\n",
    "            # paths\n",
    "            spec_path = generic_path + dataset + '/k' + str(k) + '/'\n",
    "            pretrained_path = generic_path + 'pretrained_models/' + str(k) + '-new-12w-0'\n",
    "            data_path = spec_path + 'data/'\n",
    "            model_path =  spec_path + str(lr) + '/'\n",
    "\n",
    "            # fine-tuning\n",
    "            mkd = s0 + model_path\n",
    "            exports1 = s1 + str(k) + s2 + pretrained_path + s3 + data_path + s4 + model_path\n",
    "            train_command = '; ' + s5 + s6 + str(seqlendict[dataset]) + s7 + str(lr)          \n",
    "            save1 = ' > ' + model_path + 'train_results.txt'\n",
    "            # use fine-tuned model for predictions\n",
    "            exports2 = s1 + str(k) + s2 + model_path + s3 + data_path + s8 + model_path\n",
    "            pred_command = '; ' + s9 + str(seqlendict[dataset])\n",
    "            save2 = ' > ' + model_path + 'finetune_pred_results.txt'\n",
    "                        \n",
    "            # full command\n",
    "            cmd1 = mkd + '\\n' + exports1 + train_command + save1\n",
    "            cmd2 = exports2 + pred_command + save2\n",
    "            file1 = open(bash_dir,\"a\") \n",
    "            file1.write(cmd1)\n",
    "            file1.write('\\n')\n",
    "            file1.write(cmd2)\n",
    "            file1.write('\\n')\n",
    "            file1.close()"
   ]
  },
  {
   "cell_type": "markdown",
   "metadata": {},
   "source": [
    "# Process model performance with model after all training steps"
   ]
  },
  {
   "cell_type": "code",
   "execution_count": 7,
   "metadata": {},
   "outputs": [
    {
     "name": "stdout",
     "output_type": "stream",
     "text": [
      "k:  3 ; lr:  0.0002\n",
      "jv_grid_search/synthetic_nas/k3/0.0002/\n",
      "auroc: 0.5049717220826317\n",
      "mcc:  0.0\n",
      "k:  3 ; lr:  5e-05\n",
      "jv_grid_search/synthetic_nas/k3/5e-05/\n"
     ]
    },
    {
     "name": "stderr",
     "output_type": "stream",
     "text": [
      "/home/jackievaleri8/.conda/envs/chemprop/lib/python3.8/site-packages/sklearn/metrics/_classification.py:900: RuntimeWarning: invalid value encountered in double_scalars\n",
      "  mcc = cov_ytyp / np.sqrt(cov_ytyt * cov_ypyp)\n"
     ]
    },
    {
     "name": "stdout",
     "output_type": "stream",
     "text": [
      "auroc: 0.9999998791016722\n",
      "mcc:  0.9997985195843496\n",
      "k:  6 ; lr:  0.0002\n",
      "jv_grid_search/synthetic_nas/k6/0.0002/\n",
      "auroc: 0.5100675664484411\n",
      "mcc:  0.0\n",
      "k:  6 ; lr:  5e-05\n",
      "jv_grid_search/synthetic_nas/k6/5e-05/\n"
     ]
    },
    {
     "name": "stderr",
     "output_type": "stream",
     "text": [
      "/home/jackievaleri8/.conda/envs/chemprop/lib/python3.8/site-packages/sklearn/metrics/_classification.py:900: RuntimeWarning: invalid value encountered in double_scalars\n",
      "  mcc = cov_ytyp / np.sqrt(cov_ytyt * cov_ypyp)\n"
     ]
    },
    {
     "name": "stdout",
     "output_type": "stream",
     "text": [
      "auroc: 0.9999977835306575\n",
      "mcc:  0.998388022296392\n",
      "k:  3 ; lr:  0.0002\n",
      "jv_grid_search/rbs/k3/0.0002/\n",
      "auroc: 0.5023419071269334\n",
      "mcc:  0.0\n",
      "k:  3 ; lr:  5e-05\n",
      "jv_grid_search/rbs/k3/5e-05/\n"
     ]
    },
    {
     "name": "stderr",
     "output_type": "stream",
     "text": [
      "/home/jackievaleri8/.conda/envs/chemprop/lib/python3.8/site-packages/sklearn/metrics/_classification.py:900: RuntimeWarning: invalid value encountered in double_scalars\n",
      "  mcc = cov_ytyp / np.sqrt(cov_ytyt * cov_ypyp)\n"
     ]
    },
    {
     "name": "stdout",
     "output_type": "stream",
     "text": [
      "auroc: 0.9613004985599142\n",
      "mcc:  0.8112474559008703\n",
      "k:  6 ; lr:  0.0002\n",
      "jv_grid_search/rbs/k6/0.0002/\n",
      "auroc: 0.498419234461329\n",
      "mcc:  0.0\n",
      "k:  6 ; lr:  5e-05\n",
      "jv_grid_search/rbs/k6/5e-05/\n"
     ]
    },
    {
     "name": "stderr",
     "output_type": "stream",
     "text": [
      "/home/jackievaleri8/.conda/envs/chemprop/lib/python3.8/site-packages/sklearn/metrics/_classification.py:900: RuntimeWarning: invalid value encountered in double_scalars\n",
      "  mcc = cov_ytyp / np.sqrt(cov_ytyt * cov_ypyp)\n"
     ]
    },
    {
     "name": "stdout",
     "output_type": "stream",
     "text": [
      "auroc: 0.9624197576590502\n",
      "mcc:  0.8211815643789782\n",
      "k:  3 ; lr:  0.0002\n",
      "jv_grid_search/toeholds/k3/0.0002/\n",
      "auroc: 0.4993096202696292\n",
      "mcc:  0.0\n",
      "k:  3 ; lr:  5e-05\n",
      "jv_grid_search/toeholds/k3/5e-05/\n"
     ]
    },
    {
     "name": "stderr",
     "output_type": "stream",
     "text": [
      "/home/jackievaleri8/.conda/envs/chemprop/lib/python3.8/site-packages/sklearn/metrics/_classification.py:900: RuntimeWarning: invalid value encountered in double_scalars\n",
      "  mcc = cov_ytyp / np.sqrt(cov_ytyt * cov_ypyp)\n"
     ]
    },
    {
     "name": "stdout",
     "output_type": "stream",
     "text": [
      "auroc: 0.931547895721434\n",
      "mcc:  0.7381457323663105\n",
      "k:  6 ; lr:  0.0002\n",
      "jv_grid_search/toeholds/k6/0.0002/\n",
      "auroc: 0.5032586334526925\n",
      "mcc:  0.0\n",
      "k:  6 ; lr:  5e-05\n",
      "jv_grid_search/toeholds/k6/5e-05/\n",
      "auroc: 0.9323873309078945\n",
      "mcc:  0.7399239282208556\n"
     ]
    },
    {
     "name": "stderr",
     "output_type": "stream",
     "text": [
      "/home/jackievaleri8/.conda/envs/chemprop/lib/python3.8/site-packages/sklearn/metrics/_classification.py:900: RuntimeWarning: invalid value encountered in double_scalars\n",
      "  mcc = cov_ytyp / np.sqrt(cov_ytyt * cov_ypyp)\n"
     ]
    }
   ],
   "source": [
    "generic_path = 'jv_grid_search/'\n",
    "\n",
    "for dataset in datasets:\n",
    "    for k in ks: # reduced set\n",
    "        for lr in lrs:\n",
    "            print('k: ', k, '; lr: ', lr)\n",
    "            # paths\n",
    "            spec_path = generic_path + dataset + '/k' + str(k) + '/'\n",
    "            data_path = spec_path + 'data/'\n",
    "            model_path =  spec_path + str(lr) + '/'\n",
    "\n",
    "            print(model_path)\n",
    "            true = pd.read_csv(data_path + 'dev.tsv', sep = '\\t')\n",
    "            true = list(true['label'])\n",
    "            try:\n",
    "                test = np.load(model_path + 'pred_results.npy')\n",
    "                test_bin = [1 if x > 0.5 else 0 for x in test]\n",
    "\n",
    "                auroc = float(roc_auc_score(true, test))\n",
    "                print('auroc: ' + str(auroc))\n",
    "\n",
    "                mcc = matthews_corrcoef(true, test_bin)\n",
    "                print('mcc: ', mcc)\n",
    "            except:\n",
    "                print('skipping for now...')\n",
    "                continue"
   ]
  },
  {
   "cell_type": "markdown",
   "metadata": {},
   "source": [
    "# Find lowest loss model"
   ]
  },
  {
   "cell_type": "code",
   "execution_count": 8,
   "metadata": {},
   "outputs": [],
   "source": [
    "def get_lowest_loss_checkpoint(loss_file, checkpoint_num_steps = 1000):\n",
    "    losses = []\n",
    "    steps = []\n",
    "    for i, row in loss_file.iterrows():\n",
    "        val = list(row)[0]\n",
    "\n",
    "        if 'learning_rate' not in val:\n",
    "            continue\n",
    "        loss = float(val.split('\\\"loss\\\": ')[1].split(', ')[0])\n",
    "        step = val.split('\\\"step\\\": ')[1].split('}')[0]\n",
    "        if int(step) % checkpoint_num_steps == 0:\n",
    "            losses.append(loss)\n",
    "            steps.append(step)\n",
    "    loss_df = pd.DataFrame()\n",
    "    loss_df['step'] = steps\n",
    "    loss_df['loss'] = losses\n",
    "    loss_df = loss_df.sort_values('loss', ascending = True)\n",
    "    use_checkpoint = loss_df.iloc[0,0]\n",
    "    use_loss = loss_df.iloc[0,1]\n",
    "    print(\"Lowest loss is checkpoint \" + str(use_checkpoint) + \" with a training loss of \" + str(use_loss))\n",
    "    return(use_checkpoint, loss_df)"
   ]
  },
  {
   "cell_type": "code",
   "execution_count": 9,
   "metadata": {},
   "outputs": [
    {
     "name": "stdout",
     "output_type": "stream",
     "text": [
      "synthetic_nas 3 0.0002\n",
      "Lowest loss is checkpoint 27000 with a training loss of 0.6898022252321243\n",
      "synthetic_nas 3 5e-05\n",
      "Lowest loss is checkpoint 33000 with a training loss of 2.8980267200040543e-05\n",
      "synthetic_nas 6 0.0002\n",
      "Lowest loss is checkpoint 1000 with a training loss of 0.442208341518417\n",
      "synthetic_nas 6 5e-05\n",
      "Lowest loss is checkpoint 31000 with a training loss of 2.441169362555229e-05\n",
      "toeholds 3 0.0002\n",
      "Lowest loss is checkpoint 24000 with a training loss of 0.6926275128126145\n",
      "toeholds 3 5e-05\n",
      "Lowest loss is checkpoint 23000 with a training loss of 0.3045808089710772\n",
      "toeholds 6 0.0002\n",
      "Lowest loss is checkpoint 28000 with a training loss of 0.6913258242607117\n",
      "toeholds 6 5e-05\n",
      "Lowest loss is checkpoint 25000 with a training loss of 0.303933218177408\n",
      "rbs 3 0.0002\n",
      "Lowest loss is checkpoint 69000 with a training loss of 0.6908239233493805\n",
      "rbs 3 5e-05\n",
      "Lowest loss is checkpoint 89000 with a training loss of 0.20153054655063898\n",
      "rbs 6 0.0002\n",
      "Lowest loss is checkpoint 2000 with a training loss of 0.5904583162069321\n",
      "rbs 6 5e-05\n",
      "Lowest loss is checkpoint 97000 with a training loss of 0.18959189410787075\n"
     ]
    }
   ],
   "source": [
    "generic_path = '../jv_grid_search/'\n",
    "datasets = ['synthetic_nas', 'toeholds', 'rbs']\n",
    "\n",
    "for dataset in datasets:\n",
    "    for k in ks:\n",
    "        for lr in lrs:\n",
    "            # paths\n",
    "            spec_path = generic_path + dataset + '/k' + str(k) + '/'\n",
    "            data_path = spec_path + 'data/'\n",
    "            model_path =  spec_path + str(lr) + '/'\n",
    "            print(dataset, k, lr)\n",
    "            # get the lowest loss model - have to modify loss file path since accessing from here\n",
    "            try:\n",
    "                loss_file = pd.read_csv(model_path.split('../')[1] + 'train_results.txt', sep = '\\t')\n",
    "                chkpt, loss_df = get_lowest_loss_checkpoint(loss_file)\n",
    "                loss_df.to_csv(model_path.split('../')[1] + 'checkpoint_losses_over_time.csv', index = False)\n",
    "            except:\n",
    "                continue"
   ]
  }
 ],
 "metadata": {
  "kernelspec": {
   "display_name": "Python 3 (ipykernel)",
   "language": "python",
   "name": "python3"
  },
  "language_info": {
   "codemirror_mode": {
    "name": "ipython",
    "version": 3
   },
   "file_extension": ".py",
   "mimetype": "text/x-python",
   "name": "python",
   "nbconvert_exporter": "python",
   "pygments_lexer": "ipython3",
   "version": "3.8.13"
  }
 },
 "nbformat": 4,
 "nbformat_minor": 2
}
