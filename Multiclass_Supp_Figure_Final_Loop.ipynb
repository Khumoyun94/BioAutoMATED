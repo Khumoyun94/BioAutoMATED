{
 "cells": [
  {
   "cell_type": "markdown",
   "metadata": {},
   "source": [
    "Please note that to run different datasets, you should restart the kernel and run the import statement and general parameter definition blocks again. This is due to graph operations needing to be reset between every experiment."
   ]
  },
  {
   "cell_type": "code",
   "execution_count": null,
   "metadata": {
    "scrolled": true
   },
   "outputs": [],
   "source": [
    "sys.path.insert(1, './main_classes/')\n",
    "from CAML_wrapper import run_bioseqml\n",
    "\n",
    "import shutil\n",
    "import os\n",
    "\n",
    "# make directory where these results can live - no need to run if already have a directory\n",
    "os.mkdir('./final_exemplars/')"
   ]
  },
  {
   "cell_type": "markdown",
   "metadata": {},
   "source": [
    "# General Parameters (can be changed)"
   ]
  },
  {
   "cell_type": "code",
   "execution_count": null,
   "metadata": {},
   "outputs": [],
   "source": [
    "# specify parameters for the actual search (example)\n",
    "max_runtime_minutes = 60 # time in minutes to give to each implemented AutoML algorithms\n",
    "num_folds = 3 # recommend 3 - 5 folds for robustness\n",
    "verbosity = 0\n",
    "do_backup = False # make a backup of your outputs and models\n",
    "\n",
    "# Deepswarm execution\n",
    "num_final_epochs = 50\n",
    "yaml_params = {'ant_count': 4, 'max_depth': 3, 'epochs': 5}\n",
    "\n",
    "# TPOT execution\n",
    "num_generations = 50 # No need to specify\n",
    "population_size = 50 # No need to specify\n",
    "\n",
    "# required only for binary_classification\n",
    "# If do_auto_bin=True then binary threshold is set to None to be automatically generated\n",
    "do_auto_bin = True\n",
    "if do_auto_bin == True:\n",
    "    bin_threshold=None\n",
    "else:\n",
    "    bin_threshold = 0.75\n",
    "    \n",
    "# Optional Add-ons\n",
    "pad_seqs = 'max' # pads seqs to max length; options include 'max', 'min', 'average'\n",
    "augment_data = 'none' # available for nucleic acids: none, complement, rev_complement, both_complements\n",
    "dataset_robustness = True # try with different fractions of your dataset, may add time\n",
    "\n",
    "# interpretation options\n",
    "run_interpretation = True\n",
    "interpret_params = {'sample_number_class_activation_maps' : 100, \n",
    "                   'class_activation_grad_modifier' : 'absolute',\n",
    "                   'class_activation_layer_index' : -2,\n",
    "                    'sample_number_saliency_maps' : 100,\n",
    "                   'saliency_map_grad_modifier' : 'absolute',\n",
    "                   'saliency_map_layer_index' : -1, \n",
    "                   'sample_number_mutagenesis' : 100}\n",
    "\n",
    "# design options\n",
    "run_design = True\n",
    "design_params = {'k' : 3, \n",
    "                'substitution_type' : 'random',\n",
    "                'target_y' : 1,\n",
    "                'class_of_interest' : 3, # must be zero if task is regression\n",
    "                'constraint_file_path' : '',\n",
    "                'de_novo_num_seqs_to_test' : 10, #changd ffor peptiddesddown from100\n",
    "                'storm_num_seqs_to_test' : 5,\n",
    "                 'num_of_optimization_rounds' : 5}"
   ]
  },
  {
   "cell_type": "markdown",
   "metadata": {},
   "source": [
    "# RBS - Hollerer et al."
   ]
  },
  {
   "cell_type": "code",
   "execution_count": null,
   "metadata": {
    "scrolled": true
   },
   "outputs": [],
   "source": [
    "os.mkdir('./final_exemplars/rbs/')\n",
    "\n",
    "data_folder = './clean_data/multiclass/'\n",
    "data_file = 'rbs_medium_multiclass.csv'\n",
    "input_col = 'seq'\n",
    "target_col = 'target'\n",
    "sequence_type = 'nucleic_acid'\n",
    "\n",
    "task = 'multiclass_classification' # binary_classification, multiclass_classification, regression\n",
    "\n",
    "# Specify target folders for saving models and results\n",
    "# Generic here - will add the tags specifying classification/regression\n",
    "# as well as specific for the AutoML tool being used (i.e. /tpot/)\n",
    "model_folder = './final_exemplars/rbs/models/'\n",
    "output_folder = './final_exemplars/rbs/outputs/'\n",
    "\n",
    "run_bioseqml(task, data_folder, data_file, sequence_type, model_folder, output_folder, max_runtime_minutes, num_folds, verbosity, do_backup, do_auto_bin, bin_threshold, input_col, target_col, pad_seqs, augment_data, dataset_robustness, num_final_epochs, yaml_params, num_generations, population_size, run_interpretation = run_interpretation, interpret_params = interpret_params, run_design = run_design, design_params = design_params)\n",
    "            "
   ]
  },
  {
   "cell_type": "markdown",
   "metadata": {},
   "source": [
    "# Peptides"
   ]
  },
  {
   "cell_type": "code",
   "execution_count": null,
   "metadata": {},
   "outputs": [],
   "source": [
    "os.mkdir('./final_exemplars/peptides/')\n",
    "\n",
    "data_folder = './clean_data/multiclass/'\n",
    "data_file = 'peptides_multiclass.csv'\n",
    "input_col = 'seq'\n",
    "target_col = 'target'\n",
    "sequence_type = 'protein'\n",
    "\n",
    "task = 'multiclass_classification' # binary_classification, multiclass_classification, regression\n",
    "\n",
    "# Specify target folders for saving models and results\n",
    "# Generic here - will add the tags specifying classification/regression\n",
    "# as well as specific for the AutoML tool being used (i.e. /tpot/)\n",
    "model_folder = './final_exemplars/peptides/models/'\n",
    "output_folder = './final_exemplars/peptides/outputs/'\n",
    "\n",
    "run_bioseqml(task, data_folder, data_file, sequence_type, model_folder, output_folder, max_runtime_minutes, num_folds, verbosity, do_backup, do_auto_bin, bin_threshold, input_col, target_col, pad_seqs, augment_data, dataset_robustness, num_final_epochs, yaml_params, num_generations, population_size, run_interpretation = run_interpretation, interpret_params = interpret_params, run_design = run_design, design_params = design_params)\n"
   ]
  },
  {
   "cell_type": "markdown",
   "metadata": {},
   "source": [
    "# Glycan domain multi-class classification"
   ]
  },
  {
   "cell_type": "code",
   "execution_count": null,
   "metadata": {},
   "outputs": [],
   "source": [
    "# I prefered to do design & interpretation after the fact because I was impatient for models to run\n",
    "# Dataset robustness was not super applicable because only ~1300 samples here\n",
    "dataset_robustness = False\n",
    "run_interpretation = False\n",
    "run_design = False\n",
    "\n",
    "os.mkdir('./final_exemplars/glycan_domain_average/')\n",
    "\n",
    "data_folder = './clean_data/multiclass/'\n",
    "data_file = 'domain_glycans.csv'\n",
    "input_col = 'seq'\n",
    "target_col = 'target'\n",
    "sequence_type = 'glycan'\n",
    "pad_seqs = 'average'\n",
    "\n",
    "task = 'multiclass_classification' # binary_classification, multiclass_classification, regression\n",
    "\n",
    "# Specify target folders for saving models and results\n",
    "# Generic here - will add the tags specifying classification/regression\n",
    "# as well as specific for the AutoML tool being used (i.e. /tpot/)\n",
    "model_folder = './final_exemplars/glycan_domain_average/models/'\n",
    "output_folder = './final_exemplars/glycan_domain_average/outputs/'\n",
    "\n",
    "run_bioseqml(task, data_folder, data_file, sequence_type, model_folder, output_folder, max_runtime_minutes, num_folds, verbosity, do_backup, do_auto_bin, bin_threshold, input_col, target_col, pad_seqs, augment_data, dataset_robustness, num_final_epochs, yaml_params, num_generations, population_size, run_interpretation = run_interpretation, interpret_params = interpret_params, run_design = run_design, design_params = design_params)\n"
   ]
  },
  {
   "cell_type": "markdown",
   "metadata": {},
   "source": [
    "# Toeholds"
   ]
  },
  {
   "cell_type": "markdown",
   "metadata": {},
   "source": [
    "# Synthetic Nucleic Acids Dataset"
   ]
  },
  {
   "cell_type": "code",
   "execution_count": null,
   "metadata": {},
   "outputs": [],
   "source": [
    "os.mkdir('./final_exemplars/toeholds/')\n",
    "\n",
    "data_folder = './clean_data/multiclass/'\n",
    "data_file = 'toeholds_multiclass.csv'\n",
    "input_col = 'seq'\n",
    "target_col = 'target'\n",
    "sequence_type = 'nucleic_acid'\n",
    "\n",
    "constraint_file_path = 'clean_data/toehold_constraints.xlsx'\n",
    "\n",
    "task = 'multiclass_classification' # binary_classification, multiclass_classification, regression\n",
    "\n",
    "run_design = True\n",
    "design_params = {'k' : 3, \n",
    "                'substitution_type' : 'constrained_random',\n",
    "                'target_y' : 1,\n",
    "                'class_of_interest' : 3, # must be zero if task is regression\n",
    "                'constraint_file_path' : constraint_file_path,\n",
    "                'de_novo_num_seqs_to_test' : 100,\n",
    "                'storm_num_seqs_to_test' : 5,\n",
    "                 'num_of_optimization_rounds' : 5}\n",
    "\n",
    "# Specify target folders for saving models and results\n",
    "# Generic here - will add the tags specifying classification/regression\n",
    "# as well as specific for the AutoML tool being used (i.e. /tpot/)\n",
    "model_folder = './final_exemplars/toeholds/models/'\n",
    "output_folder = './final_exemplars/toeholds/outputs/'\n",
    "\n",
    "run_bioseqml(task, data_folder, data_file, sequence_type, model_folder, output_folder, max_runtime_minutes, num_folds, verbosity, do_backup, do_auto_bin, bin_threshold, input_col, target_col, pad_seqs, augment_data, dataset_robustness, num_final_epochs, yaml_params, num_generations, population_size, run_interpretation = run_interpretation, interpret_params = interpret_params, run_design = run_design, design_params = design_params)\n"
   ]
  },
  {
   "cell_type": "code",
   "execution_count": null,
   "metadata": {
    "scrolled": true
   },
   "outputs": [],
   "source": [
    "os.mkdir('./final_exemplars/synthetic_nucleic_acids/')\n",
    "\n",
    "data_folder = './clean_data/multiclass/'\n",
    "data_file = 'large_synthetic_multiclass.csv'\n",
    "input_col = 'seq'\n",
    "target_col = 'target'\n",
    "sequence_type = 'nucleic_acid'\n",
    "\n",
    "task = 'multiclass_classification' # binary_classification, multiclass_classification, regression\n",
    "\n",
    "# Specify target folders for saving models and results\n",
    "# Generic here - will add the tags specifying classification/regression\n",
    "# as well as specific for the AutoML tool being used (i.e. /tpot/)\n",
    "model_folder = './final_exemplars/synthetic_nucleic_acids/models/'\n",
    "output_folder = './final_exemplars/synthetic_nucleic_acids/outputs/'\n",
    "\n",
    "run_bioseqml(task, data_folder, data_file, sequence_type, model_folder, output_folder, max_runtime_minutes, num_folds, verbosity, do_backup, do_auto_bin, bin_threshold, input_col, target_col, pad_seqs, augment_data, dataset_robustness, num_final_epochs, yaml_params, num_generations, population_size, run_interpretation = run_interpretation, interpret_params = interpret_params, run_design = run_design, design_params = design_params)\n"
   ]
  },
  {
   "cell_type": "code",
   "execution_count": null,
   "metadata": {},
   "outputs": [],
   "source": []
  }
 ],
 "metadata": {
  "kernelspec": {
   "display_name": "automl_py37",
   "language": "python",
   "name": "automl_py37"
  },
  "language_info": {
   "codemirror_mode": {
    "name": "ipython",
    "version": 3
   },
   "file_extension": ".py",
   "mimetype": "text/x-python",
   "name": "python",
   "nbconvert_exporter": "python",
   "pygments_lexer": "ipython3",
   "version": "3.7.10"
  }
 },
 "nbformat": 4,
 "nbformat_minor": 2
}
