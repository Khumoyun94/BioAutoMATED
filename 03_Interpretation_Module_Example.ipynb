{
 "cells": [
  {
   "cell_type": "markdown",
   "metadata": {},
   "source": [
    "# NOTE: this code is normally obscured within BioAutoMATED\n",
    "### For maximum flexibility and so users can continue to explore different interpretation parameters, we have pulled out the relevant functionality for the intepretation module function."
   ]
  },
  {
   "cell_type": "code",
   "execution_count": 1,
   "metadata": {},
   "outputs": [
    {
     "name": "stderr",
     "output_type": "stream",
     "text": [
      "Using TensorFlow backend.\n"
     ]
    },
    {
     "name": "stdout",
     "output_type": "stream",
     "text": [
      "Better speed can be achieved with apex installed from https://www.github.com/nvidia/apex.\n"
     ]
    }
   ],
   "source": [
    "# import statements \n",
    "import sys\n",
    "sys.path.insert(1, './main_classes/')\n",
    "from interpret_helpers import process_input_for_interpret_module_after_architecture_search"
   ]
  },
  {
   "cell_type": "markdown",
   "metadata": {},
   "source": [
    "# Immunogenic glycans example"
   ]
  },
  {
   "cell_type": "code",
   "execution_count": 3,
   "metadata": {},
   "outputs": [
    {
     "name": "stdout",
     "output_type": "stream",
     "text": [
      "Confirmed: All sequence characters are in alphabet\n",
      "Padding all sequences to a length of 47\n",
      "Confirmed: No data augmentation requested\n",
      "Confirmed: Scrambled control generated.\n",
      "Generating in silico mutagenesis plots...\n",
      "./exemplars/glycans_immunogenic/outputs/deepswarm/binary_classification/interpretation/\n",
      "raw_data_class0.0_seq_logo.png\n",
      "WARNING:tensorflow:From /anaconda2/envs/automl_py37/lib/python3.7/site-packages/tensorflow/python/framework/op_def_library.py:263: colocate_with (from tensorflow.python.framework.ops) is deprecated and will be removed in a future version.\n",
      "Instructions for updating:\n",
      "Colocations handled automatically by placer.\n",
      "WARNING:tensorflow:From /anaconda2/envs/automl_py37/lib/python3.7/site-packages/tensorflow/python/ops/math_ops.py:3066: to_int32 (from tensorflow.python.ops.math_ops) is deprecated and will be removed in a future version.\n",
      "Instructions for updating:\n",
      "Use tf.cast instead.\n",
      "./exemplars/glycans_immunogenic/outputs/deepswarm/binary_classification/interpretation/\n",
      "raw_data_class1.0_seq_logo.png\n",
      "In silico mutagenesis plot saved to ./exemplars/glycans_immunogenic/outputs/deepswarm/binary_classification/interpretation/deepswarm_deploy_model_mutagenesis.png\n"
     ]
    }
   ],
   "source": [
    "# read in data file - you can provide a different data file than your training set!\n",
    "data_folder = './clean_data/clean/'\n",
    "data_file = 'immunogenic_glycans.csv'\n",
    "\n",
    "# give inputs for data generation - use the same parameters as those in original architecture search\n",
    "input_col = 'seq'\n",
    "target_col = 'target'\n",
    "sequence_type = 'glycan'\n",
    "pad_seqs = 'max'\n",
    "\n",
    "task = 'binary_classification' # binary_classification, multiclass_classification, regression\n",
    "\n",
    "model_folder = './exemplars/glycans_immunogenic/models/'\n",
    "output_folder = './exemplars/glycans_immunogenic/outputs/'\n",
    "\n",
    "# give inputs for interpretation options\n",
    "interpret_params = {'sample_number_class_activation_maps' : 100, \n",
    "                   'class_activation_grad_modifier' : 'absolute',\n",
    "                   'class_activation_layer_index' : -2,\n",
    "                    'sample_number_saliency_maps' : 100,\n",
    "                   'saliency_map_grad_modifier' : 'absolute',\n",
    "                   'saliency_map_layer_index' : -1, \n",
    "                   'sample_number_mutagenesis' : 100}\n",
    "\n",
    "model_type = 'deepswarm'\n",
    "interpretation_technique = 'mutagenesis'\n",
    "process_input_for_interpret_module_after_architecture_search(task, data_folder, data_file, sequence_type, model_folder, output_folder, model_type, interpretation_technique = interpretation_technique, pad_seqs = pad_seqs, input_col = input_col, target_col = target_col, interpret_params = interpret_params)\n"
   ]
  },
  {
   "cell_type": "markdown",
   "metadata": {},
   "source": [
    "# Toeholds - binary classification example"
   ]
  },
  {
   "cell_type": "code",
   "execution_count": 3,
   "metadata": {
    "scrolled": false
   },
   "outputs": [
    {
     "name": "stdout",
     "output_type": "stream",
     "text": [
      "Confirmed: All sequence characters are in alphabet\n",
      "Confirmed: No need to pad or truncate, all sequences same length\n",
      "Confirmed: No data augmentation requested\n",
      "Confirmed: Scrambled control generated.\n",
      "Generating saliency maps...\n",
      "WARNING:tensorflow:From /anaconda2/envs/automl_py37/lib/python3.7/site-packages/tensorflow/python/framework/op_def_library.py:263: colocate_with (from tensorflow.python.framework.ops) is deprecated and will be removed in a future version.\n",
      "Instructions for updating:\n",
      "Colocations handled automatically by placer.\n",
      "WARNING:tensorflow:From /anaconda2/envs/automl_py37/lib/python3.7/site-packages/tensorflow/python/ops/math_ops.py:3066: to_int32 (from tensorflow.python.ops.math_ops) is deprecated and will be removed in a future version.\n",
      "Instructions for updating:\n",
      "Use tf.cast instead.\n",
      "Saliency map saved to ./exemplars/toeholds/outputs/deepswarm/binary_classification/interpretation/deepswarm_deploy_model_saliency.png\n",
      "Generating class activation maps...\n",
      "Activation map saved to ./exemplars/toeholds/outputs/deepswarm/binary_classification/interpretation/deepswarm_deploy_modeldeepswarm_deploy_model_activation.png\n",
      "Generating in silico mutagenesis plots...\n",
      "In silico mutagenesis plot saved to ./exemplars/toeholds/outputs/deepswarm/binary_classification/interpretation/deepswarm_deploy_modeldeepswarm_deploy_modeldeepswarm_deploy_model_mutagenesis.png\n"
     ]
    }
   ],
   "source": [
    "# read in data file - you can provide a different data file than your training set!\n",
    "data_folder = './clean_data/clean/'\n",
    "data_file = 'toeholds.csv'\n",
    "\n",
    "# give inputs for data generation - use the same parameters as those in original architecture search\n",
    "input_col = 'seq'\n",
    "target_col = 'ON'\n",
    "sequence_type = 'nucleic_acid'\n",
    "\n",
    "task = 'binary_classification' # binary_classification, multiclass_classification, regression\n",
    "\n",
    "model_folder = './exemplars/toeholds/models/'\n",
    "output_folder = './exemplars/toeholds/outputs/'\n",
    "\n",
    "# give inputs for interpretation options\n",
    "interpret_params = {'sample_number_class_activation_maps' : 100, \n",
    "                   'class_activation_grad_modifier' : 'absolute',\n",
    "                   'class_activation_layer_index' : -2,\n",
    "                    'sample_number_saliency_maps' : 100,\n",
    "                   'saliency_map_grad_modifier' : 'absolute',\n",
    "                   'saliency_map_layer_index' : -1, \n",
    "                   'sample_number_mutagenesis' : 100}\n",
    "\n",
    "model_type = 'deepswarm'\n",
    "process_input_for_interpret_module_after_architecture_search(task, data_folder, data_file, sequence_type, model_folder, output_folder, model_type, input_col = input_col, target_col = target_col, interpret_params = interpret_params)"
   ]
  }
 ],
 "metadata": {
  "kernelspec": {
   "display_name": "automl_py37",
   "language": "python",
   "name": "automl_py37"
  },
  "language_info": {
   "codemirror_mode": {
    "name": "ipython",
    "version": 3
   },
   "file_extension": ".py",
   "mimetype": "text/x-python",
   "name": "python",
   "nbconvert_exporter": "python",
   "pygments_lexer": "ipython3",
   "version": "3.7.10"
  }
 },
 "nbformat": 4,
 "nbformat_minor": 2
}
