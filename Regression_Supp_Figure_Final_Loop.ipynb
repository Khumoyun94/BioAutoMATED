{
 "cells": [
  {
   "cell_type": "markdown",
   "metadata": {},
   "source": [
    "Please note that to run different datasets, you should restart the kernel and run the import statement and general parameter definition blocks again. This is due to graph operations needing to be reset between every experiment."
   ]
  },
  {
   "cell_type": "code",
   "execution_count": 1,
   "metadata": {},
   "outputs": [
    {
     "name": "stderr",
     "output_type": "stream",
     "text": [
      "Using TensorFlow backend.\n"
     ]
    },
    {
     "name": "stdout",
     "output_type": "stream",
     "text": [
      "Better speed can be achieved with apex installed from https://www.github.com/nvidia/apex.\n"
     ]
    }
   ],
   "source": [
    "import sys\n",
    "sys.path.insert(1, 'main_classes/')\n",
    "\n",
    "from BioSeqAutoML_wrapper import run_bioseqml\n",
    "import shutil\n",
    "import os\n",
    "\n",
    "# make directory where these results can live - no need to run if already have a directory\n",
    "#os.mkdir('./final_exemplars/')"
   ]
  },
  {
   "cell_type": "markdown",
   "metadata": {},
   "source": [
    "# General Parameters (can be changed)"
   ]
  },
  {
   "cell_type": "code",
   "execution_count": 2,
   "metadata": {},
   "outputs": [],
   "source": [
    "# ### input arguments \n",
    "#     task : str, one of 'binary_classification', 'multiclass_classification', 'regression'\n",
    "#     data_folder : str representing folder where data is stored\n",
    "#     data_file : str representing file name where data is stored\n",
    "#     sequence_type : str, either 'nucleic_acid', 'peptide', or 'glycan'\n",
    "#     model_folder : str representing folder where models are to be stored\n",
    "#     output_folder : str representing folder where output is to be stored\n",
    "#     automl_search_techniques : str representing which AutoML search technique should be performed, one of 'all', 'deepswarm', 'autokeras', 'tpot'\n",
    "#     do_backup : bool representing if a backup should be performed\n",
    "#     max_runtime_minutes : int representing max runtime for model search in minutes\n",
    "#     num_folds : int representing num folds\n",
    "#     verbosity : int representing 0=not verbose, 1=verbose\n",
    "#     do_auto_bin : bool representing if target values should be automatically binned\n",
    "#     bin_threshold : float representing threshold for positive and negative classes\n",
    "#     do_transform : bool representing if target values should be transformed\n",
    "#     input_col : str representing input column name where sequences can be located\n",
    "#     target_col : str representing target column name where target values can be located\n",
    "#     pad_seqs : str indicating pad_seqs method, either 'max', 'min', 'average'\n",
    "#     augment_data : str, either 'none', 'complement', 'reverse_complement', or 'both_complements'\n",
    "#     dataset_robustness : bool indicating if data ablation study should be performed\n",
    "#     num_final_epochs : int representing number of final epochs to train final deepswarm model\n",
    "#     yaml_params : dict of extra deepswarm parameters, with keys 'max_depth' (int), 'ant_count' (int), 'epochs' (int)\n",
    "#     num_generations : int representing number of generations of tpot search\n",
    "#     population_size : int representing population size of tpot search\n",
    "#     run_interpretation : bool indicating if interpretation module should be executed\n",
    "#     interpret_params : dict of extra interpretation parameters, with keys 'sample_number_class_activation_maps' (int), 'class_activation_grad_modifier' (str), 'class_activation_layer_index' (int);\n",
    "#         'sample_number_saliency_maps' (int), 'saliency_map_grad_modifier' (str), 'saliency_map_layer_index' (int), 'sample_number_mutagenesis' (int)\n",
    "#     run_design : bool indicating if design module should be executed\n",
    "#     design_params :dict of extra design parameters, with keys 'k' (int), 'substitution_type' (str), 'target_y' (float), 'class_of_interest' (int), 'constraint_file_path' (str);\n",
    "#         'de_novo_num_seqs_to_test' (int), 'storm_num_seqs_to_test' (int), 'num_of_optimization_rounds' (int)\n",
    "# ###"
   ]
  },
  {
   "cell_type": "code",
   "execution_count": 3,
   "metadata": {},
   "outputs": [],
   "source": [
    "# specify parameters for the actual search if different from defaults\n",
    "num_folds = 3 # recommend 3 - 5 folds for robustness\n",
    "do_backup = False\n",
    "\n",
    "# interpretation options\n",
    "run_interpretation = True\n",
    "\n",
    "# design options\n",
    "run_design = True\n",
    "design_params = {'k' : 3, \n",
    "                'substitution_type' : 'random',\n",
    "                'target_y' : 1,\n",
    "                'class_of_interest' : 0, # must be zero if task is regression\n",
    "                'constraint_file_path' : '',\n",
    "                'de_novo_num_seqs_to_test' : 100,\n",
    "                'storm_num_seqs_to_test' : 5,\n",
    "                 'num_of_optimization_rounds' : 5}"
   ]
  },
  {
   "cell_type": "markdown",
   "metadata": {},
   "source": [
    "# RBS - Hollerer et al."
   ]
  },
  {
   "cell_type": "code",
   "execution_count": null,
   "metadata": {
    "scrolled": true
   },
   "outputs": [],
   "source": [
    "#shutil.rmtree('./final_exemplars/rbs/', ignore_errors = True)\n",
    "#os.mkdir('./final_exemplars/rbs_fullset/')\n",
    "\n",
    "data_folder = './clean_data/clean/'\n",
    "data_file = 'hollerer_rbs_mediumtrain.csv'\n",
    "input_col = 'seq'\n",
    "target_col = 'out'\n",
    "sequence_type = 'nucleic_acid'\n",
    "\n",
    "task = 'regression' # binary_classification, multiclass_classification, regression\n",
    "\n",
    "model_folder = './final_exemplars/rbs_fullset/models/'\n",
    "output_folder = './final_exemplars/rbs_fullset/outputs/'\n",
    "\n",
    "run_bioseqml(task, data_folder, data_file, sequence_type, model_folder, output_folder, num_folds=num_folds, do_backup=do_backup, input_col=input_col, target_col=target_col, run_interpretation=run_interpretation, run_design=run_design, design_params=design_params)\n",
    "            "
   ]
  },
  {
   "cell_type": "markdown",
   "metadata": {},
   "source": [
    "# Synthetic Nucleic Acids Dataset"
   ]
  },
  {
   "cell_type": "code",
   "execution_count": null,
   "metadata": {},
   "outputs": [],
   "source": [
    "#shutil.rmtree('./final_exemplars/synthetic_nucleic_acids/', ignore_errors = True)\n",
    "os.mkdir('./final_exemplars/synthetic_nucleic_acids/')\n",
    "\n",
    "data_folder = './clean_data/clean/'\n",
    "data_file = 'large_synthetic.csv'\n",
    "input_col = 'seq'\n",
    "target_col = 'positive_score'\n",
    "sequence_type = 'nucleic_acid'\n",
    "\n",
    "task = 'regression' # binary_classification, multiclass_classification, regression\n",
    "\n",
    "model_folder = './final_exemplars/synthetic_nucleic_acids/models/'\n",
    "output_folder = './final_exemplars/synthetic_nucleic_acids/outputs/'\n",
    "\n",
    "run_bioseqml(task, data_folder, data_file, sequence_type, model_folder, output_folder, num_folds=num_folds, do_backup=do_backup, input_col=input_col, target_col=target_col, run_interpretation=run_interpretation, run_design=run_design, design_params=design_params)\n"
   ]
  },
  {
   "cell_type": "code",
   "execution_count": 4,
   "metadata": {},
   "outputs": [
    {
     "name": "stdout",
     "output_type": "stream",
     "text": [
      "Verbosity set to 0. For more display items, set verbosity to 1.\n",
      "#################################################################################################\n",
      "#######################               RUNNING REGRESSION                  #######################\n",
      "#################################################################################################\n",
      "\n",
      "#################################################################################################\n",
      "##############################            RUNNING TPOT                ###########################\n",
      "#################################################################################################\n",
      "Conducting architecture search now...\n",
      "Testing scrambled control now...\n",
      "Fitting final model now...\n",
      "BioSeq-AutoML has concluded.\n"
     ]
    }
   ],
   "source": [
    "# do small test\n",
    "dataset_robustness = False\n",
    "run_interpretation = False\n",
    "run_design = False\n",
    "\n",
    "#shutil.rmtree('./final_exemplars/synthetic_nucleic_acids/', ignore_errors = True)\n",
    "#os.mkdir('./final_exemplars/small_synthetic_nucleic_acids/')\n",
    "\n",
    "data_folder = './clean_data/clean/'\n",
    "data_file = 'small_synthetic.csv'\n",
    "input_col = 'seq'\n",
    "target_col = 'positive_score'\n",
    "sequence_type = 'nucleic_acid'\n",
    "\n",
    "task = 'regression' # binary_classification, multiclass_classification, regression\n",
    "\n",
    "model_folder = './final_exemplars/small_synthetic_nucleic_acids/models/'\n",
    "output_folder = './final_exemplars/small_synthetic_nucleic_acids/outputs/'\n",
    "\n",
    "run_bioseqml(task, data_folder, data_file, sequence_type, model_folder, output_folder, automl_search_techniques = 'tpot', num_folds=num_folds, do_backup=do_backup, input_col=input_col, target_col=target_col, run_interpretation=run_interpretation, run_design=run_design, design_params=design_params)\n"
   ]
  },
  {
   "cell_type": "markdown",
   "metadata": {},
   "source": [
    "# Peptides"
   ]
  },
  {
   "cell_type": "code",
   "execution_count": null,
   "metadata": {},
   "outputs": [],
   "source": [
    "#shutil.rmtree('./final_exemplars/peptides/', ignore_errors = True)\n",
    "#os.mkdir('./final_exemplars/peptides/')\n",
    "\n",
    "data_folder = './clean_data/clean/'\n",
    "data_file = 'peptides.csv'\n",
    "input_col = 'seq'\n",
    "target_col = 'target'\n",
    "sequence_type = 'protein'\n",
    "\n",
    "task = 'regression' # binary_classification, multiclass_classification, regression\n",
    "\n",
    "model_folder = './final_exemplars/peptides/models/'\n",
    "output_folder = './final_exemplars/peptides/outputs/'\n",
    "\n",
    "run_bioseqml(task, data_folder, data_file, sequence_type, model_folder, output_folder, num_folds=num_folds, do_backup=do_backup, input_col=input_col, target_col=target_col, run_interpretation=run_interpretation, run_design=run_design, design_params=design_params)\n"
   ]
  },
  {
   "cell_type": "markdown",
   "metadata": {},
   "source": [
    "# Toeholds"
   ]
  },
  {
   "cell_type": "code",
   "execution_count": null,
   "metadata": {
    "scrolled": true
   },
   "outputs": [],
   "source": [
    "#shutil.rmtree('./final_exemplars/toeholds/', ignore_errors = True)\n",
    "#os.mkdir('./final_exemplars/toeholds/')\n",
    "\n",
    "data_folder = './clean_data/clean/'\n",
    "data_file = 'toeholds.csv'\n",
    "input_col = 'seq'\n",
    "target_col = 'ON'\n",
    "sequence_type = 'nucleic_acid'\n",
    "\n",
    "constraint_file_path = 'clean_data/toehold_constraints.xlsx'\n",
    "\n",
    "task = 'regression' # binary_classification, multiclass_classification, regression\n",
    "\n",
    "run_design = True\n",
    "design_params = {'k' : 3, \n",
    "                'substitution_type' : 'constrained_random',\n",
    "                'target_y' : 1,\n",
    "                'class_of_interest' : 0, # must be zero if task is regression\n",
    "                'constraint_file_path' : constraint_file_path,\n",
    "                'de_novo_num_seqs_to_test' : 100,\n",
    "                'storm_num_seqs_to_test' : 5,\n",
    "                 'num_of_optimization_rounds' : 5}\n",
    "\n",
    "model_folder = './final_exemplars/toeholds/models/'\n",
    "output_folder = './final_exemplars/toeholds/outputs/'\n",
    "\n",
    "run_bioseqml(task, data_folder, data_file, sequence_type, model_folder, output_folder, num_folds=num_folds, do_backup=do_backup, input_col=input_col, target_col=target_col, run_interpretation=run_interpretation, run_design=run_design, design_params=design_params)\n"
   ]
  },
  {
   "cell_type": "markdown",
   "metadata": {},
   "source": [
    "# Longer Protein Sequences - FLIP Experiment"
   ]
  },
  {
   "cell_type": "code",
   "execution_count": null,
   "metadata": {},
   "outputs": [],
   "source": [
    "#shutil.rmtree('./final_exemplars/flip_longer_protein/', ignore_errors = True)\n",
    "os.mkdir('./final_exemplars/flip_longer_protein/')\n",
    "\n",
    "# specify parameters for the actual search if different from defaults\n",
    "num_folds = 3 # recommend 3 - 5 folds for robustness\n",
    "do_backup = False # make a backup of your outputs and models\n",
    "\n",
    "# optional add-ons\n",
    "dataset_robustness = False # try with different fractions of your dataset, may add time\n",
    "run_interpretation = False\n",
    "run_design = False\n",
    "\n",
    "data_folder = './clean_data/clean/'\n",
    "data_file = 'flip_protein_train.csv'\n",
    "input_col = 'sequence'\n",
    "target_col = 'target'\n",
    "sequence_type = 'protein'\n",
    "task = 'regression' # binary_classification, multiclass_classification, regression\n",
    "\n",
    "model_folder = './final_exemplars/flip_longer_protein/models/'\n",
    "output_folder = './final_exemplars/flip_longer_protein/outputs/'\n",
    "\n",
    "run_bioseqml(task, data_folder, data_file, sequence_type, model_folder, output_folder, num_folds=num_folds, do_backup=do_backup, input_col=input_col, target_col=target_col, dataset_robustness=dataset_robustness, run_interpretation=run_interpretation, run_design=run_design)"
   ]
  },
  {
   "cell_type": "markdown",
   "metadata": {},
   "source": [
    "# Longer Protein Sequences - avGFP Experiment"
   ]
  },
  {
   "cell_type": "code",
   "execution_count": 4,
   "metadata": {},
   "outputs": [
    {
     "name": "stdout",
     "output_type": "stream",
     "text": [
      "Verbosity set to 0. For more display items, set verbosity to 1.\n",
      "#################################################################################################\n",
      "#######################               RUNNING REGRESSION                  #######################\n",
      "#################################################################################################\n",
      "\n",
      "#################################################################################################\n",
      "##############################            RUNNING DEEPSWARM           ###########################\n",
      "#################################################################################################\n",
      "Conducting architecture search now...\n",
      "0\n",
      "Testing scrambled control now...\n",
      "Fitting final model now...\n",
      "#################################################################################################\n",
      "##############################            RUNNING AUTOKERAS           ###########################\n",
      "#################################################################################################\n",
      "Conducting architecture search now...\n",
      "Testing scrambled control now...\n",
      "Fitting final model now...\n",
      "#################################################################################################\n",
      "##############################            RUNNING TPOT                ###########################\n",
      "#################################################################################################\n",
      "Conducting architecture search now...\n",
      "Testing scrambled control now...\n",
      "Fitting final model now...\n",
      "BioSeq-AutoML has concluded.\n"
     ]
    }
   ],
   "source": [
    "#shutil.rmtree('./final_exemplars/avgfp/', ignore_errors = True)\n",
    "os.mkdir('./final_exemplars/avgfp/')\n",
    "\n",
    "# specify parameters for the actual search if different from defaults\n",
    "num_folds = 3 # recommend 3 - 5 folds for robustness\n",
    "do_backup = False # make a backup of your outputs and models\n",
    "\n",
    "# optional add-ons\n",
    "dataset_robustness = False # try with different fractions of your dataset, may add time\n",
    "run_interpretation = False\n",
    "run_design = False\n",
    "\n",
    "data_folder = './clean_data/clean/'\n",
    "data_file = 'avgfp.csv'\n",
    "input_col = 'sequence'\n",
    "target_col = 'target'\n",
    "sequence_type = 'protein'\n",
    "task = 'regression' # binary_classification, multiclass_classification, regression\n",
    "\n",
    "model_folder = './final_exemplars/avgfp/models/'\n",
    "output_folder = './final_exemplars/avgfp/outputs/'\n",
    "\n",
    "run_bioseqml(task, data_folder, data_file, sequence_type, model_folder, output_folder, num_folds=num_folds, do_backup=do_backup, input_col=input_col, target_col=target_col, dataset_robustness=dataset_robustness, run_interpretation=run_interpretation, run_design=run_design)"
   ]
  }
 ],
 "metadata": {
  "kernelspec": {
   "display_name": "automl_py37",
   "language": "python",
   "name": "automl_py37"
  },
  "language_info": {
   "codemirror_mode": {
    "name": "ipython",
    "version": 3
   },
   "file_extension": ".py",
   "mimetype": "text/x-python",
   "name": "python",
   "nbconvert_exporter": "python",
   "pygments_lexer": "ipython3",
   "version": "3.7.10"
  }
 },
 "nbformat": 4,
 "nbformat_minor": 2
}
