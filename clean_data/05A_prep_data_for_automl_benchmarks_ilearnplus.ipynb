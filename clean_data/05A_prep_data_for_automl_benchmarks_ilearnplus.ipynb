{
 "cells": [
  {
   "cell_type": "code",
   "execution_count": 1,
   "metadata": {},
   "outputs": [],
   "source": [
    "import pandas as pd\n",
    "import matplotlib.pyplot as plt\n",
    "import numpy as np"
   ]
  },
  {
   "cell_type": "markdown",
   "metadata": {},
   "source": [
    "# Helper function"
   ]
  },
  {
   "cell_type": "code",
   "execution_count": 2,
   "metadata": {},
   "outputs": [],
   "source": [
    "def write_to_file(filename, df, seq_col, sco_col, median = None):\n",
    "    file = open(filename, \"w\")\n",
    "    index = 0\n",
    "    for seq, on in zip(list(df[seq_col]), list(df[sco_col])):\n",
    "        if median is not None:\n",
    "            if on <= median:\n",
    "                binary = 0\n",
    "            if on > median:\n",
    "                binary = 1   \n",
    "            on = binary\n",
    "        file.write(\">\" + str(index) + \"|\" + str(on) + \"\\n\" + seq + \"\\n\")\n",
    "        index = index + 1\n",
    "    file.close() #do not forget to close it"
   ]
  },
  {
   "cell_type": "markdown",
   "metadata": {},
   "source": [
    "# Part 1: Clean toeholds"
   ]
  },
  {
   "cell_type": "code",
   "execution_count": 3,
   "metadata": {},
   "outputs": [],
   "source": [
    "# Load in data\n",
    "toehold = pd.read_csv('clean/toeholds.csv')\n",
    "write_to_file(\"clean/ilearnplus/toeholds_fasta.txt\", toehold, 'seq', 'ON')"
   ]
  },
  {
   "cell_type": "code",
   "execution_count": 4,
   "metadata": {},
   "outputs": [],
   "source": [
    "# and do binary classification version manually based on median (same as BioAutoMATED)\n",
    "toehold = pd.read_csv('clean/toeholds.csv')\n",
    "median = np.median(list(toehold['ON']))\n",
    "write_to_file(\"clean/ilearnplus/classification_toeholds_fasta.txt\", toehold, 'seq', 'ON', median)"
   ]
  },
  {
   "cell_type": "markdown",
   "metadata": {},
   "source": [
    "# Part 2: Peptides"
   ]
  },
  {
   "cell_type": "code",
   "execution_count": 23,
   "metadata": {},
   "outputs": [],
   "source": [
    "# this is the regression dataset\n",
    "peptide = pd.read_csv('clean/regression_all_peptides.csv')\n",
    "write_to_file(\"clean/ilearnplus/regression_peptides_fasta.txt\", peptide, 'seq', 'target')"
   ]
  },
  {
   "cell_type": "code",
   "execution_count": 24,
   "metadata": {},
   "outputs": [],
   "source": [
    "# now do for the classification train & test sets\n",
    "peptide = pd.read_csv('clean/classification_train_peptides.csv')\n",
    "write_to_file(\"clean/ilearnplus/classification_train_peptides.txt\", peptide, 'seq', 'target')"
   ]
  },
  {
   "cell_type": "code",
   "execution_count": 25,
   "metadata": {},
   "outputs": [],
   "source": [
    "# now do for the classification train & test sets\n",
    "peptide = pd.read_csv('clean/classification_test_peptides.csv')\n",
    "write_to_file(\"clean/ilearnplus/classification_test_peptides_fasta.txt\", peptide, 'seq', 'target')"
   ]
  },
  {
   "cell_type": "markdown",
   "metadata": {},
   "source": [
    "# Part 3: RBS"
   ]
  },
  {
   "cell_type": "code",
   "execution_count": 26,
   "metadata": {},
   "outputs": [],
   "source": [
    "rbs = pd.read_csv('clean/hollerer_rbs_train.csv')\n",
    "write_to_file(\"clean/ilearnplus/hollerer_rbs_train_fasta.txt\", rbs, 'seq', 'out')"
   ]
  },
  {
   "cell_type": "code",
   "execution_count": 27,
   "metadata": {},
   "outputs": [],
   "source": [
    "rbs = pd.read_csv('clean/hollerer_rbs_test.csv')\n",
    "write_to_file(\"clean/ilearnplus/hollerer_rbs_test_fasta.txt\", rbs, 'seq', 'out')"
   ]
  },
  {
   "cell_type": "code",
   "execution_count": 2,
   "metadata": {},
   "outputs": [],
   "source": [
    "rbs = pd.read_csv('clean/hollerer_rbs_mediumtrain.csv')\n",
    "write_to_file(\"clean/ilearnplus/hollerer_rbs_mediumtrain_fasta.txt\", rbs, 'seq', 'out')"
   ]
  },
  {
   "cell_type": "code",
   "execution_count": 3,
   "metadata": {},
   "outputs": [],
   "source": [
    "# and do binary classification version manually based on median (same as BioAutoMATED)\n",
    "rbs = pd.read_csv('clean/hollerer_rbs_train.csv')\n",
    "median = np.median(list(rbs['out']))\n",
    "write_to_file(\"clean/ilearnplus/classification_hollerer_rbs_train_fasta.txt\", rbs, 'seq', 'out', median = median)\n",
    "\n",
    "# keep same median for test\n",
    "rbs = pd.read_csv('clean/hollerer_rbs_test.csv')\n",
    "write_to_file(\"clean/ilearnplus/classification_hollerer_rbs_test_fasta.txt\", rbs, 'seq', 'out', median = median)\n",
    "\n",
    "rbs = pd.read_csv('clean/hollerer_rbs_mediumtrain.csv')\n",
    "median = np.median(list(rbs['out']))\n",
    "write_to_file(\"clean/ilearnplus/classification_hollerer_rbs_mediumtrain_fasta.txt\", rbs, 'seq', 'out', median = median)"
   ]
  },
  {
   "cell_type": "markdown",
   "metadata": {},
   "source": [
    "# Part 4: Synthetic Control"
   ]
  },
  {
   "cell_type": "code",
   "execution_count": 28,
   "metadata": {},
   "outputs": [],
   "source": [
    "synth = pd.read_csv('clean/small_synthetic.csv')\n",
    "write_to_file(\"clean/ilearnplus/small_synthetic_fasta.txt\", synth, 'seq', 'positive_score')"
   ]
  },
  {
   "cell_type": "code",
   "execution_count": 3,
   "metadata": {},
   "outputs": [],
   "source": [
    "synth = pd.read_csv('clean/large_synthetic.csv')\n",
    "write_to_file(\"clean/ilearnplus/large_synthetic_fasta.txt\", synth, 'seq', 'positive_score')"
   ]
  },
  {
   "cell_type": "code",
   "execution_count": 4,
   "metadata": {},
   "outputs": [],
   "source": [
    "# and do binary classification version manually based on median (same as BioAutoMATED)\n",
    "synth = pd.read_csv('clean/small_synthetic.csv')\n",
    "median = np.median(list(synth['positive_score']))\n",
    "write_to_file(\"clean/ilearnplus/classification_small_synthetic_fasta.txt\", synth, 'seq', 'positive_score', median = median)\n",
    "\n",
    "synth = pd.read_csv('clean/large_synthetic.csv')\n",
    "median = np.median(list(synth['positive_score']))\n",
    "write_to_file(\"clean/ilearnplus/classification_large_synthetic_fasta.txt\", synth, 'seq', 'positive_score', median = median)"
   ]
  }
 ],
 "metadata": {
  "kernelspec": {
   "display_name": "Python 3",
   "language": "python",
   "name": "python3"
  },
  "language_info": {
   "codemirror_mode": {
    "name": "ipython",
    "version": 3
   },
   "file_extension": ".py",
   "mimetype": "text/x-python",
   "name": "python",
   "nbconvert_exporter": "python",
   "pygments_lexer": "ipython3",
   "version": "3.8.3"
  }
 },
 "nbformat": 4,
 "nbformat_minor": 2
}
