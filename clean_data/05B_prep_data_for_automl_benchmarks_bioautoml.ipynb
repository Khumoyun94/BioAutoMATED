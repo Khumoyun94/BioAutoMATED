{
 "cells": [
  {
   "cell_type": "code",
   "execution_count": 1,
   "metadata": {},
   "outputs": [],
   "source": [
    "import pandas as pd\n",
    "import matplotlib.pyplot as plt\n",
    "import numpy as np"
   ]
  },
  {
   "cell_type": "markdown",
   "metadata": {},
   "source": [
    "# Helper function"
   ]
  },
  {
   "cell_type": "code",
   "execution_count": 1,
   "metadata": {},
   "outputs": [],
   "source": [
    "def write_to_fasta_and_csv(outpath, df, seq_col, sco_col, median, small_break = None, mod_peptides = False):\n",
    "    file = open(outpath + '.fasta', 'w')\n",
    "    index = 0\n",
    "    vals = []\n",
    "    posseqs = []\n",
    "    negseqs = []\n",
    "    for seq, on in zip(list(df[seq_col]), list(df[sco_col])):\n",
    "        if small_break is not None:\n",
    "            if index > small_break:\n",
    "                break\n",
    "        if mod_peptides:\n",
    "            seq = seq.replace(\"J\", \"L\")\n",
    "        file.write(\">\" + str(index) + \"\\n\" + seq + \"\\n\")\n",
    "        index = index + 1\n",
    "        if on <= median:\n",
    "            binary = 0\n",
    "            negseqs.append(seq)\n",
    "        if on > median:\n",
    "            binary = 1\n",
    "            posseqs.append(seq)\n",
    "        vals.append(binary)\n",
    "    file.close() #do not forget to close it\n",
    "    df = pd.DataFrame()\n",
    "    df['value'] = vals\n",
    "    df.to_csv(outpath + '.csv')\n",
    "    \n",
    "    # and make specific fastas for the negative and positive seqs\n",
    "    file = open(outpath + '_negseqs.fasta', 'w')\n",
    "    for index, seq in enumerate(negseqs):\n",
    "        if mod_peptides:\n",
    "            seq = seq.replace(\"J\", \"L\")\n",
    "        file.write(\">\" + str(index) + \"\\n\" + seq + \"\\n\")\n",
    "    file.close() #do not forget to close it\n",
    "    file = open(outpath + '_posseqs.fasta', 'w')\n",
    "    for index, seq in enumerate(posseqs):\n",
    "        if mod_peptides:\n",
    "            seq = seq.replace(\"J\", \"L\")\n",
    "        file.write(\">\" + str(index) + \"\\n\" + seq + \"\\n\")\n",
    "    file.close() #do not forget to close it"
   ]
  },
  {
   "cell_type": "markdown",
   "metadata": {},
   "source": [
    "# Part 1: Clean toeholds"
   ]
  },
  {
   "cell_type": "code",
   "execution_count": 8,
   "metadata": {},
   "outputs": [],
   "source": [
    "# Load in data\n",
    "toehold = pd.read_csv('clean/toeholds.csv')\n",
    "median = np.median(list(toehold['ON']))\n",
    "outpath = \"clean/bioautoml/classification_toeholds\"\n",
    "write_to_fasta_and_csv(outpath, toehold, 'seq', 'ON', median)"
   ]
  },
  {
   "cell_type": "code",
   "execution_count": 9,
   "metadata": {},
   "outputs": [],
   "source": [
    "# Load in data\n",
    "toehold = pd.read_csv('clean/toeholds.csv')\n",
    "median = np.median(list(toehold['ON']))\n",
    "outpath = \"clean/bioautoml/classification_small_toeholds\"\n",
    "write_to_fasta_and_csv(outpath, toehold, 'seq', 'ON', median, small_break = 1000)"
   ]
  },
  {
   "cell_type": "markdown",
   "metadata": {},
   "source": [
    "# Part 2: Peptides"
   ]
  },
  {
   "cell_type": "code",
   "execution_count": 10,
   "metadata": {},
   "outputs": [],
   "source": [
    "# Load in data\n",
    "peptide = pd.read_csv('clean/classification_train_peptides.csv')\n",
    "outpath = \"clean/bioautoml/classification_train_peptides\"\n",
    "write_to_fasta_and_csv(outpath, peptide, 'seq', 'target', 0.5)"
   ]
  },
  {
   "cell_type": "code",
   "execution_count": 2,
   "metadata": {},
   "outputs": [],
   "source": [
    "# BIOAUTOML cannot handle Js in peptide data! replace with L for all J\n",
    "# Load in data\n",
    "peptide = pd.read_csv('clean/classification_train_peptides.csv')\n",
    "outpath = \"clean/bioautoml/classification_train_NO_J_peptides\"\n",
    "write_to_fasta_and_csv(outpath, peptide, 'seq', 'target', 0.5, mod_peptides = True)"
   ]
  },
  {
   "cell_type": "markdown",
   "metadata": {},
   "source": [
    "# Part 3: RBS"
   ]
  },
  {
   "cell_type": "code",
   "execution_count": 11,
   "metadata": {},
   "outputs": [],
   "source": [
    "# and do binary classification version manually based on median (same as BioSeq-AutoML)\n",
    "rbs = pd.read_csv('clean/hollerer_rbs_train.csv')\n",
    "median = np.median(list(rbs['out']))\n",
    "outpath = \"clean/bioautoml/classification_hollerer_rbs_train\"\n",
    "write_to_fasta_and_csv(outpath, rbs, 'seq', 'out', median)\n",
    "\n",
    "# and mediumtrain\n",
    "rbs = pd.read_csv('clean/hollerer_rbs_mediumtrain.csv')\n",
    "median = np.median(list(rbs['out']))\n",
    "outpath = \"clean/bioautoml/classification_hollerer_rbs_mediumtrain\"\n",
    "write_to_fasta_and_csv(outpath, rbs, 'seq', 'out', median)"
   ]
  },
  {
   "cell_type": "markdown",
   "metadata": {},
   "source": [
    "# Part 4: Synthetic Control"
   ]
  },
  {
   "cell_type": "code",
   "execution_count": 2,
   "metadata": {},
   "outputs": [],
   "source": [
    "# and do binary classification version manually based on median (same as BioSeq-AutoML)\n",
    "synth = pd.read_csv('clean/small_synthetic.csv')\n",
    "median = np.median(list(synth['positive_score']))\n",
    "outpath = \"clean/bioautoml/classification_small_synthetic\"\n",
    "write_to_fasta_and_csv(outpath, synth, 'seq', 'positive_score', median)\n",
    "\n",
    "# large one too\n",
    "synth = pd.read_csv('clean/large_synthetic.csv')\n",
    "median = np.median(list(synth['positive_score']))\n",
    "outpath = \"clean/bioautoml/classification_large_synthetic\"\n",
    "write_to_fasta_and_csv(outpath, synth, 'seq', 'positive_score', median)"
   ]
  }
 ],
 "metadata": {
  "kernelspec": {
   "display_name": "Python 3",
   "language": "python",
   "name": "python3"
  },
  "language_info": {
   "codemirror_mode": {
    "name": "ipython",
    "version": 3
   },
   "file_extension": ".py",
   "mimetype": "text/x-python",
   "name": "python",
   "nbconvert_exporter": "python",
   "pygments_lexer": "ipython3",
   "version": "3.8.3"
  }
 },
 "nbformat": 4,
 "nbformat_minor": 2
}
