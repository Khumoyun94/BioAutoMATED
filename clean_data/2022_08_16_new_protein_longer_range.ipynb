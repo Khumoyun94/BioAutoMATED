{
 "cells": [
  {
   "cell_type": "code",
   "execution_count": 2,
   "metadata": {},
   "outputs": [],
   "source": [
    "import numpy as np\n",
    "import matplotlib.pyplot as plt\n",
    "import pandas as pd"
   ]
  },
  {
   "cell_type": "markdown",
   "metadata": {},
   "source": [
    "# from AAV dataset on https://github.com/J-SNACKKB/FLIP/blob/main/splits/aav/splits.zip"
   ]
  },
  {
   "cell_type": "code",
   "execution_count": null,
   "metadata": {},
   "outputs": [],
   "source": [
    "seqs = pd.read_csv('raw/flip/sampled.csv')\n",
    "train = seqs[seqs['set'] == 'train']\n",
    "train = train[['sequence', 'target']]\n",
    "display(train)\n",
    "print(len(train))\n",
    "\n",
    "test = seqs[seqs['set'] == 'test']\n",
    "test = test[['sequence', 'target']]\n",
    "display(test)\n",
    "print(len(test))"
   ]
  },
  {
   "cell_type": "code",
   "execution_count": 9,
   "metadata": {},
   "outputs": [
    {
     "data": {
      "text/html": [
       "<div>\n",
       "<style scoped>\n",
       "    .dataframe tbody tr th:only-of-type {\n",
       "        vertical-align: middle;\n",
       "    }\n",
       "\n",
       "    .dataframe tbody tr th {\n",
       "        vertical-align: top;\n",
       "    }\n",
       "\n",
       "    .dataframe thead th {\n",
       "        text-align: right;\n",
       "    }\n",
       "</style>\n",
       "<table border=\"1\" class=\"dataframe\">\n",
       "  <thead>\n",
       "    <tr style=\"text-align: right;\">\n",
       "      <th></th>\n",
       "      <th>sequence</th>\n",
       "      <th>target</th>\n",
       "    </tr>\n",
       "  </thead>\n",
       "  <tbody>\n",
       "    <tr>\n",
       "      <th>236</th>\n",
       "      <td>MAADGYLPDWLEDTLSEGIRQWWKLKPGPPPPKPAERHKDDSRGLV...</td>\n",
       "      <td>-2.027259</td>\n",
       "    </tr>\n",
       "    <tr>\n",
       "      <th>238</th>\n",
       "      <td>MAADGYLPDWLEDTLSEGIRQWWKLKPGPPPPKPAERHKDDSRGLV...</td>\n",
       "      <td>-0.527843</td>\n",
       "    </tr>\n",
       "    <tr>\n",
       "      <th>244</th>\n",
       "      <td>MAADGYLPDWLEDTLSEGIRQWWKLKPGPPPPKPAERHKDDSRGLV...</td>\n",
       "      <td>0.575730</td>\n",
       "    </tr>\n",
       "    <tr>\n",
       "      <th>245</th>\n",
       "      <td>MAADGYLPDWLEDTLSEGIRQWWKLKPGPPPPKPAERHKDDSRGLV...</td>\n",
       "      <td>-1.815227</td>\n",
       "    </tr>\n",
       "    <tr>\n",
       "      <th>469</th>\n",
       "      <td>MAADGYLPDWLEDTLSEGIRQWWKLKPGPPPPKPAERHKDDSRGLV...</td>\n",
       "      <td>-2.963171</td>\n",
       "    </tr>\n",
       "    <tr>\n",
       "      <th>...</th>\n",
       "      <td>...</td>\n",
       "      <td>...</td>\n",
       "    </tr>\n",
       "    <tr>\n",
       "      <th>283981</th>\n",
       "      <td>MAADGYLPDWLEDTLSEGIRQWWKLKPGPPPPKPAERHKDDSRGLV...</td>\n",
       "      <td>-5.849527</td>\n",
       "    </tr>\n",
       "    <tr>\n",
       "      <th>283985</th>\n",
       "      <td>MAADGYLPDWLEDTLSEGIRQWWKLKPGPPPPKPAERHKDDSRGLV...</td>\n",
       "      <td>-4.170571</td>\n",
       "    </tr>\n",
       "    <tr>\n",
       "      <th>283988</th>\n",
       "      <td>MAADGYLPDWLEDTLSEGIRQWWKLKPGPPPPKPAERHKDDSRGLV...</td>\n",
       "      <td>-5.001588</td>\n",
       "    </tr>\n",
       "    <tr>\n",
       "      <th>284004</th>\n",
       "      <td>MAADGYLPDWLEDTLSEGIRQWWKLKPGPPPPKPAERHKDDSRGLV...</td>\n",
       "      <td>-5.896930</td>\n",
       "    </tr>\n",
       "    <tr>\n",
       "      <th>284007</th>\n",
       "      <td>MAADGYLPDWLEDTLSEGIRQWWKLKPGPPPPKPAERHKDDSRGLV...</td>\n",
       "      <td>-4.741973</td>\n",
       "    </tr>\n",
       "  </tbody>\n",
       "</table>\n",
       "<p>16517 rows × 2 columns</p>\n",
       "</div>"
      ],
      "text/plain": [
       "                                                 sequence    target\n",
       "236     MAADGYLPDWLEDTLSEGIRQWWKLKPGPPPPKPAERHKDDSRGLV... -2.027259\n",
       "238     MAADGYLPDWLEDTLSEGIRQWWKLKPGPPPPKPAERHKDDSRGLV... -0.527843\n",
       "244     MAADGYLPDWLEDTLSEGIRQWWKLKPGPPPPKPAERHKDDSRGLV...  0.575730\n",
       "245     MAADGYLPDWLEDTLSEGIRQWWKLKPGPPPPKPAERHKDDSRGLV... -1.815227\n",
       "469     MAADGYLPDWLEDTLSEGIRQWWKLKPGPPPPKPAERHKDDSRGLV... -2.963171\n",
       "...                                                   ...       ...\n",
       "283981  MAADGYLPDWLEDTLSEGIRQWWKLKPGPPPPKPAERHKDDSRGLV... -5.849527\n",
       "283985  MAADGYLPDWLEDTLSEGIRQWWKLKPGPPPPKPAERHKDDSRGLV... -4.170571\n",
       "283988  MAADGYLPDWLEDTLSEGIRQWWKLKPGPPPPKPAERHKDDSRGLV... -5.001588\n",
       "284004  MAADGYLPDWLEDTLSEGIRQWWKLKPGPPPPKPAERHKDDSRGLV... -5.896930\n",
       "284007  MAADGYLPDWLEDTLSEGIRQWWKLKPGPPPPKPAERHKDDSRGLV... -4.741973\n",
       "\n",
       "[16517 rows x 2 columns]"
      ]
     },
     "execution_count": 9,
     "metadata": {},
     "output_type": "execute_result"
    }
   ],
   "source": [
    "train.to_csv('clean/flip_protein_train.csv', index = False)\n",
    "test.to_csv('clean/flip_protein_test.csv', index = False)\n",
    "test"
   ]
  },
  {
   "cell_type": "code",
   "execution_count": 8,
   "metadata": {},
   "outputs": [
    {
     "name": "stdout",
     "output_type": "stream",
     "text": [
      "{736, 737, 738, 739, 740, 741, 742, 743, 744, 745, 746, 747, 748, 749, 734, 735}\n",
      "734\n",
      "749\n"
     ]
    }
   ],
   "source": [
    "train = pd.read_csv('clean/flip_protein_train.csv')\n",
    "lengths = set([len(x) for x in list(train['sequence'])])\n",
    "print(lengths)\n",
    "print(min(lengths))\n",
    "print(max(lengths))"
   ]
  },
  {
   "cell_type": "markdown",
   "metadata": {},
   "source": [
    "# from avGFP dataset"
   ]
  },
  {
   "cell_type": "code",
   "execution_count": 18,
   "metadata": {
    "scrolled": false
   },
   "outputs": [
    {
     "name": "stdout",
     "output_type": "stream",
     "text": [
      "238\n"
     ]
    },
    {
     "data": {
      "text/html": [
       "<div>\n",
       "<style scoped>\n",
       "    .dataframe tbody tr th:only-of-type {\n",
       "        vertical-align: middle;\n",
       "    }\n",
       "\n",
       "    .dataframe tbody tr th {\n",
       "        vertical-align: top;\n",
       "    }\n",
       "\n",
       "    .dataframe thead th {\n",
       "        text-align: right;\n",
       "    }\n",
       "</style>\n",
       "<table border=\"1\" class=\"dataframe\">\n",
       "  <thead>\n",
       "    <tr style=\"text-align: right;\">\n",
       "      <th></th>\n",
       "      <th>sequence</th>\n",
       "      <th>target</th>\n",
       "    </tr>\n",
       "  </thead>\n",
       "  <tbody>\n",
       "    <tr>\n",
       "      <th>0</th>\n",
       "      <td>SKGEELFTGVVPILVELDGDVNGHKFSVSGEGEGDATYGKLTLKFI...</td>\n",
       "      <td>-2.418182</td>\n",
       "    </tr>\n",
       "    <tr>\n",
       "      <th>1</th>\n",
       "      <td>SKGEELFTGVVPILVELDGDVNGHKFSVSGEGEGDATYGKLTLKFI...</td>\n",
       "      <td>-2.418181</td>\n",
       "    </tr>\n",
       "    <tr>\n",
       "      <th>2</th>\n",
       "      <td>SKGEELFTGVVPILVELDGDVNGHKFSVSGEGEGDATYGKLTLKFI...</td>\n",
       "      <td>-2.418023</td>\n",
       "    </tr>\n",
       "    <tr>\n",
       "      <th>3</th>\n",
       "      <td>SKGEELFTGVVPILVELDGDVNGHKFSVSGEGEGDATYGKLTLKFI...</td>\n",
       "      <td>-0.010734</td>\n",
       "    </tr>\n",
       "    <tr>\n",
       "      <th>4</th>\n",
       "      <td>SKGEELFTGVVPILVELDGDVNGHKFSVSGEGEGDATYGKLTLKFI...</td>\n",
       "      <td>-0.136448</td>\n",
       "    </tr>\n",
       "    <tr>\n",
       "      <th>...</th>\n",
       "      <td>...</td>\n",
       "      <td>...</td>\n",
       "    </tr>\n",
       "    <tr>\n",
       "      <th>54019</th>\n",
       "      <td>SKGEELFTGVVPILVELDGDVNGHKFSVSGEGEGDATYGKLTLKFI...</td>\n",
       "      <td>-2.167122</td>\n",
       "    </tr>\n",
       "    <tr>\n",
       "      <th>54020</th>\n",
       "      <td>SKGEELFTGVVPILVELDGDVNGHKFSVSGEGEGDATYGKLTLKFI...</td>\n",
       "      <td>-2.418182</td>\n",
       "    </tr>\n",
       "    <tr>\n",
       "      <th>54021</th>\n",
       "      <td>SKGEELFTGVVPILVELDGDVNGHKFSVSGEGEGDATYGKLTLKFI...</td>\n",
       "      <td>-2.418182</td>\n",
       "    </tr>\n",
       "    <tr>\n",
       "      <th>54022</th>\n",
       "      <td>SKGEELFTGVVPILVELDGDVNGHKFSVSGEGEGDATYGKLTLKFI...</td>\n",
       "      <td>-2.417695</td>\n",
       "    </tr>\n",
       "    <tr>\n",
       "      <th>54023</th>\n",
       "      <td>SKGEELFTGVVPILVELDGDVNGHKFSVSGEGEGDATYGKLTLKFI...</td>\n",
       "      <td>-2.417082</td>\n",
       "    </tr>\n",
       "  </tbody>\n",
       "</table>\n",
       "<p>54024 rows × 2 columns</p>\n",
       "</div>"
      ],
      "text/plain": [
       "                                                sequence    target\n",
       "0      SKGEELFTGVVPILVELDGDVNGHKFSVSGEGEGDATYGKLTLKFI... -2.418182\n",
       "1      SKGEELFTGVVPILVELDGDVNGHKFSVSGEGEGDATYGKLTLKFI... -2.418181\n",
       "2      SKGEELFTGVVPILVELDGDVNGHKFSVSGEGEGDATYGKLTLKFI... -2.418023\n",
       "3      SKGEELFTGVVPILVELDGDVNGHKFSVSGEGEGDATYGKLTLKFI... -0.010734\n",
       "4      SKGEELFTGVVPILVELDGDVNGHKFSVSGEGEGDATYGKLTLKFI... -0.136448\n",
       "...                                                  ...       ...\n",
       "54019  SKGEELFTGVVPILVELDGDVNGHKFSVSGEGEGDATYGKLTLKFI... -2.167122\n",
       "54020  SKGEELFTGVVPILVELDGDVNGHKFSVSGEGEGDATYGKLTLKFI... -2.418182\n",
       "54021  SKGEELFTGVVPILVELDGDVNGHKFSVSGEGEGDATYGKLTLKFI... -2.418182\n",
       "54022  SKGEELFTGVVPILVELDGDVNGHKFSVSGEGEGDATYGKLTLKFI... -2.417695\n",
       "54023  SKGEELFTGVVPILVELDGDVNGHKFSVSGEGEGDATYGKLTLKFI... -2.417082\n",
       "\n",
       "[54024 rows x 2 columns]"
      ]
     },
     "execution_count": 18,
     "metadata": {},
     "output_type": "execute_result"
    }
   ],
   "source": [
    "ref = pd.read_csv('../clean_data/raw/avgfp/3102154/avGFP_reference_sequence.fa')\n",
    "ref = str(list(ref.iloc[:,0])[0])\n",
    "#print(ref)\n",
    "\n",
    "# need to convert ref from nucleotide to AA\n",
    "from Bio.Seq import Seq\n",
    "ref = Seq(ref)\n",
    "ref = ref.translate()\n",
    "#print(ref)\n",
    "print(len(ref))\n",
    "\n",
    "muts = pd.read_csv('../clean_data/raw/avgfp/avgfp.tsv', sep = '\\t')\n",
    "new_seqs = []\n",
    "scores = []\n",
    "for var, score in zip(list(muts['variant']), list(muts['score_wt_norm'])):\n",
    "    var_list = var.split(',')\n",
    "    new_seq = str(ref) # copy\n",
    "    for mut in var_list:\n",
    "        \n",
    "        init = mut[0]\n",
    "        end = mut[-1]\n",
    "        pos = int(mut[1:-1])\n",
    "        old_aa = ref[pos]\n",
    "        new_seq = new_seq[:pos] + end + new_seq[pos+1:]\n",
    "        if str(init) != str(old_aa):\n",
    "            print(mut)\n",
    "            print('BAD')\n",
    "            print(old_aa)\n",
    "            print(init)\n",
    "            print(int(pos))\n",
    "    \n",
    "    new_seqs.append(new_seq)\n",
    "    scores.append(score)\n",
    "\n",
    "newdf = pd.DataFrame()\n",
    "newdf['sequence'] = new_seqs\n",
    "newdf['target'] = scores\n",
    "newdf.to_csv('clean/avgfp.csv')\n",
    "newdf"
   ]
  },
  {
   "cell_type": "code",
   "execution_count": null,
   "metadata": {},
   "outputs": [],
   "source": []
  },
  {
   "cell_type": "code",
   "execution_count": null,
   "metadata": {},
   "outputs": [],
   "source": []
  }
 ],
 "metadata": {
  "kernelspec": {
   "display_name": "automl_py37",
   "language": "python",
   "name": "automl_py37"
  },
  "language_info": {
   "codemirror_mode": {
    "name": "ipython",
    "version": 3
   },
   "file_extension": ".py",
   "mimetype": "text/x-python",
   "name": "python",
   "nbconvert_exporter": "python",
   "pygments_lexer": "ipython3",
   "version": "3.7.10"
  }
 },
 "nbformat": 4,
 "nbformat_minor": 2
}
