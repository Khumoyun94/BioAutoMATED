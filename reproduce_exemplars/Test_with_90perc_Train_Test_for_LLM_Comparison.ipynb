{
 "cells": [
  {
   "cell_type": "markdown",
   "metadata": {},
   "source": [
    "Please note that to run different datasets, you should restart the kernel and run the import statement block again. This is due to graph operations needing to be reset between every experiment."
   ]
  },
  {
   "cell_type": "code",
   "execution_count": 2,
   "metadata": {},
   "outputs": [
    {
     "name": "stderr",
     "output_type": "stream",
     "text": [
      "Using TensorFlow backend.\n"
     ]
    },
    {
     "name": "stdout",
     "output_type": "stream",
     "text": [
      "Better speed can be achieved with apex installed from https://www.github.com/nvidia/apex.\n"
     ]
    }
   ],
   "source": [
    "import sys\n",
    "sys.path.insert(1, '../main_classes/')\n",
    "\n",
    "from wrapper import run_bioautomated\n",
    "import shutil\n",
    "import os\n",
    "import pandas as pd\n",
    "import numpy as np\n",
    "from transfer_learning_helpers import read_in_format_data_and_pred\n",
    "import scipy.stats as sp\n",
    "\n",
    "# make directory where these results can live - no need to run if already have a directory\n",
    "#os.mkdir('../exemplars/')"
   ]
  },
  {
   "cell_type": "code",
   "execution_count": 2,
   "metadata": {},
   "outputs": [],
   "source": [
    "dataset_robustness = False\n",
    "run_interpretation = False\n",
    "run_design = False"
   ]
  },
  {
   "cell_type": "markdown",
   "metadata": {},
   "source": [
    "# Synthetic Nucleic Acids Dataset"
   ]
  },
  {
   "cell_type": "code",
   "execution_count": 3,
   "metadata": {},
   "outputs": [
    {
     "name": "stdout",
     "output_type": "stream",
     "text": [
      "50.0\n",
      "90000\n",
      "10000\n"
     ]
    },
    {
     "data": {
      "text/html": [
       "<div>\n",
       "<style scoped>\n",
       "    .dataframe tbody tr th:only-of-type {\n",
       "        vertical-align: middle;\n",
       "    }\n",
       "\n",
       "    .dataframe tbody tr th {\n",
       "        vertical-align: top;\n",
       "    }\n",
       "\n",
       "    .dataframe thead th {\n",
       "        text-align: right;\n",
       "    }\n",
       "</style>\n",
       "<table border=\"1\" class=\"dataframe\">\n",
       "  <thead>\n",
       "    <tr style=\"text-align: right;\">\n",
       "      <th></th>\n",
       "      <th>seq</th>\n",
       "      <th>target</th>\n",
       "    </tr>\n",
       "  </thead>\n",
       "  <tbody>\n",
       "    <tr>\n",
       "      <th>90000</th>\n",
       "      <td>GCAATATGTACCTGTGTCGC</td>\n",
       "      <td>1</td>\n",
       "    </tr>\n",
       "    <tr>\n",
       "      <th>90001</th>\n",
       "      <td>GGTACCCCTATAGCGATCCG</td>\n",
       "      <td>1</td>\n",
       "    </tr>\n",
       "    <tr>\n",
       "      <th>90002</th>\n",
       "      <td>CTGACAACCTATCCCACAGG</td>\n",
       "      <td>0</td>\n",
       "    </tr>\n",
       "    <tr>\n",
       "      <th>90003</th>\n",
       "      <td>GGCCTACGTGATCGATAGAT</td>\n",
       "      <td>1</td>\n",
       "    </tr>\n",
       "    <tr>\n",
       "      <th>90004</th>\n",
       "      <td>TCGCTATTCTTGCACAAGGA</td>\n",
       "      <td>0</td>\n",
       "    </tr>\n",
       "    <tr>\n",
       "      <th>...</th>\n",
       "      <td>...</td>\n",
       "      <td>...</td>\n",
       "    </tr>\n",
       "    <tr>\n",
       "      <th>99995</th>\n",
       "      <td>CTGTTAGGGATAAATATATG</td>\n",
       "      <td>0</td>\n",
       "    </tr>\n",
       "    <tr>\n",
       "      <th>99996</th>\n",
       "      <td>GAGCCGCGACGACCATCCAT</td>\n",
       "      <td>1</td>\n",
       "    </tr>\n",
       "    <tr>\n",
       "      <th>99997</th>\n",
       "      <td>TAGTTACTCATTCCCTCGTG</td>\n",
       "      <td>0</td>\n",
       "    </tr>\n",
       "    <tr>\n",
       "      <th>99998</th>\n",
       "      <td>AAGCTCATCAGCATTAAATC</td>\n",
       "      <td>0</td>\n",
       "    </tr>\n",
       "    <tr>\n",
       "      <th>99999</th>\n",
       "      <td>GAGAGGTCAATTCTAGGGAT</td>\n",
       "      <td>0</td>\n",
       "    </tr>\n",
       "  </tbody>\n",
       "</table>\n",
       "<p>10000 rows × 2 columns</p>\n",
       "</div>"
      ],
      "text/plain": [
       "                        seq  target\n",
       "90000  GCAATATGTACCTGTGTCGC       1\n",
       "90001  GGTACCCCTATAGCGATCCG       1\n",
       "90002  CTGACAACCTATCCCACAGG       0\n",
       "90003  GGCCTACGTGATCGATAGAT       1\n",
       "90004  TCGCTATTCTTGCACAAGGA       0\n",
       "...                     ...     ...\n",
       "99995  CTGTTAGGGATAAATATATG       0\n",
       "99996  GAGCCGCGACGACCATCCAT       1\n",
       "99997  TAGTTACTCATTCCCTCGTG       0\n",
       "99998  AAGCTCATCAGCATTAAATC       0\n",
       "99999  GAGAGGTCAATTCTAGGGAT       0\n",
       "\n",
       "[10000 rows x 2 columns]"
      ]
     },
     "metadata": {},
     "output_type": "display_data"
    }
   ],
   "source": [
    "# make 90/10 train/test set for DNABERT comparison\n",
    "\n",
    "synth = pd.read_csv('../clean_data/clean/large_synthetic.csv')\n",
    "currmed = np.median(synth['positive_score'])\n",
    "print(currmed)\n",
    "synth['target'] = [1 if x > currmed else 0 for x in list(synth['positive_score'])]\n",
    "synth = synth[['seq', 'target']]\n",
    "\n",
    "train90 = synth.iloc[0:90000,:]\n",
    "test10 = synth.iloc[90000:100000,:]\n",
    "print(len(train90))\n",
    "print(len(test10))\n",
    "display(test10)\n",
    "train90.to_csv('../clean_data/clean/large_synthetic_90perc_dataset.csv', index = False)\n",
    "test10.to_csv('../clean_data/clean/large_synthetic_10perc_dataset.csv', index = False)"
   ]
  },
  {
   "cell_type": "code",
   "execution_count": 4,
   "metadata": {},
   "outputs": [
    {
     "name": "stdout",
     "output_type": "stream",
     "text": [
      "Verbosity set to 0. For more display items, set verbosity to 1.\n",
      "#################################################################################################\n",
      "#######################               RUNNING BINARY CLASSIFICATION            ##################\n",
      "#################################################################################################\n",
      "\n",
      "#################################################################################################\n",
      "##############################            RUNNING DEEPSWARM           ###########################\n",
      "#################################################################################################\n",
      "Conducting architecture search now...\n",
      "Testing scrambled control now...\n",
      "Fitting final model now...\n",
      "#################################################################################################\n",
      "##############################            RUNNING AUTOKERAS           ###########################\n",
      "#################################################################################################\n",
      "Conducting architecture search now...\n",
      "Testing scrambled control now...\n",
      "Fitting final model now...\n",
      "Results are located at: ./exemplars/90perc_synthetic_nucleic_acids/outputs/autokeras/binary_classification/all_results.txt\n",
      "#################################################################################################\n",
      "##############################            RUNNING TPOT                ###########################\n",
      "#################################################################################################\n",
      "Conducting architecture search now...\n",
      "Testing scrambled control now...\n",
      "Fitting final model now...\n",
      "BioSeq-AutoML has concluded.\n"
     ]
    }
   ],
   "source": [
    "#os.mkdir('../exemplars/90perc_synthetic_nucleic_acids/')\n",
    "\n",
    "data_folder = '../clean_data/clean/'\n",
    "data_file = 'large_synthetic_90perc_dataset.csv'\n",
    "input_col = 'seq'\n",
    "target_col = 'target'\n",
    "sequence_type = 'nucleic_acid'\n",
    "\n",
    "task = 'binary_classification' # binary_classification, multiclass_classification, regression\n",
    "\n",
    "model_folder = '../exemplars/90perc_synthetic_nucleic_acids/models/'\n",
    "output_folder = '../exemplars/90perc_synthetic_nucleic_acids/outputs/'\n",
    "\n",
    "run_bioautomated(task, data_folder, data_file, sequence_type, model_folder, output_folder, input_col=input_col, target_col=target_col, run_interpretation=run_interpretation, run_design=run_design)\n"
   ]
  },
  {
   "cell_type": "markdown",
   "metadata": {},
   "source": [
    "# Toeholds"
   ]
  },
  {
   "cell_type": "code",
   "execution_count": 3,
   "metadata": {},
   "outputs": [
    {
     "name": "stdout",
     "output_type": "stream",
     "text": [
      "0.44570123700000003\n",
      "82380\n",
      "9154\n"
     ]
    },
    {
     "data": {
      "text/html": [
       "<div>\n",
       "<style scoped>\n",
       "    .dataframe tbody tr th:only-of-type {\n",
       "        vertical-align: middle;\n",
       "    }\n",
       "\n",
       "    .dataframe tbody tr th {\n",
       "        vertical-align: top;\n",
       "    }\n",
       "\n",
       "    .dataframe thead th {\n",
       "        text-align: right;\n",
       "    }\n",
       "</style>\n",
       "<table border=\"1\" class=\"dataframe\">\n",
       "  <thead>\n",
       "    <tr style=\"text-align: right;\">\n",
       "      <th></th>\n",
       "      <th>seq</th>\n",
       "      <th>target</th>\n",
       "    </tr>\n",
       "  </thead>\n",
       "  <tbody>\n",
       "    <tr>\n",
       "      <th>82380</th>\n",
       "      <td>TTAAAGCGACGGTAAATGCATTTGAAAAAAAACAGAGGAGATTTTT...</td>\n",
       "      <td>1</td>\n",
       "    </tr>\n",
       "    <tr>\n",
       "      <th>82381</th>\n",
       "      <td>TTAAAGCTATTGTTGGAAACTAAAACTATCAACAGAGGAGAGATAG...</td>\n",
       "      <td>1</td>\n",
       "    </tr>\n",
       "    <tr>\n",
       "      <th>82382</th>\n",
       "      <td>TTAAAGCTGAGCTGCAGATTTTCAAATCGGAACAGAGGAGACCGAT...</td>\n",
       "      <td>0</td>\n",
       "    </tr>\n",
       "    <tr>\n",
       "      <th>82383</th>\n",
       "      <td>TTAAAGGAATTTACTTCGTTCTTGACCTTAAACAGAGGAGATAAGG...</td>\n",
       "      <td>1</td>\n",
       "    </tr>\n",
       "    <tr>\n",
       "      <th>82384</th>\n",
       "      <td>TTAAAGGATGGTGATTCAAGTATGCTAGGTAACAGAGGAGAACCTA...</td>\n",
       "      <td>0</td>\n",
       "    </tr>\n",
       "    <tr>\n",
       "      <th>...</th>\n",
       "      <td>...</td>\n",
       "      <td>...</td>\n",
       "    </tr>\n",
       "    <tr>\n",
       "      <th>91529</th>\n",
       "      <td>TTTTTTTTTAATATTTTCACAAATATCGTTAACAGAGGAGAAACGA...</td>\n",
       "      <td>1</td>\n",
       "    </tr>\n",
       "    <tr>\n",
       "      <th>91530</th>\n",
       "      <td>TTTTTTTTTCTTGATTTATCAACTTCTTTTAACAGAGGAGAAAAAG...</td>\n",
       "      <td>0</td>\n",
       "    </tr>\n",
       "    <tr>\n",
       "      <th>91531</th>\n",
       "      <td>TTTTTTTTTGTCATAGCTTTCCTTTTTAAAAACAGAGGAGATTTAA...</td>\n",
       "      <td>1</td>\n",
       "    </tr>\n",
       "    <tr>\n",
       "      <th>91532</th>\n",
       "      <td>TTTTTTTTTTTATAATTTTTAGTGATTTTGAACAGAGGAGACAAAA...</td>\n",
       "      <td>0</td>\n",
       "    </tr>\n",
       "    <tr>\n",
       "      <th>91533</th>\n",
       "      <td>TTTTTTTTTTTTTTTTATAATTTTTAGTGAAACAGAGGAGATCACT...</td>\n",
       "      <td>1</td>\n",
       "    </tr>\n",
       "  </tbody>\n",
       "</table>\n",
       "<p>9154 rows × 2 columns</p>\n",
       "</div>"
      ],
      "text/plain": [
       "                                                     seq  target\n",
       "82380  TTAAAGCGACGGTAAATGCATTTGAAAAAAAACAGAGGAGATTTTT...       1\n",
       "82381  TTAAAGCTATTGTTGGAAACTAAAACTATCAACAGAGGAGAGATAG...       1\n",
       "82382  TTAAAGCTGAGCTGCAGATTTTCAAATCGGAACAGAGGAGACCGAT...       0\n",
       "82383  TTAAAGGAATTTACTTCGTTCTTGACCTTAAACAGAGGAGATAAGG...       1\n",
       "82384  TTAAAGGATGGTGATTCAAGTATGCTAGGTAACAGAGGAGAACCTA...       0\n",
       "...                                                  ...     ...\n",
       "91529  TTTTTTTTTAATATTTTCACAAATATCGTTAACAGAGGAGAAACGA...       1\n",
       "91530  TTTTTTTTTCTTGATTTATCAACTTCTTTTAACAGAGGAGAAAAAG...       0\n",
       "91531  TTTTTTTTTGTCATAGCTTTCCTTTTTAAAAACAGAGGAGATTTAA...       1\n",
       "91532  TTTTTTTTTTTATAATTTTTAGTGATTTTGAACAGAGGAGACAAAA...       0\n",
       "91533  TTTTTTTTTTTTTTTTATAATTTTTAGTGAAACAGAGGAGATCACT...       1\n",
       "\n",
       "[9154 rows x 2 columns]"
      ]
     },
     "metadata": {},
     "output_type": "display_data"
    }
   ],
   "source": [
    "# make 90/10 train/test set for DNABERT comparison\n",
    "\n",
    "toehold = pd.read_csv('../clean_data/clean/toeholds.csv')\n",
    "currmed = np.median(toehold['ON'])\n",
    "print(currmed)\n",
    "toehold['target'] = [1 if x > currmed else 0 for x in list(toehold['ON'])]\n",
    "toehold = toehold[['seq', 'target']]\n",
    "\n",
    "train90 = toehold.iloc[0:82380,:]\n",
    "test10 = toehold.iloc[82380:len(toehold),:]\n",
    "print(len(train90))\n",
    "print(len(test10))\n",
    "display(test10)\n",
    "train90.to_csv('../clean_data/clean/toehold_90perc_dataset.csv', index = False)\n",
    "test10.to_csv('../clean_data/clean/toehold_10perc_dataset.csv', index = False)"
   ]
  },
  {
   "cell_type": "code",
   "execution_count": 5,
   "metadata": {
    "scrolled": true
   },
   "outputs": [
    {
     "name": "stdout",
     "output_type": "stream",
     "text": [
      "Verbosity set to 0. For more display items, set verbosity to 1.\n",
      "#################################################################################################\n",
      "#######################               RUNNING BINARY CLASSIFICATION            ##################\n",
      "#################################################################################################\n",
      "\n",
      "#################################################################################################\n",
      "##############################            RUNNING DEEPSWARM           ###########################\n",
      "#################################################################################################\n",
      "Conducting architecture search now...\n",
      "Testing scrambled control now...\n",
      "Fitting final model now...\n",
      "#################################################################################################\n",
      "##############################            RUNNING AUTOKERAS           ###########################\n",
      "#################################################################################################\n",
      "Conducting architecture search now...\n",
      "Testing scrambled control now...\n",
      "Fitting final model now...\n",
      "Results are located at: ./exemplars/90perc_toeholds/outputs/autokeras/binary_classification/all_results.txt\n",
      "#################################################################################################\n",
      "##############################            RUNNING TPOT                ###########################\n",
      "#################################################################################################\n",
      "Conducting architecture search now...\n",
      "Testing scrambled control now...\n",
      "Fitting final model now...\n",
      "BioSeq-AutoML has concluded.\n"
     ]
    }
   ],
   "source": [
    "os.mkdir('../exemplars/90perc_toeholds/')\n",
    "\n",
    "data_folder = '../clean_data/clean/'\n",
    "data_file = 'toehold_90perc_dataset.csv'\n",
    "input_col = 'seq'\n",
    "target_col = 'target'\n",
    "sequence_type = 'nucleic_acid'\n",
    "\n",
    "task = 'binary_classification' # binary_classification, multiclass_classification, regression\n",
    "\n",
    "model_folder = '../exemplars/90perc_toeholds/models/'\n",
    "output_folder = '../exemplars/90perc_toeholds/outputs/'\n",
    "\n",
    "run_bioautomated(task, data_folder, data_file, sequence_type, model_folder, output_folder, input_col=input_col, target_col=target_col, run_interpretation=run_interpretation, run_design=run_design)\n"
   ]
  },
  {
   "cell_type": "markdown",
   "metadata": {},
   "source": [
    "# Test synthetic NAs"
   ]
  },
  {
   "cell_type": "code",
   "execution_count": 4,
   "metadata": {},
   "outputs": [
    {
     "name": "stdout",
     "output_type": "stream",
     "text": [
      "Confirmed: All sequence characters are in alphabet\n",
      "Confirmed: No need to pad or truncate, all sequences same length\n",
      "Confirmed: No data augmentation requested\n",
      "Confirmed: Scrambled control generated.\n",
      "WARNING:tensorflow:From /anaconda2/envs/automl_py37/lib/python3.7/site-packages/tensorflow/python/framework/op_def_library.py:263: colocate_with (from tensorflow.python.framework.ops) is deprecated and will be removed in a future version.\n",
      "Instructions for updating:\n",
      "Colocations handled automatically by placer.\n",
      "WARNING:tensorflow:From /anaconda2/envs/automl_py37/lib/python3.7/site-packages/tensorflow/python/ops/math_ops.py:3066: to_int32 (from tensorflow.python.ops.math_ops) is deprecated and will be removed in a future version.\n",
      "Instructions for updating:\n",
      "Use tf.cast instead.\n",
      "Number of labeled binary positives with cutoff of 0.5: 4569\n",
      "Number of total test set: 10000\n",
      "\n",
      "Computing statistics now...\n",
      "R2:  1.0  with a p-val of  0.0\n",
      "Pearson R:  1.0  with a p-val of  0.0\n",
      "Spearman R:  0.90733  with a p-val of  0.0\n",
      "auROC:  1.0\n",
      "MCC:  1.0\n"
     ]
    }
   ],
   "source": [
    "# Read in data file\n",
    "data_folder = '../clean_data/clean/'\n",
    "data_file = 'large_synthetic_10perc_dataset.csv'\n",
    "\n",
    "# Give inputs for data generation\n",
    "input_col= 'seq'\n",
    "target_col = 'target'\n",
    "pad_seqs = 'max'\n",
    "augment_data = 'none'\n",
    "sequence_type = 'nucleic_acid'\n",
    "\n",
    "# Give inputs for paths\n",
    "model_folder = '../exemplars/90perc_synthetic_nucleic_acids/models/'\n",
    "output_folder = '../exemplars/90perc_synthetic_nucleic_acids/outputs/'\n",
    "model_type = 'deepswarm'\n",
    "task = 'binary_classification'\n",
    "class_of_interest = 1 # 1 for binary classification typically!\n",
    "\n",
    "# can provide cut-off for binarizing; for instance, here we would supply the SAME cut-off as \n",
    "# the one used in the original TRAIN set\n",
    "cutoff = 0.5\n",
    "\n",
    "read_in_format_data_and_pred(task, data_folder, data_file, input_col, target_col, pad_seqs, augment_data, sequence_type, model_type, model_folder, output_folder, class_of_interest = class_of_interest, cutoff_true = cutoff, cutoff_pred = cutoff);"
   ]
  },
  {
   "cell_type": "markdown",
   "metadata": {},
   "source": [
    "# Test toeholds"
   ]
  },
  {
   "cell_type": "code",
   "execution_count": 5,
   "metadata": {},
   "outputs": [
    {
     "name": "stdout",
     "output_type": "stream",
     "text": [
      "Confirmed: All sequence characters are in alphabet\n",
      "Confirmed: No need to pad or truncate, all sequences same length\n",
      "Confirmed: No data augmentation requested\n",
      "Confirmed: Scrambled control generated.\n",
      "Number of labeled binary positives with cutoff of 0.446: 4753\n",
      "Number of total test set: 9154\n",
      "\n",
      "Computing statistics now...\n",
      "R2:  0.46394  with a p-val of  0.0\n",
      "Pearson R:  0.68113  with a p-val of  0.0\n",
      "Spearman R:  0.68124  with a p-val of  0.0\n",
      "auROC:  0.89361\n",
      "MCC:  0.6478\n"
     ]
    }
   ],
   "source": [
    "# Read in data file\n",
    "data_folder = '../clean_data/clean/'\n",
    "data_file = 'toehold_10perc_dataset.csv'\n",
    "\n",
    "# Give inputs for data generation\n",
    "input_col= 'seq'\n",
    "target_col = 'target'\n",
    "pad_seqs = 'max'\n",
    "augment_data = 'none'\n",
    "sequence_type = 'nucleic_acid'\n",
    "\n",
    "# Give inputs for paths\n",
    "model_folder = '../exemplars/90perc_toeholds/models/'\n",
    "output_folder = '../exemplars/90perc_toeholds/outputs/'\n",
    "model_type = 'deepswarm'\n",
    "task = 'binary_classification'\n",
    "class_of_interest = 1 # 1 for binary classification typically!\n",
    "\n",
    "# can provide cut-off for binarizing; for instance, here we would supply the SAME cut-off as \n",
    "# the one used in the original TRAIN set\n",
    "cutoff = 0.446\n",
    "\n",
    "read_in_format_data_and_pred(task, data_folder, data_file, input_col, target_col, pad_seqs, augment_data, sequence_type, model_type, model_folder, output_folder, class_of_interest = class_of_interest, cutoff_true = cutoff, cutoff_pred = cutoff);"
   ]
  }
 ],
 "metadata": {
  "kernelspec": {
   "display_name": "automl_py37",
   "language": "python",
   "name": "automl_py37"
  },
  "language_info": {
   "codemirror_mode": {
    "name": "ipython",
    "version": 3
   },
   "file_extension": ".py",
   "mimetype": "text/x-python",
   "name": "python",
   "nbconvert_exporter": "python",
   "pygments_lexer": "ipython3",
   "version": "3.7.10"
  }
 },
 "nbformat": 4,
 "nbformat_minor": 2
}
