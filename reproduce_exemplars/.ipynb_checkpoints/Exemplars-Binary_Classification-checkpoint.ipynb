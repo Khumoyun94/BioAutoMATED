{
 "cells": [
  {
   "cell_type": "markdown",
   "metadata": {},
   "source": [
    "Please note that to run different datasets, you should restart the kernel and run the import statement block again. This is due to graph operations needing to be reset between every experiment."
   ]
  },
  {
   "cell_type": "code",
   "execution_count": null,
   "metadata": {},
   "outputs": [],
   "source": [
    "import sys\n",
    "sys.path.insert(1, '../main_classes/')\n",
    "\n",
    "from wrapper import run_bioautomated\n",
    "import shutil\n",
    "import os\n",
    "\n",
    "# make directory where these results can live - no need to run if already have a directory\n",
    "#os.mkdir('../exemplars/')"
   ]
  },
  {
   "cell_type": "markdown",
   "metadata": {},
   "source": [
    "# General Parameters (can be changed)"
   ]
  },
  {
   "cell_type": "code",
   "execution_count": null,
   "metadata": {},
   "outputs": [],
   "source": [
    "# ### input arguments \n",
    "#     task : str, one of 'binary_classification', 'multiclass_classification', 'regression'\n",
    "#     data_folder : str representing folder where data is stored\n",
    "#     data_file : str representing file name where data is stored\n",
    "#     sequence_type : str, either 'nucleic_acid', 'peptide', or 'glycan'\n",
    "#     model_folder : str representing folder where models are to be stored\n",
    "#     output_folder : str representing folder where output is to be stored\n",
    "#     automl_search_techniques : str representing which AutoML search technique should be performed, one of 'all', 'deepswarm', 'autokeras', 'tpot'\n",
    "#     do_backup : bool representing if a backup should be performed\n",
    "#     max_runtime_minutes : int representing max runtime for model search in minutes\n",
    "#     num_folds : int representing num folds\n",
    "#     verbosity : int representing 0=not verbose, 1=verbose\n",
    "#     do_auto_bin : bool representing if target values should be automatically binned\n",
    "#     bin_threshold : float representing threshold for positive and negative classes\n",
    "#     do_transform : bool representing if target values should be transformed\n",
    "#     input_col : str representing input column name where sequences can be located\n",
    "#     target_col : str representing target column name where target values can be located\n",
    "#     pad_seqs : str indicating pad_seqs method, either 'max', 'min', 'average'\n",
    "#     augment_data : str, either 'none', 'complement', 'reverse_complement', or 'both_complements'\n",
    "#     dataset_robustness : bool indicating if data ablation study should be performed\n",
    "#     num_final_epochs : int representing number of final epochs to train final deepswarm model\n",
    "#     yaml_params : dict of extra deepswarm parameters, with keys 'max_depth' (int), 'ant_count' (int), 'epochs' (int)\n",
    "#     num_generations : int representing number of generations of tpot search\n",
    "#     population_size : int representing population size of tpot search\n",
    "#     run_interpretation : bool indicating if interpretation module should be executed\n",
    "#     interpret_params : dict of extra interpretation parameters, with keys 'sample_number_class_activation_maps' (int), 'class_activation_grad_modifier' (str), 'class_activation_layer_index' (int);\n",
    "#         'sample_number_saliency_maps' (int), 'saliency_map_grad_modifier' (str), 'saliency_map_layer_index' (int), 'sample_number_mutagenesis' (int)\n",
    "#     run_design : bool indicating if design module should be executed\n",
    "#     design_params :dict of extra design parameters, with keys 'k' (int), 'substitution_type' (str), 'target_y' (float), 'class_of_interest' (int), 'constraint_file_path' (str);\n",
    "#         'de_novo_num_seqs_to_test' (int), 'storm_num_seqs_to_test' (int), 'num_of_optimization_rounds' (int)\n",
    "# ###"
   ]
  },
  {
   "cell_type": "markdown",
   "metadata": {},
   "source": [
    "# Synthetic Nucleic Acids Dataset"
   ]
  },
  {
   "cell_type": "code",
   "execution_count": null,
   "metadata": {
    "scrolled": true
   },
   "outputs": [],
   "source": [
    "# optional add-ons\n",
    "dataset_robustness = False # try with different fractions of your dataset, may add time\n",
    "run_interpretation = False\n",
    "run_design = False\n",
    "\n",
    "#shutil.rmtree('../exemplars/small_synthetic_nucleic_acids/', ignore_errors = True)\n",
    "os.mkdir('../exemplars/small_synthetic_nucleic_acids/')\n",
    "\n",
    "data_folder = '../clean_data/clean/'\n",
    "data_file = 'small_synthetic.csv'\n",
    "input_col = 'seq'\n",
    "target_col = 'positive_score'\n",
    "sequence_type = 'nucleic_acid'\n",
    "\n",
    "task = 'binary_classification' # binary_classification, multiclass_classification, regression\n",
    "\n",
    "model_folder = '../exemplars/small_synthetic_nucleic_acids/models/'\n",
    "output_folder = '../exemplars/small_synthetic_nucleic_acids/outputs/'\n",
    "\n",
    "run_bioautomated(task, data_folder, data_file, sequence_type, model_folder, output_folder, input_col=input_col, target_col=target_col, dataset_robustness=dataset_robustness, run_interpretation=run_interpretation, run_design=run_design)\n"
   ]
  },
  {
   "cell_type": "code",
   "execution_count": null,
   "metadata": {},
   "outputs": [],
   "source": [
    "# optional add-ons\n",
    "dataset_robustness = True # try with different fractions of your dataset, may add time\n",
    "run_interpretation = True\n",
    "run_design = True\n",
    "\n",
    "#shutil.rmtree('../exemplars/large_synthetic_nucleic_acids/', ignore_errors = True)\n",
    "os.mkdir('../exemplars/large_synthetic_nucleic_acids/')\n",
    "\n",
    "data_folder = '../clean_data/clean/'\n",
    "data_file = 'large_synthetic.csv'\n",
    "input_col = 'seq'\n",
    "target_col = 'positive_score'\n",
    "sequence_type = 'nucleic_acid'\n",
    "\n",
    "task = 'binary_classification' # binary_classification, multiclass_classification, regression\n",
    "\n",
    "model_folder = '../exemplars/large_synthetic_nucleic_acids/models/'\n",
    "output_folder = '../exemplars/large_synthetic_nucleic_acids/outputs/'\n",
    "\n",
    "run_bioautomated(task, data_folder, data_file, sequence_type, model_folder, output_folder, input_col=input_col, target_col=target_col, dataset_robustness=dataset_robustness, run_interpretation=run_interpretation, run_design=run_design)\n"
   ]
  },
  {
   "cell_type": "markdown",
   "metadata": {},
   "source": [
    "# RBS - Hollerer et al."
   ]
  },
  {
   "cell_type": "code",
   "execution_count": null,
   "metadata": {},
   "outputs": [],
   "source": [
    "# optional add-ons\n",
    "dataset_robustness = True # try with different fractions of your dataset, may add time\n",
    "run_interpretation = True\n",
    "run_design = True\n",
    "\n",
    "#shutil.rmtree('../exemplars/rbs/', ignore_errors = True)\n",
    "os.mkdir('../exemplars/rbs/')\n",
    "\n",
    "data_folder = '../clean_data/clean/'\n",
    "data_file = 'hollerer_rbs_train.csv'\n",
    "input_col = 'seq'\n",
    "target_col = 'out'\n",
    "sequence_type = 'nucleic_acid'\n",
    "task = 'binary_classification' # binary_classification, multiclass_classification, regression\n",
    "\n",
    "model_folder = '../exemplars/rbs/models/'\n",
    "output_folder = '../exemplars/rbs/outputs/'\n",
    "\n",
    "run_bioautomated(task, data_folder, data_file, sequence_type, model_folder, output_folder, input_col=input_col, target_col=target_col, dataset_robustness=dataset_robustness, run_interpretation=run_interpretation, run_design=run_design)\n"
   ]
  },
  {
   "cell_type": "markdown",
   "metadata": {},
   "source": [
    "# Peptides"
   ]
  },
  {
   "cell_type": "code",
   "execution_count": null,
   "metadata": {},
   "outputs": [],
   "source": [
    "# optional add-ons\n",
    "dataset_robustness = True # try with different fractions of your dataset, may add time\n",
    "run_interpretation = True\n",
    "run_design = True\n",
    "\n",
    "#shutil.rmtree('../exemplars/peptides/', ignore_errors = True)\n",
    "os.mkdir('../exemplars/peptides/')\n",
    "\n",
    "data_folder = '../clean_data/clean/'\n",
    "data_file = 'classification_train_peptides.csv'\n",
    "input_col = 'seq'\n",
    "target_col = 'target'\n",
    "sequence_type = 'protein'\n",
    "\n",
    "task = 'binary_classification' # binary_classification, multiclass_classification, regression\n",
    "\n",
    "model_folder = '../exemplars/peptides/models/'\n",
    "output_folder = '../exemplars/peptides/outputs/'\n",
    "\n",
    "run_bioautomated(task, data_folder, data_file, sequence_type, model_folder, output_folder, input_col=input_col, target_col=target_col, dataset_robustness=dataset_robustness, run_interpretation=run_interpretation, run_design=run_design)\n"
   ]
  },
  {
   "cell_type": "markdown",
   "metadata": {},
   "source": [
    "# Glycans - immunogenic"
   ]
  },
  {
   "cell_type": "code",
   "execution_count": null,
   "metadata": {},
   "outputs": [],
   "source": [
    "# optional add-ons\n",
    "dataset_robustness = True # try with different fractions of your dataset, may add time\n",
    "run_interpretation = False\n",
    "run_design = False\n",
    "\n",
    "# glycan specific\n",
    "max_runtime_minutes = 180\n",
    "\n",
    "#shutil.rmtree('../exemplars/glycans_immunogenic/', ignore_errors = True)\n",
    "os.mkdir('../exemplars/glycans_immunogenic/')\n",
    "\n",
    "pad_seqs = 'max' # pads seqs to max length\n",
    "\n",
    "data_folder = '../clean_data/clean/'\n",
    "data_file = 'immunogenic_glycans.csv'\n",
    "input_col = 'seq'\n",
    "target_col = 'target'\n",
    "sequence_type = 'glycan'\n",
    "\n",
    "task = 'binary_classification' # binary_classification, multiclass_classification, regression\n",
    "\n",
    "model_folder = '../exemplars/glycans_immunogenic/models/'\n",
    "output_folder = '../exemplars/glycans_immunogenic/outputs/'\n",
    "\n",
    "run_bioautomated(task, data_folder, data_file, sequence_type, model_folder, output_folder, input_col=input_col, target_col=target_col, pad_seqs=pad_seqs, max_runtime_minutes=max_runtime_minutes, dataset_robustness=dataset_robustness, run_interpretation=run_interpretation, run_design=run_design)\n"
   ]
  },
  {
   "cell_type": "markdown",
   "metadata": {},
   "source": [
    "# Toeholds"
   ]
  },
  {
   "cell_type": "code",
   "execution_count": null,
   "metadata": {
    "scrolled": true
   },
   "outputs": [],
   "source": [
    "# optional add-ons\n",
    "dataset_robustness = True # try with different fractions of your dataset, may add time\n",
    "run_interpretation = True\n",
    "run_design = True\n",
    "\n",
    "#shutil.rmtree('../exemplars/toeholds/', ignore_errors = True)\n",
    "os.mkdir('../exemplars/toeholds/')\n",
    "\n",
    "data_folder = '../clean_data/clean/'\n",
    "data_file = 'toeholds.csv'\n",
    "input_col = 'seq'\n",
    "target_col = 'ON'\n",
    "sequence_type = 'nucleic_acid'\n",
    "\n",
    "task = 'binary_classification' # binary_classification, multiclass_classification, regression\n",
    "\n",
    "run_design = True\n",
    "constraint_file_path = '../clean_data/toehold_constraints.xlsx'\n",
    "design_params = {'k' : 3, \n",
    "                'substitution_type' : 'constrained_random',\n",
    "                'target_y' : 1,\n",
    "                'class_of_interest' : 1, # must be zero if task is regression\n",
    "                'constraint_file_path' : constraint_file_path,\n",
    "                'de_novo_num_seqs_to_test' : 100,\n",
    "                'storm_num_seqs_to_test' : 5,\n",
    "                 'num_of_optimization_rounds' : 5}\n",
    "\n",
    "model_folder = '../exemplars/toeholds/models/'\n",
    "output_folder = '../exemplars/toeholds/outputs/'\n",
    "\n",
    "run_bioautomated(task, data_folder, data_file, sequence_type, model_folder, output_folder, input_col=input_col, target_col=target_col, dataset_robustness=dataset_robustness, run_interpretation=run_interpretation, run_design=run_design, design_params=design_params)\n"
   ]
  }
 ],
 "metadata": {
  "kernelspec": {
   "display_name": "automl_py37",
   "language": "python",
   "name": "automl_py37"
  },
  "language_info": {
   "codemirror_mode": {
    "name": "ipython",
    "version": 3
   },
   "file_extension": ".py",
   "mimetype": "text/x-python",
   "name": "python",
   "nbconvert_exporter": "python",
   "pygments_lexer": "ipython3",
   "version": "3.7.10"
  }
 },
 "nbformat": 4,
 "nbformat_minor": 2
}
