{
 "cells": [
  {
   "cell_type": "markdown",
   "metadata": {},
   "source": [
    "# NOTE: this code is normally obscured within BioSeq-AutoML\n",
    "### For maximum flexibility and so users can continue to explore the codebase, we have pulled out the relevant functionality for all intepretation module functions."
   ]
  },
  {
   "cell_type": "code",
   "execution_count": 1,
   "metadata": {},
   "outputs": [
    {
     "name": "stderr",
     "output_type": "stream",
     "text": [
      "Using TensorFlow backend.\n"
     ]
    },
    {
     "name": "stdout",
     "output_type": "stream",
     "text": [
      "Better speed can be achieved with apex installed from https://www.github.com/nvidia/apex.\n"
     ]
    }
   ],
   "source": [
    "# import statements \n",
    "import sys\n",
    "sys.path.insert(1, './main_classes/')\n",
    "from CAML_generic_deepswarm import convert_deepswarm_input\n",
    "from CAML_interpret_helpers import plot_rawseqlogos, get_one_bp_mismatches, get_new_mismatch_seqs\n",
    "from CAML_generic_automl_classes import AutoMLBackend\n",
    "from CAML_generic_automl_classes import process_glycans, checkValidity, fill, makeComplement\n",
    "from CAML_constraints_for_design_helpers import *\n",
    "from CAML_interpret_helpers import plot_mutagenesis, plot_rawseqlogos, plot_activation_maps, plot_saliency_maps, plot_seqlogos\n"
   ]
  },
  {
   "cell_type": "markdown",
   "metadata": {},
   "source": [
    "# Toeholds - binary classification example"
   ]
  },
  {
   "cell_type": "code",
   "execution_count": 2,
   "metadata": {
    "scrolled": false
   },
   "outputs": [
    {
     "name": "stdout",
     "output_type": "stream",
     "text": [
      "Confirmed: All sequence characters are in alphabet\n",
      "Confirmed: No need to pad or truncate, all sequences same length\n",
      "Confirmed: No data augmentation requested\n",
      "Confirmed: Scrambled control generated.\n"
     ]
    }
   ],
   "source": [
    "# read in data file\n",
    "data_dir = './clean_data/clean/'\n",
    "file_name = 'toeholds.csv'\n",
    "data_df = pd.read_csv(data_dir + file_name,sep=',')\n",
    "data_df = data_df.iloc[0:5000,:]\n",
    "data_df.head(3)\n",
    "\n",
    "# give inputs for data generation\n",
    "input_col_name = 'seq'\n",
    "df_data_input = data_df[input_col_name]\n",
    "df_data_output = data_df['target']\n",
    "pad_seqs = False\n",
    "augment_data = 'none'\n",
    "sequence_type = 'nucleic_acid'\n",
    "\n",
    "# give inputs for paths\n",
    "final_model_path = './final_exemplars/toeholds/outputs/deepswarm/binary_classification/'\n",
    "final_model_name = 'deepswarm_deploy_model.h5'\n",
    "model_type = 'deepswarm'\n",
    "output_folder = final_model_path\n",
    "plot_path = final_model_path + 'interpretation/'\n",
    "\n",
    "# give inputs for interpretation options\n",
    "interpret_params = {'sample_number_class_activation_maps' : 100, \n",
    "                   'class_activation_grad_modifier' : 'absolute',\n",
    "                   'class_activation_layer_index' : -2,\n",
    "                    'sample_number_saliency_maps' : 100,\n",
    "                   'saliency_map_grad_modifier' : 'absolute',\n",
    "                   'saliency_map_layer_index' : -1, \n",
    "                   'sample_number_mutagenesis' : 100}\n",
    "\n",
    "# format data inputs appropriately for autoML platform\n",
    "numerical_data_input, oh_data_input, df_data_output, scrambled_numerical_data_input, scrambled_oh_data_input, alph = convert_deepswarm_input(df_data_input, df_data_output, pad_seqs, augment_data, sequence_type)\n",
    "\n",
    "# handle numerical data inputs\n",
    "numerical = []\n",
    "numericalbool = True\n",
    "for x in list(df_data_output.values):\n",
    "    try:\n",
    "        x = float(x)\n",
    "        numerical.append(x)\n",
    "    except Exception as e:\n",
    "        numericalbool = False\n",
    "        break\n"
   ]
  },
  {
   "cell_type": "code",
   "execution_count": 3,
   "metadata": {
    "scrolled": true
   },
   "outputs": [
    {
     "name": "stdout",
     "output_type": "stream",
     "text": [
      "Generating saliency maps...\n",
      "WARNING:tensorflow:From /anaconda2/envs/automl_py37/lib/python3.7/site-packages/tensorflow/python/framework/op_def_library.py:263: colocate_with (from tensorflow.python.framework.ops) is deprecated and will be removed in a future version.\n",
      "Instructions for updating:\n",
      "Colocations handled automatically by placer.\n",
      "WARNING:tensorflow:From /anaconda2/envs/automl_py37/lib/python3.7/site-packages/tensorflow/python/ops/math_ops.py:3066: to_int32 (from tensorflow.python.ops.math_ops) is deprecated and will be removed in a future version.\n",
      "Instructions for updating:\n",
      "Use tf.cast instead.\n",
      "Saliency map saved to ./final_exemplars/toeholds/outputs/deepswarm/binary_classification/interpretation/deepswarm_deploy_model_saliency.png\n",
      "Generating class activation maps...\n",
      "Activation map saved to ./final_exemplars/toeholds/outputs/deepswarm/binary_classification/interpretation/deepswarm_deploy_model_activation.png\n",
      "Generating in silico mutagenesis plots...\n",
      "DeepSwarm\n",
      "In silico mutagenesis plot saved to ./final_exemplars/toeholds/outputs/deepswarm/binary_classification/interpretation/deepswarm_deploy_model_mutagenesis.png\n",
      "AutoKeras\n",
      "In silico mutagenesis plot saved to ./final_exemplars/toeholds/outputs/autokeras/binary_classification/interpretation/optimized_autokeras_pipeline_classification_mutagenesis.png\n",
      "TPOT\n",
      "In silico mutagenesis plot saved to ./final_exemplars/toeholds/outputs/tpot/binary_classification/interpretation/final_model_tpot_classification.pkl_mutagenesis.png\n"
     ]
    }
   ],
   "source": [
    "# now do the interpretation plots        \n",
    "# saliency maps\n",
    "print(\"Generating saliency maps...\")\n",
    "plot_name = '_saliency.png'\n",
    "plot_saliency_maps(numerical_data_input, oh_data_input, alph, final_model_path, final_model_name, plot_path, plot_name, sequence_type, interpret_params)\n",
    "\n",
    "# class activation maps\n",
    "print(\"Generating class activation maps...\")\n",
    "plot_name = '_activation.png'\n",
    "plot_activation_maps(numerical_data_input, oh_data_input, alph, final_model_path, final_model_name, plot_path, plot_name, sequence_type, interpret_params)\n",
    " \n",
    "# in silico mutagenesis     \n",
    "print(\"Generating in silico mutagenesis plots...\")\n",
    "print(\"DeepSwarm\")\n",
    "final_model_path = './final_exemplars/toeholds/outputs/deepswarm/binary_classification/'\n",
    "final_model_name = 'deepswarm_deploy_model.h5'\n",
    "output_folder = final_model_path\n",
    "plot_path = final_model_path + 'interpretation/'\n",
    "plot_name = '_mutagenesis.png'\n",
    "plot_mutagenesis(numerical_data_input, oh_data_input, alph, numerical, numericalbool, final_model_path, final_model_name, plot_path, plot_name, sequence_type, model_type, interpret_params)\n",
    "\n",
    "print(\"AutoKeras\")\n",
    "final_model_path = './final_exemplars/toeholds/models/autokeras/binary_classification/'\n",
    "final_model_name = 'optimized_autokeras_pipeline_classification.h5'\n",
    "output_folder = './final_exemplars/toeholds/outputs/autokeras/binary_classification/'\n",
    "plot_path = output_folder + 'interpretation/'\n",
    "model_type = 'autokeras'\n",
    "plot_mutagenesis(numerical_data_input, oh_data_input, alph, numerical, numericalbool, final_model_path, final_model_name, plot_path, plot_name, sequence_type, model_type, interpret_params)\n",
    "\n",
    "print(\"TPOT\")\n",
    "final_model_path = './final_exemplars/toeholds/outputs/tpot/binary_classification/'\n",
    "final_model_name = 'final_model_tpot_classification.pkl'\n",
    "output_folder = final_model_path\n",
    "plot_path = final_model_path + 'interpretation/'\n",
    "model_type = 'tpot'\n",
    "plot_mutagenesis(numerical_data_input, oh_data_input, alph, numerical, numericalbool, final_model_path, final_model_name, plot_path, plot_name, sequence_type, model_type, interpret_params)"
   ]
  },
  {
   "cell_type": "code",
   "execution_count": null,
   "metadata": {},
   "outputs": [],
   "source": []
  }
 ],
 "metadata": {
  "kernelspec": {
   "display_name": "automl_py37",
   "language": "python",
   "name": "automl_py37"
  },
  "language_info": {
   "codemirror_mode": {
    "name": "ipython",
    "version": 3
   },
   "file_extension": ".py",
   "mimetype": "text/x-python",
   "name": "python",
   "nbconvert_exporter": "python",
   "pygments_lexer": "ipython3",
   "version": "3.7.10"
  }
 },
 "nbformat": 4,
 "nbformat_minor": 2
}
