{
 "cells": [
  {
   "cell_type": "markdown",
   "metadata": {},
   "source": [
    "# NOTE: this code is normally obscured within BioSeq-AutoML\n",
    "### For maximum flexibility and so users can continue to explore the codebase, we have pulled out the relevant functionality for all intepretation module functions."
   ]
  },
  {
   "cell_type": "code",
   "execution_count": 1,
   "metadata": {},
   "outputs": [
    {
     "name": "stderr",
     "output_type": "stream",
     "text": [
      "Using TensorFlow backend.\n"
     ]
    },
    {
     "name": "stdout",
     "output_type": "stream",
     "text": [
      "Better speed can be achieved with apex installed from https://www.github.com/nvidia/apex.\n"
     ]
    }
   ],
   "source": [
    "# import statements \n",
    "import sys\n",
    "sys.path.insert(1, './main_classes/')\n",
    "from BioSeqAutoML_generic_deepswarm import convert_deepswarm_input\n",
    "from BioSeqAutoML_interpret_helpers import plot_rawseqlogos, get_one_bp_mismatches, get_new_mismatch_seqs\n",
    "from BioSeqAutoML_generic_automl_classes import AutoMLBackend\n",
    "from BioSeqAutoML_generic_automl_classes import process_glycans, checkValidity, fill, makeComplement\n",
    "from BioSeqAutoML_constraints_for_design_helpers import *\n",
    "from BioSeqAutoML_interpret_helpers import plot_ft_importance, plot_mutagenesis, plot_rawseqlogos, plot_activation_maps, plot_saliency_maps, plot_seqlogos\n"
   ]
  },
  {
   "cell_type": "markdown",
   "metadata": {},
   "source": [
    "# Immunogenic glycans"
   ]
  },
  {
   "cell_type": "code",
   "execution_count": 2,
   "metadata": {},
   "outputs": [
    {
     "data": {
      "text/html": [
       "<div>\n",
       "<style scoped>\n",
       "    .dataframe tbody tr th:only-of-type {\n",
       "        vertical-align: middle;\n",
       "    }\n",
       "\n",
       "    .dataframe tbody tr th {\n",
       "        vertical-align: top;\n",
       "    }\n",
       "\n",
       "    .dataframe thead th {\n",
       "        text-align: right;\n",
       "    }\n",
       "</style>\n",
       "<table border=\"1\" class=\"dataframe\">\n",
       "  <thead>\n",
       "    <tr style=\"text-align: right;\">\n",
       "      <th></th>\n",
       "      <th>seq</th>\n",
       "      <th>target</th>\n",
       "    </tr>\n",
       "  </thead>\n",
       "  <tbody>\n",
       "    <tr>\n",
       "      <th>0</th>\n",
       "      <td>Rha(a1-2)Rha(a1-3)Rha(b1-4)Rha</td>\n",
       "      <td>1.0</td>\n",
       "    </tr>\n",
       "    <tr>\n",
       "      <th>1</th>\n",
       "      <td>FucNAc(a1-3)QuiNAcNBut(b1-4)FucNAc</td>\n",
       "      <td>1.0</td>\n",
       "    </tr>\n",
       "    <tr>\n",
       "      <th>2</th>\n",
       "      <td>[Col(a1-2)]Gal(b1-3)[Col(a1-4)]GlcNAc(b1-4)Gal...</td>\n",
       "      <td>1.0</td>\n",
       "    </tr>\n",
       "  </tbody>\n",
       "</table>\n",
       "</div>"
      ],
      "text/plain": [
       "                                                 seq  target\n",
       "0                     Rha(a1-2)Rha(a1-3)Rha(b1-4)Rha     1.0\n",
       "1                 FucNAc(a1-3)QuiNAcNBut(b1-4)FucNAc     1.0\n",
       "2  [Col(a1-2)]Gal(b1-3)[Col(a1-4)]GlcNAc(b1-4)Gal...     1.0"
      ]
     },
     "metadata": {},
     "output_type": "display_data"
    },
    {
     "name": "stdout",
     "output_type": "stream",
     "text": [
      "Confirmed: All sequence characters are in alphabet\n",
      "Padding all sequences to a length of 47\n",
      "Confirmed: No data augmentation requested\n",
      "Confirmed: Scrambled control generated.\n"
     ]
    }
   ],
   "source": [
    "# read in data file\n",
    "data_dir = './clean_data/clean/'\n",
    "file_name = 'immunogenic_glycans.csv'\n",
    "data_df = pd.read_csv(data_dir + file_name,sep=',')\n",
    "display(data_df.head(3))\n",
    "\n",
    "# give inputs for data generation\n",
    "input_col_name = 'seq'\n",
    "df_data_input = data_df[input_col_name]\n",
    "df_data_output = data_df['target']\n",
    "pad_seqs = 'max'\n",
    "augment_data = 'none'\n",
    "sequence_type = 'glycan'\n",
    "\n",
    "# give inputs for paths\n",
    "final_model_path = './exemplars/glycans_immunogenic/outputs/deepswarm/binary_classification/'\n",
    "final_model_name = 'deepswarm_deploy_model.h5'\n",
    "model_type = 'deepswarm'\n",
    "output_folder = final_model_path\n",
    "plot_path = final_model_path + 'interpretation/'\n",
    "\n",
    "# give inputs for interpretation options\n",
    "interpret_params = {'sample_number_class_activation_maps' : 100, \n",
    "                   'class_activation_grad_modifier' : 'absolute',\n",
    "                   'class_activation_layer_index' : -2,\n",
    "                    'sample_number_saliency_maps' : 100,\n",
    "                   'saliency_map_grad_modifier' : 'absolute',\n",
    "                   'saliency_map_layer_index' : -1, \n",
    "                   'sample_number_mutagenesis' : 100}\n",
    "\n",
    "# format data inputs appropriately for autoML platform\n",
    "numerical_data_input, oh_data_input, df_data_output, scrambled_numerical_data_input, scrambled_oh_data_input, alph = convert_deepswarm_input(df_data_input, df_data_output, pad_seqs, augment_data, sequence_type)\n",
    "\n",
    "# handle numerical data inputs\n",
    "numerical = []\n",
    "numericalbool = True\n",
    "for x in list(df_data_output.values):\n",
    "    try:\n",
    "        x = float(x)\n",
    "        numerical.append(x)\n",
    "    except Exception as e:\n",
    "        numericalbool = False\n",
    "        break"
   ]
  },
  {
   "cell_type": "code",
   "execution_count": 4,
   "metadata": {},
   "outputs": [
    {
     "name": "stdout",
     "output_type": "stream",
     "text": [
      "Generating saliency maps...\n",
      "Saliency map saved to ./exemplars/glycans_immunogenic/outputs/deepswarm/binary_classification/interpretation/deepswarm_deploy_model_saliency.png\n",
      "Generating class activation maps...\n",
      "Activation map saved to ./exemplars/glycans_immunogenic/outputs/deepswarm/binary_classification/interpretation/deepswarm_deploy_model_activation.png\n",
      "Generating in silico mutagenesis plots...\n",
      "DeepSwarm\n",
      "In silico mutagenesis plot saved to ./exemplars/glycans_immunogenic/outputs/deepswarm/binary_classification/interpretation/deepswarm_deploy_model_mutagenesis.png\n",
      "AutoKeras\n",
      "In silico mutagenesis plot saved to ./final_exemplars/glycans_immunogenic/outputs/autokeras/binary_classification/interpretation/optimized_autokeras_pipeline_classification_mutagenesis.png\n",
      "TPOT\n"
     ]
    },
    {
     "ename": "NameError",
     "evalue": "name 'plot_ft_importance' is not defined",
     "output_type": "error",
     "traceback": [
      "\u001b[0;31m---------------------------------------------------------------------------\u001b[0m",
      "\u001b[0;31mNameError\u001b[0m                                 Traceback (most recent call last)",
      "\u001b[0;32m<ipython-input-4-5bbe9f3d82db>\u001b[0m in \u001b[0;36m<module>\u001b[0;34m\u001b[0m\n\u001b[1;32m     34\u001b[0m \u001b[0mplot_path\u001b[0m \u001b[0;34m=\u001b[0m \u001b[0mfinal_model_path\u001b[0m \u001b[0;34m+\u001b[0m \u001b[0;34m'interpretation/'\u001b[0m\u001b[0;34m\u001b[0m\u001b[0;34m\u001b[0m\u001b[0m\n\u001b[1;32m     35\u001b[0m \u001b[0mmodel_type\u001b[0m \u001b[0;34m=\u001b[0m \u001b[0;34m'tpot'\u001b[0m\u001b[0;34m\u001b[0m\u001b[0;34m\u001b[0m\u001b[0m\n\u001b[0;32m---> 36\u001b[0;31m \u001b[0mplot_ft_importance\u001b[0m\u001b[0;34m(\u001b[0m\u001b[0moh_data_input\u001b[0m\u001b[0;34m,\u001b[0m \u001b[0mfinal_model_path\u001b[0m\u001b[0;34m,\u001b[0m \u001b[0mfinal_model_name\u001b[0m\u001b[0;34m,\u001b[0m \u001b[0mfinal_model_path\u001b[0m \u001b[0;34m+\u001b[0m \u001b[0;34m'interpretation/'\u001b[0m\u001b[0;34m,\u001b[0m \u001b[0;34m'_feature_importances.png'\u001b[0m\u001b[0;34m)\u001b[0m\u001b[0;34m\u001b[0m\u001b[0;34m\u001b[0m\u001b[0m\n\u001b[0m\u001b[1;32m     37\u001b[0m \u001b[0mplot_mutagenesis\u001b[0m\u001b[0;34m(\u001b[0m\u001b[0mnumerical_data_input\u001b[0m\u001b[0;34m,\u001b[0m \u001b[0moh_data_input\u001b[0m\u001b[0;34m,\u001b[0m \u001b[0malph\u001b[0m\u001b[0;34m,\u001b[0m \u001b[0mnumerical\u001b[0m\u001b[0;34m,\u001b[0m \u001b[0mnumericalbool\u001b[0m\u001b[0;34m,\u001b[0m \u001b[0mfinal_model_path\u001b[0m\u001b[0;34m,\u001b[0m \u001b[0mfinal_model_name\u001b[0m\u001b[0;34m,\u001b[0m \u001b[0mplot_path\u001b[0m\u001b[0;34m,\u001b[0m \u001b[0mplot_name\u001b[0m\u001b[0;34m,\u001b[0m \u001b[0msequence_type\u001b[0m\u001b[0;34m,\u001b[0m \u001b[0mmodel_type\u001b[0m\u001b[0;34m,\u001b[0m \u001b[0minterpret_params\u001b[0m\u001b[0;34m)\u001b[0m\u001b[0;34m\u001b[0m\u001b[0;34m\u001b[0m\u001b[0m\n",
      "\u001b[0;31mNameError\u001b[0m: name 'plot_ft_importance' is not defined"
     ]
    }
   ],
   "source": [
    "# now do the interpretation plots        \n",
    "# saliency maps\n",
    "print(\"Generating saliency maps...\")\n",
    "plot_name = '_saliency.png'\n",
    "plot_saliency_maps(numerical_data_input, oh_data_input, alph, final_model_path, final_model_name, plot_path, plot_name, sequence_type, interpret_params)\n",
    "\n",
    "# class activation maps\n",
    "print(\"Generating class activation maps...\")\n",
    "plot_name = '_activation.png'\n",
    "plot_activation_maps(numerical_data_input, oh_data_input, alph, final_model_path, final_model_name, plot_path, plot_name, sequence_type, interpret_params)\n",
    " \n",
    "# in silico mutagenesis     \n",
    "print(\"Generating in silico mutagenesis plots...\")\n",
    "print(\"DeepSwarm\")\n",
    "final_model_path = './exemplars/glycans_immunogenic/outputs/deepswarm/binary_classification/'\n",
    "final_model_name = 'deepswarm_deploy_model.h5'\n",
    "output_folder = final_model_path\n",
    "plot_path = final_model_path + 'interpretation/'\n",
    "plot_name = '_mutagenesis.png'\n",
    "plot_mutagenesis(numerical_data_input, oh_data_input, alph, numerical, numericalbool, final_model_path, final_model_name, plot_path, plot_name, sequence_type, model_type, interpret_params)\n",
    "\n",
    "print(\"AutoKeras\")\n",
    "final_model_path = './exemplars/glycans_immunogenic/models/autokeras/binary_classification/'\n",
    "final_model_name = 'optimized_autokeras_pipeline_classification.h5'\n",
    "output_folder = './final_exemplars/glycans_immunogenic/outputs/autokeras/binary_classification/'\n",
    "plot_path = output_folder + 'interpretation/'\n",
    "model_type = 'autokeras'\n",
    "plot_mutagenesis(numerical_data_input, oh_data_input, alph, numerical, numericalbool, final_model_path, final_model_name, plot_path, plot_name, sequence_type, model_type, interpret_params)\n",
    "\n",
    "print(\"TPOT\")\n",
    "final_model_path = './final_exemplars/glycans_immunogenic/outputs/tpot/binary_classification/'\n",
    "final_model_name = 'final_model_tpot_classification.pkl'\n",
    "output_folder = final_model_path\n",
    "plot_path = final_model_path + 'interpretation/'\n",
    "model_type = 'tpot'\n",
    "plot_ft_importance(oh_data_input, final_model_path, final_model_name, final_model_path + 'interpretation/', '_feature_importances.png')\n",
    "plot_mutagenesis(numerical_data_input, oh_data_input, alph, numerical, numericalbool, final_model_path, final_model_name, plot_path, plot_name, sequence_type, model_type, interpret_params)"
   ]
  },
  {
   "cell_type": "code",
   "execution_count": 7,
   "metadata": {},
   "outputs": [
    {
     "name": "stdout",
     "output_type": "stream",
     "text": [
      "TPOT\n",
      "No feature importances can be computed from this model.\n",
      "In silico mutagenesis plot saved to ./final_exemplars/glycans_immunogenic/outputs/tpot/binary_classification/interpretation/final_model_tpot_classification.pkl_mutagenesis.png\n"
     ]
    }
   ],
   "source": [
    "\n",
    "print(\"TPOT\")\n",
    "final_model_path = './final_exemplars/glycans_immunogenic/outputs/tpot/binary_classification/'\n",
    "final_model_name = 'final_model_tpot_classification.pkl'\n",
    "output_folder = final_model_path\n",
    "plot_path = final_model_path + 'interpretation/'\n",
    "model_type = 'tpot'\n",
    "plot_ft_importance(oh_data_input, final_model_path, final_model_name, final_model_path + 'interpretation/', '_feature_importances.png')\n",
    "plot_mutagenesis(numerical_data_input, oh_data_input, alph, numerical, numericalbool, final_model_path, final_model_name, plot_path, plot_name, sequence_type, model_type, interpret_params)"
   ]
  },
  {
   "cell_type": "markdown",
   "metadata": {},
   "source": [
    "# Glycans - multi-class domain classification"
   ]
  },
  {
   "cell_type": "code",
   "execution_count": 2,
   "metadata": {},
   "outputs": [
    {
     "data": {
      "text/html": [
       "<div>\n",
       "<style scoped>\n",
       "    .dataframe tbody tr th:only-of-type {\n",
       "        vertical-align: middle;\n",
       "    }\n",
       "\n",
       "    .dataframe tbody tr th {\n",
       "        vertical-align: top;\n",
       "    }\n",
       "\n",
       "    .dataframe thead th {\n",
       "        text-align: right;\n",
       "    }\n",
       "</style>\n",
       "<table border=\"1\" class=\"dataframe\">\n",
       "  <thead>\n",
       "    <tr style=\"text-align: right;\">\n",
       "      <th></th>\n",
       "      <th>seq</th>\n",
       "      <th>target</th>\n",
       "    </tr>\n",
       "  </thead>\n",
       "  <tbody>\n",
       "    <tr>\n",
       "      <th>0</th>\n",
       "      <td>Man(a1-3)[Man(a1-6)][Xyl(b1-2)]Man(b1-4)GlcNAc...</td>\n",
       "      <td>Eukarya</td>\n",
       "    </tr>\n",
       "    <tr>\n",
       "      <th>1</th>\n",
       "      <td>GlcNAc(b1-2)Man(a1-3)[Man(a1-6)][Xyl(b1-2)]Man...</td>\n",
       "      <td>Eukarya</td>\n",
       "    </tr>\n",
       "    <tr>\n",
       "      <th>2</th>\n",
       "      <td>GlcNAc(b1-2)Man(a1-6)[Man(a1-3)][Xyl(b1-2)]Man...</td>\n",
       "      <td>Eukarya</td>\n",
       "    </tr>\n",
       "  </tbody>\n",
       "</table>\n",
       "</div>"
      ],
      "text/plain": [
       "                                                 seq   target\n",
       "0  Man(a1-3)[Man(a1-6)][Xyl(b1-2)]Man(b1-4)GlcNAc...  Eukarya\n",
       "1  GlcNAc(b1-2)Man(a1-3)[Man(a1-6)][Xyl(b1-2)]Man...  Eukarya\n",
       "2  GlcNAc(b1-2)Man(a1-6)[Man(a1-3)][Xyl(b1-2)]Man...  Eukarya"
      ]
     },
     "metadata": {},
     "output_type": "display_data"
    },
    {
     "name": "stdout",
     "output_type": "stream",
     "text": [
      "Warning: Unknown letter(s) \"Man\" found in sequence\n",
      "Example of bad letter Man: ['Man', 'a1-3', 'Man', 'a1-6', 'Xyl', 'b1-2', 'Man', 'b1-4', 'GlcNAc', 'b1-4', 'Fuc', 'a1-3', 'GlcNAc']\n",
      "Truncating all sequences to a length of 11\n",
      "Confirmed: No data augmentation requested\n",
      "Confirmed: Scrambled control generated.\n"
     ]
    }
   ],
   "source": [
    "# read in data file\n",
    "data_dir = './clean_data/multiclass/'\n",
    "file_name = 'domain_glycans.csv'\n",
    "data_df = pd.read_csv(data_dir + file_name,sep=',')\n",
    "display(data_df.head(3))\n",
    "\n",
    "# give inputs for data generation\n",
    "input_col_name = 'seq'\n",
    "df_data_input = data_df[input_col_name]\n",
    "df_data_output = data_df['target']\n",
    "pad_seqs = 'average'\n",
    "augment_data = 'none'\n",
    "sequence_type = 'glycan'\n",
    "\n",
    "# give inputs for paths\n",
    "final_model_path = './exemplars/glycan_domain_average/outputs/deepswarm/multiclass_classification/'\n",
    "final_model_name = 'deepswarm_deploy_model.h5'\n",
    "model_type = 'deepswarm'\n",
    "output_folder = final_model_path\n",
    "plot_path = final_model_path + 'interpretation/'\n",
    "\n",
    "# give inputs for interpretation options\n",
    "interpret_params = {'sample_number_class_activation_maps' : 100, \n",
    "                   'class_activation_grad_modifier' : 'absolute',\n",
    "                   'class_activation_layer_index' : -2,\n",
    "                    'sample_number_saliency_maps' : 100,\n",
    "                   'saliency_map_grad_modifier' : 'absolute',\n",
    "                   'saliency_map_layer_index' : -1, \n",
    "                   'sample_number_mutagenesis' : 100}\n",
    "\n",
    "# format data inputs appropriately for autoML platform\n",
    "numerical_data_input, oh_data_input, df_data_output, scrambled_numerical_data_input, scrambled_oh_data_input, alph = convert_deepswarm_input(df_data_input, df_data_output, pad_seqs, augment_data, sequence_type)\n",
    "\n",
    "# handle numerical data inputs\n",
    "numerical = []\n",
    "numericalbool = True\n",
    "for x in list(df_data_output.values):\n",
    "    try:\n",
    "        x = float(x)\n",
    "        numerical.append(x)\n",
    "    except Exception as e:\n",
    "        numericalbool = False\n",
    "        break"
   ]
  },
  {
   "cell_type": "code",
   "execution_count": 3,
   "metadata": {
    "scrolled": true
   },
   "outputs": [
    {
     "name": "stdout",
     "output_type": "stream",
     "text": [
      "Generating saliency maps...\n",
      "WARNING:tensorflow:From /anaconda2/envs/automl_py37/lib/python3.7/site-packages/tensorflow/python/framework/op_def_library.py:263: colocate_with (from tensorflow.python.framework.ops) is deprecated and will be removed in a future version.\n",
      "Instructions for updating:\n",
      "Colocations handled automatically by placer.\n",
      "WARNING:tensorflow:From /anaconda2/envs/automl_py37/lib/python3.7/site-packages/tensorflow/python/ops/math_ops.py:3066: to_int32 (from tensorflow.python.ops.math_ops) is deprecated and will be removed in a future version.\n",
      "Instructions for updating:\n",
      "Use tf.cast instead.\n",
      "Saliency map saved to ./exemplars/glycan_domain_average/outputs/deepswarm/multiclass_classification/interpretation/deepswarm_deploy_model_saliency.png\n",
      "Generating class activation maps...\n",
      "Activation map saved to ./exemplars/glycan_domain_average/outputs/deepswarm/multiclass_classification/interpretation/deepswarm_deploy_model_activation.png\n",
      "Generating in silico mutagenesis plots...\n",
      "DeepSwarm\n",
      "In silico mutagenesis plot saved to ./exemplars/glycan_domain_average/outputs/deepswarm/multiclass_classification/interpretation/deepswarm_deploy_model_mutagenesis.png\n",
      "AutoKeras\n",
      "In silico mutagenesis plot saved to ./exemplars/glycan_domain_average/outputs/autokeras/multiclass_classification/interpretation/optimized_autokeras_pipeline_classification_mutagenesis.png\n",
      "TPOT\n",
      "No feature importances can be computed from this model.\n",
      "In silico mutagenesis plot saved to ./exemplars/glycan_domain_average/outputs/tpot/multiclass_classification/interpretation/final_model_tpot_classification.pkl_mutagenesis.png\n"
     ]
    }
   ],
   "source": [
    "# now do the interpretation plots        \n",
    "# saliency maps\n",
    "print(\"Generating saliency maps...\")\n",
    "plot_name = '_saliency.png'\n",
    "plot_saliency_maps(numerical_data_input, oh_data_input, alph, final_model_path, final_model_name, plot_path, plot_name, sequence_type, interpret_params)\n",
    "\n",
    "# class activation maps\n",
    "print(\"Generating class activation maps...\")\n",
    "plot_name = '_activation.png'\n",
    "plot_activation_maps(numerical_data_input, oh_data_input, alph, final_model_path, final_model_name, plot_path, plot_name, sequence_type, interpret_params)\n",
    " \n",
    "# in silico mutagenesis     \n",
    "print(\"Generating in silico mutagenesis plots...\")\n",
    "print(\"DeepSwarm\")\n",
    "final_model_path = './exemplars/glycan_domain_average/outputs/deepswarm/multiclass_classification/'\n",
    "final_model_name = 'deepswarm_deploy_model.h5'\n",
    "output_folder = final_model_path\n",
    "plot_path = final_model_path + 'interpretation/'\n",
    "plot_name = '_mutagenesis.png'\n",
    "plot_mutagenesis(numerical_data_input, oh_data_input, alph, numerical, numericalbool, final_model_path, final_model_name, plot_path, plot_name, sequence_type, model_type, interpret_params)\n",
    "\n",
    "print(\"AutoKeras\")\n",
    "final_model_path = './exemplars/glycan_domain_average/models/autokeras/multiclass_classification/'\n",
    "final_model_name = 'optimized_autokeras_pipeline_classification.h5'\n",
    "output_folder = './exemplars/glycan_domain_average/outputs/autokeras/multiclass_classification/'\n",
    "plot_path = output_folder + 'interpretation/'\n",
    "model_type = 'autokeras'\n",
    "plot_mutagenesis(numerical_data_input, oh_data_input, alph, numerical, numericalbool, final_model_path, final_model_name, plot_path, plot_name, sequence_type, model_type, interpret_params)\n",
    "\n",
    "print(\"TPOT\")\n",
    "final_model_path = './exemplars/glycan_domain_average/outputs/tpot/multiclass_classification/'\n",
    "final_model_name = 'final_model_tpot_classification.pkl'\n",
    "output_folder = final_model_path\n",
    "plot_path = final_model_path + 'interpretation/'\n",
    "model_type = 'tpot'\n",
    "plot_ft_importance(oh_data_input, final_model_path, final_model_name, final_model_path + 'interpretation/', '_feature_importances.png')\n",
    "plot_mutagenesis(numerical_data_input, oh_data_input, alph, numerical, numericalbool, final_model_path, final_model_name, plot_path, plot_name, sequence_type, model_type, interpret_params)"
   ]
  },
  {
   "cell_type": "markdown",
   "metadata": {},
   "source": [
    "# Toeholds - binary classification example"
   ]
  },
  {
   "cell_type": "code",
   "execution_count": 2,
   "metadata": {
    "scrolled": false
   },
   "outputs": [
    {
     "name": "stdout",
     "output_type": "stream",
     "text": [
      "Confirmed: All sequence characters are in alphabet\n",
      "Confirmed: No need to pad or truncate, all sequences same length\n",
      "Confirmed: No data augmentation requested\n",
      "Confirmed: Scrambled control generated.\n"
     ]
    }
   ],
   "source": [
    "# read in data file\n",
    "data_dir = './clean_data/clean/'\n",
    "file_name = 'toeholds.csv'\n",
    "data_df = pd.read_csv(data_dir + file_name,sep=',')\n",
    "data_df = data_df.iloc[0:5000,:]\n",
    "data_df.head(3)\n",
    "\n",
    "# give inputs for data generation\n",
    "input_col_name = 'seq'\n",
    "df_data_input = data_df[input_col_name]\n",
    "df_data_output = data_df['target']\n",
    "pad_seqs = False\n",
    "augment_data = 'none'\n",
    "sequence_type = 'nucleic_acid'\n",
    "\n",
    "# give inputs for paths\n",
    "final_model_path = './final_exemplars/toeholds/outputs/deepswarm/binary_classification/'\n",
    "final_model_name = 'deepswarm_deploy_model.h5'\n",
    "model_type = 'deepswarm'\n",
    "output_folder = final_model_path\n",
    "plot_path = final_model_path + 'interpretation/'\n",
    "\n",
    "# give inputs for interpretation options\n",
    "interpret_params = {'sample_number_class_activation_maps' : 100, \n",
    "                   'class_activation_grad_modifier' : 'absolute',\n",
    "                   'class_activation_layer_index' : -2,\n",
    "                    'sample_number_saliency_maps' : 100,\n",
    "                   'saliency_map_grad_modifier' : 'absolute',\n",
    "                   'saliency_map_layer_index' : -1, \n",
    "                   'sample_number_mutagenesis' : 100}\n",
    "\n",
    "# format data inputs appropriately for autoML platform\n",
    "numerical_data_input, oh_data_input, df_data_output, scrambled_numerical_data_input, scrambled_oh_data_input, alph = convert_deepswarm_input(df_data_input, df_data_output, pad_seqs, augment_data, sequence_type)\n",
    "\n",
    "# handle numerical data inputs\n",
    "numerical = []\n",
    "numericalbool = True\n",
    "for x in list(df_data_output.values):\n",
    "    try:\n",
    "        x = float(x)\n",
    "        numerical.append(x)\n",
    "    except Exception as e:\n",
    "        numericalbool = False\n",
    "        break\n"
   ]
  },
  {
   "cell_type": "code",
   "execution_count": 3,
   "metadata": {
    "scrolled": true
   },
   "outputs": [
    {
     "name": "stdout",
     "output_type": "stream",
     "text": [
      "Generating saliency maps...\n",
      "WARNING:tensorflow:From /anaconda2/envs/automl_py37/lib/python3.7/site-packages/tensorflow/python/framework/op_def_library.py:263: colocate_with (from tensorflow.python.framework.ops) is deprecated and will be removed in a future version.\n",
      "Instructions for updating:\n",
      "Colocations handled automatically by placer.\n",
      "WARNING:tensorflow:From /anaconda2/envs/automl_py37/lib/python3.7/site-packages/tensorflow/python/ops/math_ops.py:3066: to_int32 (from tensorflow.python.ops.math_ops) is deprecated and will be removed in a future version.\n",
      "Instructions for updating:\n",
      "Use tf.cast instead.\n",
      "Saliency map saved to ./final_exemplars/toeholds/outputs/deepswarm/binary_classification/interpretation/deepswarm_deploy_model_saliency.png\n",
      "Generating class activation maps...\n",
      "Activation map saved to ./final_exemplars/toeholds/outputs/deepswarm/binary_classification/interpretation/deepswarm_deploy_model_activation.png\n",
      "Generating in silico mutagenesis plots...\n",
      "DeepSwarm\n",
      "In silico mutagenesis plot saved to ./final_exemplars/toeholds/outputs/deepswarm/binary_classification/interpretation/deepswarm_deploy_model_mutagenesis.png\n",
      "AutoKeras\n",
      "In silico mutagenesis plot saved to ./final_exemplars/toeholds/outputs/autokeras/binary_classification/interpretation/optimized_autokeras_pipeline_classification_mutagenesis.png\n",
      "TPOT\n",
      "In silico mutagenesis plot saved to ./final_exemplars/toeholds/outputs/tpot/binary_classification/interpretation/final_model_tpot_classification.pkl_mutagenesis.png\n"
     ]
    }
   ],
   "source": [
    "# now do the interpretation plots        \n",
    "# saliency maps\n",
    "print(\"Generating saliency maps...\")\n",
    "plot_name = '_saliency.png'\n",
    "plot_saliency_maps(numerical_data_input, oh_data_input, alph, final_model_path, final_model_name, plot_path, plot_name, sequence_type, interpret_params)\n",
    "\n",
    "# class activation maps\n",
    "print(\"Generating class activation maps...\")\n",
    "plot_name = '_activation.png'\n",
    "plot_activation_maps(numerical_data_input, oh_data_input, alph, final_model_path, final_model_name, plot_path, plot_name, sequence_type, interpret_params)\n",
    " \n",
    "# in silico mutagenesis     \n",
    "print(\"Generating in silico mutagenesis plots...\")\n",
    "print(\"DeepSwarm\")\n",
    "final_model_path = './final_exemplars/toeholds/outputs/deepswarm/binary_classification/'\n",
    "final_model_name = 'deepswarm_deploy_model.h5'\n",
    "output_folder = final_model_path\n",
    "plot_path = final_model_path + 'interpretation/'\n",
    "plot_name = '_mutagenesis.png'\n",
    "plot_mutagenesis(numerical_data_input, oh_data_input, alph, numerical, numericalbool, final_model_path, final_model_name, plot_path, plot_name, sequence_type, model_type, interpret_params)\n",
    "\n",
    "print(\"AutoKeras\")\n",
    "final_model_path = './final_exemplars/toeholds/models/autokeras/binary_classification/'\n",
    "final_model_name = 'optimized_autokeras_pipeline_classification.h5'\n",
    "output_folder = './final_exemplars/toeholds/outputs/autokeras/binary_classification/'\n",
    "plot_path = output_folder + 'interpretation/'\n",
    "model_type = 'autokeras'\n",
    "plot_mutagenesis(numerical_data_input, oh_data_input, alph, numerical, numericalbool, final_model_path, final_model_name, plot_path, plot_name, sequence_type, model_type, interpret_params)\n",
    "\n",
    "print(\"TPOT\")\n",
    "final_model_path = './final_exemplars/toeholds/outputs/tpot/binary_classification/'\n",
    "final_model_name = 'final_model_tpot_classification.pkl'\n",
    "output_folder = final_model_path\n",
    "plot_path = final_model_path + 'interpretation/'\n",
    "model_type = 'tpot'\n",
    "plot_ft_importance(oh_data_input, final_model_path, final_model_name, final_model_path + 'interpretation/', '_feature_importances.png')\n",
    "plot_mutagenesis(numerical_data_input, oh_data_input, alph, numerical, numericalbool, final_model_path, final_model_name, plot_path, plot_name, sequence_type, model_type, interpret_params)"
   ]
  },
  {
   "cell_type": "code",
   "execution_count": null,
   "metadata": {},
   "outputs": [],
   "source": []
  }
 ],
 "metadata": {
  "kernelspec": {
   "display_name": "automl_py37",
   "language": "python",
   "name": "automl_py37"
  },
  "language_info": {
   "codemirror_mode": {
    "name": "ipython",
    "version": 3
   },
   "file_extension": ".py",
   "mimetype": "text/x-python",
   "name": "python",
   "nbconvert_exporter": "python",
   "pygments_lexer": "ipython3",
   "version": "3.7.10"
  }
 },
 "nbformat": 4,
 "nbformat_minor": 2
}
