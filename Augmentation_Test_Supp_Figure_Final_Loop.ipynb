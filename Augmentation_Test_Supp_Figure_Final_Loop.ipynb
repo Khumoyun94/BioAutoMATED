{
 "cells": [
  {
   "cell_type": "markdown",
   "metadata": {},
   "source": [
    "Please note that to run different datasets or experiments with different parameters, you should restart the kernel and run the import statement and general parameter definition blocks again. This is due to graph operations needing to be reset between every experiment."
   ]
  },
  {
   "cell_type": "code",
   "execution_count": null,
   "metadata": {},
   "outputs": [],
   "source": [
    "import sys\n",
    "sys.path.insert(1, './main_classes/')\n",
    "from CAML_wrapper import run_bioseqml\n",
    "\n",
    "import shutil\n",
    "import os\n",
    "\n",
    "# make directory where these results can live - no need to run if already have a directory\n",
    "os.mkdir('./final_exemplars/S4_augmentation_tests/')"
   ]
  },
  {
   "cell_type": "markdown",
   "metadata": {},
   "source": [
    "# General Parameters (can be changed)"
   ]
  },
  {
   "cell_type": "code",
   "execution_count": null,
   "metadata": {},
   "outputs": [],
   "source": [
    "# specify parameters for the actual search (example)\n",
    "max_runtime_minutes = 30 # time in minutes to give to each implemented AutoML algorithms\n",
    "num_folds = 3 # recommend 3 - 5 folds for robustness\n",
    "verbosity = 0\n",
    "do_backup = False # make a backup of your outputs and models\n",
    "\n",
    "# required only for binary_classification\n",
    "# If do_auto_bin=True then binary threshold is set to None to be automatically generated\n",
    "do_auto_bin = True\n",
    "if do_auto_bin == True:\n",
    "    bin_threshold=None\n",
    "else:\n",
    "    bin_threshold = 0.75\n",
    "    \n",
    "# Optional Add-ons\n",
    "pad_seqs = 'max' # pads seqs to max length; options include 'max', 'min', 'average'\n",
    "augment_data = 'none' # available for nucleic acids: none, complement, rev_complement, both_complements\n",
    "dataset_robustness = False # try with different fractions of your dataset, may add time\n",
    "\n",
    "# interpretation options\n",
    "run_interpretation = False\n",
    "interpret_params = None\n",
    "\n",
    "# design options\n",
    "run_design = False\n",
    "design_params = None\n",
    "\n",
    "num_final_epochs = 50\n",
    "yaml_params = {'ant_count': 4, 'max_depth': 3, 'epochs': 5}\n",
    "num_generations = 50\n",
    "population_size = 50"
   ]
  },
  {
   "cell_type": "markdown",
   "metadata": {},
   "source": [
    "# ---------------------\n",
    "# RBS\n",
    "# ---------------------"
   ]
  },
  {
   "cell_type": "markdown",
   "metadata": {},
   "source": [
    "# RBS - Small No Aug"
   ]
  },
  {
   "cell_type": "code",
   "execution_count": null,
   "metadata": {
    "scrolled": true
   },
   "outputs": [],
   "source": [
    "os.mkdir('./final_exemplars/S4_augmentation_tests/rbs_small_no_aug/')\n",
    "\n",
    "data_folder = './clean_data/clean/'\n",
    "data_file = 'hollerer_rbs_smalltrain.csv' # just 2000 for the purposes of this experiment\n",
    "input_col = 'seq'\n",
    "target_col = 'out'\n",
    "sequence_type = 'nucleic_acid'\n",
    "\n",
    "augment_data = 'none'\n",
    "task = 'binary_classification' # binary_classification, multiclass_classification, regression\n",
    "\n",
    "# Specify target folders for saving models and results\n",
    "# Generic here - will add the tags specifying classification/regression\n",
    "# as well as specific for the AutoML tool being used (i.e. /tpot/)\n",
    "model_folder = './final_exemplars/S4_augmentation_tests/rbs_small_no_aug/models/'\n",
    "output_folder = './final_exemplars/S4_augmentation_tests/rbs_small_no_aug/outputs/'\n",
    "\n",
    "run_bioseqml(task, data_folder, data_file, sequence_type, model_folder, output_folder, max_runtime_minutes, num_folds, verbosity, do_backup, do_auto_bin, bin_threshold, input_col, target_col, pad_seqs, augment_data, dataset_robustness, num_final_epochs, yaml_params, num_generations, population_size, run_interpretation = run_interpretation, interpret_params = interpret_params, run_design = run_design, design_params = design_params)\n"
   ]
  },
  {
   "cell_type": "markdown",
   "metadata": {},
   "source": [
    "# RBS - Small Comp Aug"
   ]
  },
  {
   "cell_type": "code",
   "execution_count": null,
   "metadata": {
    "scrolled": true
   },
   "outputs": [],
   "source": [
    "os.mkdir('./final_exemplars/S4_augmentation_tests/rbs_small_comp_aug/')\n",
    "\n",
    "data_folder = './clean_data/clean/'\n",
    "data_file = 'hollerer_rbs_smalltrain.csv' # just 2000\n",
    "input_col = 'seq'\n",
    "target_col = 'out'\n",
    "sequence_type = 'nucleic_acid'\n",
    "\n",
    "augment_data = 'complement'\n",
    "task = 'binary_classification' # binary_classification, multiclass_classification, regression\n",
    "\n",
    "# Specify target folders for saving models and results\n",
    "# Generic here - will add the tags specifying classification/regression\n",
    "# as well as specific for the AutoML tool being used (i.e. /tpot/)\n",
    "model_folder = './final_exemplars/S4_augmentation_tests/rbs_small_comp_aug/models/'\n",
    "output_folder = './final_exemplars/S4_augmentation_tests/rbs_small_comp_aug/outputs/'\n",
    "\n",
    "run_bioseqml(task, data_folder, data_file, sequence_type, model_folder, output_folder, max_runtime_minutes, num_folds, verbosity, do_backup, do_auto_bin, bin_threshold, input_col, target_col, pad_seqs, augment_data, dataset_robustness, num_final_epochs, yaml_params, num_generations, population_size, run_interpretation = run_interpretation, interpret_params = interpret_params, run_design = run_design, design_params = design_params)\n"
   ]
  },
  {
   "cell_type": "markdown",
   "metadata": {},
   "source": [
    "# RBS - Small Rev Comp Aug"
   ]
  },
  {
   "cell_type": "code",
   "execution_count": null,
   "metadata": {},
   "outputs": [],
   "source": [
    "os.mkdir('./final_exemplars/S4_augmentation_tests/rbs_small_rev_aug/')\n",
    "\n",
    "data_folder = './clean_data/clean/'\n",
    "data_file = 'hollerer_rbs_smalltrain.csv' # just 2000\n",
    "input_col = 'seq'\n",
    "target_col = 'out'\n",
    "sequence_type = 'nucleic_acid'\n",
    "\n",
    "augment_data = 'reverse_complement'\n",
    "task = 'binary_classification' # binary_classification, multiclass_classification, regression\n",
    "\n",
    "# Specify target folders for saving models and results\n",
    "# Generic here - will add the tags specifying classification/regression\n",
    "# as well as specific for the AutoML tool being used (i.e. /tpot/)\n",
    "model_folder = './final_exemplars/S4_augmentation_tests/rbs_small_rev_aug/models/'\n",
    "output_folder = './final_exemplars/S4_augmentation_tests/rbs_small_rev_aug/outputs/'\n",
    "\n",
    "run_bioseqml(task, data_folder, data_file, sequence_type, model_folder, output_folder, max_runtime_minutes, num_folds, verbosity, do_backup, do_auto_bin, bin_threshold, input_col, target_col, pad_seqs, augment_data, dataset_robustness, num_final_epochs, yaml_params, num_generations, population_size, run_interpretation = run_interpretation, interpret_params = interpret_params, run_design = run_design, design_params = design_params)\n"
   ]
  },
  {
   "cell_type": "markdown",
   "metadata": {},
   "source": [
    "# RBS - Small Both Aug"
   ]
  },
  {
   "cell_type": "code",
   "execution_count": null,
   "metadata": {},
   "outputs": [],
   "source": [
    "os.mkdir('./final_exemplars/S4_augmentation_tests/rbs_small_both_aug/')\n",
    "\n",
    "data_folder = './clean_data/clean/'\n",
    "data_file = 'hollerer_rbs_smalltrain.csv' # just 2000\n",
    "input_col = 'seq'\n",
    "target_col = 'out'\n",
    "sequence_type = 'nucleic_acid'\n",
    "\n",
    "augment_data = 'both_complements'\n",
    "task = 'binary_classification' # binary_classification, multiclass_classification, regression\n",
    "\n",
    "# Specify target folders for saving models and results\n",
    "# Generic here - will add the tags specifying classification/regression\n",
    "# as well as specific for the AutoML tool being used (i.e. /tpot/)\n",
    "model_folder = './final_exemplars/S4_augmentation_tests/rbs_small_both_aug/models/'\n",
    "output_folder = './final_exemplars/S4_augmentation_tests/rbs_small_both_aug/outputs/'\n",
    "\n",
    "run_bioseqml(task, data_folder, data_file, sequence_type, model_folder, output_folder, max_runtime_minutes, num_folds, verbosity, do_backup, do_auto_bin, bin_threshold, input_col, target_col, pad_seqs, augment_data, dataset_robustness, num_final_epochs, yaml_params, num_generations, population_size, run_interpretation = run_interpretation, interpret_params = interpret_params, run_design = run_design, design_params = design_params)\n"
   ]
  },
  {
   "cell_type": "markdown",
   "metadata": {},
   "source": [
    "# ---------------------\n",
    "# TOEHOLDS\n",
    "# ---------------------"
   ]
  },
  {
   "cell_type": "markdown",
   "metadata": {},
   "source": [
    "# Toeholds - Small No Aug"
   ]
  },
  {
   "cell_type": "code",
   "execution_count": null,
   "metadata": {
    "scrolled": true
   },
   "outputs": [],
   "source": [
    "os.mkdir('./final_exemplars/S4_augmentation_tests/toeholds_small_no_aug/')\n",
    "\n",
    "data_folder = './clean_data/clean/'\n",
    "data_file = 'toeholds_small.csv' # just 2000 for the purposes of this experiment\n",
    "input_col = 'seq'\n",
    "target_col = 'ON'\n",
    "sequence_type = 'nucleic_acid'\n",
    "\n",
    "constraint_file_path = 'clean_data/toehold_constraints.xlsx'\n",
    "\n",
    "augment_data = 'none'\n",
    "task = 'binary_classification' # binary_classification, multiclass_classification, regression\n",
    "\n",
    "# Specify target folders for saving models and results\n",
    "# Generic here - will add the tags specifying classification/regression\n",
    "# as well as specific for the AutoML tool being used (i.e. /tpot/)\n",
    "model_folder = './final_exemplars/S4_augmentation_tests/toeholds_small_no_aug/models/'\n",
    "output_folder = './final_exemplars/S4_augmentation_tests/toeholds_small_no_aug/outputs/'\n",
    "\n",
    "run_bioseqml(task, data_folder, data_file, sequence_type, model_folder, output_folder, max_runtime_minutes, num_folds, verbosity, do_backup, do_auto_bin, bin_threshold, input_col, target_col, pad_seqs, augment_data, dataset_robustness, num_final_epochs, yaml_params, num_generations, population_size, run_interpretation = run_interpretation, interpret_params = interpret_params, run_design = run_design, design_params = design_params)\n"
   ]
  },
  {
   "cell_type": "markdown",
   "metadata": {},
   "source": [
    "# Toeholds - Small Comp Aug"
   ]
  },
  {
   "cell_type": "code",
   "execution_count": null,
   "metadata": {
    "scrolled": true
   },
   "outputs": [],
   "source": [
    "os.mkdir('./final_exemplars/S4_augmentation_tests/toeholds_small_comp_aug/')\n",
    "\n",
    "data_folder = './clean_data/clean/'\n",
    "data_file = 'toeholds_small.csv' # just 2000\n",
    "input_col = 'seq'\n",
    "target_col = 'ON'\n",
    "sequence_type = 'nucleic_acid'\n",
    "\n",
    "augment_data = 'complement'\n",
    "constraint_file_path = 'clean_data/toehold_constraints.xlsx'\n",
    "\n",
    "task = 'binary_classification' # binary_classification, multiclass_classification, regression\n",
    "\n",
    "# Specify target folders for saving models and results\n",
    "# Generic here - will add the tags specifying classification/regression\n",
    "# as well as specific for the AutoML tool being used (i.e. /tpot/)\n",
    "model_folder = './final_exemplars/S4_augmentation_tests/toeholds_small_comp_aug/models/'\n",
    "output_folder = './final_exemplars/S4_augmentation_tests/toeholds_small_comp_aug/outputs/'\n",
    "\n",
    "run_bioseqml(task, data_folder, data_file, sequence_type, model_folder, output_folder, max_runtime_minutes, num_folds, verbosity, do_backup, do_auto_bin, bin_threshold, input_col, target_col, pad_seqs, augment_data, dataset_robustness, num_final_epochs, yaml_params, num_generations, population_size, run_interpretation = run_interpretation, interpret_params = interpret_params, run_design = run_design, design_params = design_params)\n"
   ]
  },
  {
   "cell_type": "markdown",
   "metadata": {},
   "source": [
    "# Toeholds - Small Rev Comp Aug"
   ]
  },
  {
   "cell_type": "code",
   "execution_count": null,
   "metadata": {
    "scrolled": true
   },
   "outputs": [],
   "source": [
    "os.mkdir('./final_exemplars/S4_augmentation_tests/toeholds_small_rev_aug/')\n",
    "\n",
    "data_folder = './clean_data/clean/'\n",
    "data_file = 'toeholds_small.csv' # just 2000\n",
    "input_col = 'seq'\n",
    "target_col = 'ON'\n",
    "sequence_type = 'nucleic_acid'\n",
    "\n",
    "augment_data = 'reverse_complement'\n",
    "constraint_file_path = 'clean_data/toehold_constraints.xlsx'\n",
    "\n",
    "task = 'binary_classification' # binary_classification, multiclass_classification, regression\n",
    "\n",
    "# Specify target folders for saving models and results\n",
    "# Generic here - will add the tags specifying classification/regression\n",
    "# as well as specific for the AutoML tool being used (i.e. /tpot/)\n",
    "model_folder = './final_exemplars/S4_augmentation_tests/toeholds_small_rev_aug/models/'\n",
    "output_folder = './final_exemplars/S4_augmentation_tests/toeholds_small_rev_aug/outputs/'\n",
    "\n",
    "run_bioseqml(task, data_folder, data_file, sequence_type, model_folder, output_folder, max_runtime_minutes, num_folds, verbosity, do_backup, do_auto_bin, bin_threshold, input_col, target_col, pad_seqs, augment_data, dataset_robustness, num_final_epochs, yaml_params, num_generations, population_size, run_interpretation = run_interpretation, interpret_params = interpret_params, run_design = run_design, design_params = design_params)\n"
   ]
  },
  {
   "cell_type": "markdown",
   "metadata": {},
   "source": [
    "# Toeholds - Small Both Aug"
   ]
  },
  {
   "cell_type": "code",
   "execution_count": null,
   "metadata": {},
   "outputs": [],
   "source": [
    "os.mkdir('./final_exemplars/S4_augmentation_tests/toeholds_small_both_aug/')\n",
    "\n",
    "data_folder = './clean_data/clean/'\n",
    "data_file = 'toeholds_small.csv' # just 2000\n",
    "input_col = 'seq'\n",
    "target_col = 'ON'\n",
    "sequence_type = 'nucleic_acid'\n",
    "\n",
    "constraint_file_path = 'clean_data/toehold_constraints.xlsx'\n",
    "\n",
    "augment_data = 'both_complements'\n",
    "task = 'binary_classification' # binary_classification, multiclass_classification, regression\n",
    "\n",
    "# Specify target folders for saving models and results\n",
    "# Generic here - will add the tags specifying classification/regression\n",
    "# as well as specific for the AutoML tool being used (i.e. /tpot/)\n",
    "model_folder = './final_exemplars/S4_augmentation_tests/toeholds_small_both_aug/models/'\n",
    "output_folder = './final_exemplars/S4_augmentation_tests/toeholds_small_both_aug/outputs/'\n",
    "\n",
    "run_bioseqml(task, data_folder, data_file, sequence_type, model_folder, output_folder, max_runtime_minutes, num_folds, verbosity, do_backup, do_auto_bin, bin_threshold, input_col, target_col, pad_seqs, augment_data, dataset_robustness, num_final_epochs, yaml_params, num_generations, population_size, run_interpretation = run_interpretation, interpret_params = interpret_params, run_design = run_design, design_params = design_params)\n"
   ]
  },
  {
   "cell_type": "code",
   "execution_count": null,
   "metadata": {},
   "outputs": [],
   "source": []
  }
 ],
 "metadata": {
  "kernelspec": {
   "display_name": "automl_py37",
   "language": "python",
   "name": "automl_py37"
  },
  "language_info": {
   "codemirror_mode": {
    "name": "ipython",
    "version": 3
   },
   "file_extension": ".py",
   "mimetype": "text/x-python",
   "name": "python",
   "nbconvert_exporter": "python",
   "pygments_lexer": "ipython3",
   "version": "3.7.10"
  }
 },
 "nbformat": 4,
 "nbformat_minor": 2
}
