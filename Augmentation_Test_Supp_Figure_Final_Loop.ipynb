{
 "cells": [
  {
   "cell_type": "code",
   "execution_count": null,
   "metadata": {},
   "outputs": [],
   "source": [
    "import sys\n",
    "sys.path.insert(1, './main_classes/')\n",
    "from BioSeqAutoML_wrapper import run_bioseqml\n",
    "\n",
    "import shutil\n",
    "import os"
   ]
  },
  {
   "cell_type": "markdown",
   "metadata": {},
   "source": [
    "# General Parameters (can be changed)"
   ]
  },
  {
   "cell_type": "code",
   "execution_count": null,
   "metadata": {},
   "outputs": [],
   "source": [
    "# Optional Add-ons\n",
    "dataset_robustness = False # try with different fractions of your dataset, may add time\n",
    "\n",
    "# interpretation options\n",
    "run_interpretation = False\n",
    "\n",
    "# design options\n",
    "run_design = False"
   ]
  },
  {
   "cell_type": "markdown",
   "metadata": {},
   "source": [
    "# ---------------------\n",
    "# TOEHOLDS\n",
    "# ---------------------"
   ]
  },
  {
   "cell_type": "markdown",
   "metadata": {},
   "source": [
    "# Toeholds - Small No Aug"
   ]
  },
  {
   "cell_type": "code",
   "execution_count": null,
   "metadata": {
    "scrolled": true
   },
   "outputs": [],
   "source": [
    "#shutil.rmtree('./exemplars/augmentation_tests/toeholds_small_no_aug', ignore_errors = True)\n",
    "#os.mkdir('./exemplars/augmentation_tests/toeholds_small_no_aug/')\n",
    "\n",
    "data_folder = './clean_data/clean/'\n",
    "data_file = 'toeholds_small.csv' # just 2000\n",
    "input_col = 'seq'\n",
    "target_col = 'ON'\n",
    "sequence_type = 'nucleic_acid'\n",
    "\n",
    "augment_data = 'none'\n",
    "task = 'binary_classification' # binary_classification, multiclass_classification, regression\n",
    "\n",
    "model_folder = './exemplars/augmentation_tests/toeholds_small_no_aug/models/'\n",
    "output_folder = './exemplars/augmentation_tests/toeholds_small_no_aug/outputs/'\n",
    "\n",
    "run_bioseqml(task, data_folder, data_file, sequence_type, model_folder, output_folder, input_col=input_col, target_col=target_col, augment_data=augment_data, dataset_robustness=dataset_robustness, run_interpretation = run_interpretation, run_design = run_design)\n"
   ]
  },
  {
   "cell_type": "markdown",
   "metadata": {},
   "source": [
    "# Toeholds - Small Comp Aug"
   ]
  },
  {
   "cell_type": "code",
   "execution_count": null,
   "metadata": {
    "scrolled": true
   },
   "outputs": [],
   "source": [
    "#shutil.rmtree('./exemplars/augmentation_tests/toeholds_small_comp_aug', ignore_errors = True)\n",
    "os.mkdir('./exemplars/augmentation_tests/toeholds_small_comp_aug/')\n",
    "\n",
    "data_folder = './clean_data/clean/'\n",
    "data_file = 'toeholds_small.csv' # just 2000\n",
    "input_col = 'seq'\n",
    "target_col = 'ON'\n",
    "sequence_type = 'nucleic_acid'\n",
    "\n",
    "augment_data = 'complement'\n",
    "\n",
    "task = 'binary_classification' # binary_classification, multiclass_classification, regression\n",
    "\n",
    "model_folder = './exemplars/augmentation_tests/toeholds_small_comp_aug/models/'\n",
    "output_folder = './exemplars/augmentation_tests/toeholds_small_comp_aug/outputs/'\n",
    "\n",
    "run_bioseqml(task, data_folder, data_file, sequence_type, model_folder, output_folder, input_col=input_col, target_col=target_col, augment_data=augment_data, dataset_robustness=dataset_robustness, run_interpretation = run_interpretation, run_design = run_design)\n"
   ]
  },
  {
   "cell_type": "markdown",
   "metadata": {},
   "source": [
    "# Toeholds - Small Rev Comp Aug"
   ]
  },
  {
   "cell_type": "code",
   "execution_count": null,
   "metadata": {
    "scrolled": true
   },
   "outputs": [],
   "source": [
    "#shutil.rmtree('./exemplars/augmentation_tests/toeholds_small_rev_aug', ignore_errors = True)\n",
    "#os.mkdir('./exemplars/augmentation_tests/toeholds_small_rev_aug/')\n",
    "\n",
    "data_folder = './clean_data/clean/'\n",
    "data_file = 'toeholds_small.csv' # just 2000\n",
    "input_col = 'seq'\n",
    "target_col = 'ON'\n",
    "sequence_type = 'nucleic_acid'\n",
    "\n",
    "augment_data = 'reverse_complement'\n",
    "\n",
    "task = 'binary_classification' # binary_classification, multiclass_classification, regression\n",
    "\n",
    "model_folder = './exemplars/augmentation_tests/toeholds_small_rev_aug/models/'\n",
    "output_folder = './exemplars/augmentation_tests/toeholds_small_rev_aug/outputs/'\n",
    "\n",
    "run_bioseqml(task, data_folder, data_file, sequence_type, model_folder, output_folder, input_col=input_col, target_col=target_col, augment_data=augment_data, dataset_robustness=dataset_robustness, run_interpretation = run_interpretation, run_design = run_design)\n"
   ]
  },
  {
   "cell_type": "markdown",
   "metadata": {},
   "source": [
    "# Toeholds - Small Both Aug"
   ]
  },
  {
   "cell_type": "code",
   "execution_count": null,
   "metadata": {},
   "outputs": [],
   "source": [
    "#shutil.rmtree('./exemplars/augmentation_tests/toeholds_small_both_aug/', ignore_errors = True)\n",
    "#os.mkdir('./exemplars/augmentation_tests/toeholds_small_both_aug/')\n",
    "\n",
    "data_folder = './clean_data/clean/'\n",
    "data_file = 'toeholds_small.csv' # just 2000\n",
    "input_col = 'seq'\n",
    "target_col = 'ON'\n",
    "sequence_type = 'nucleic_acid'\n",
    "\n",
    "augment_data = 'both_complements'\n",
    "task = 'binary_classification' # binary_classification, multiclass_classification, regression\n",
    "\n",
    "model_folder = './exemplars/augmentation_tests/toeholds_small_both_aug/models/'\n",
    "output_folder = './exemplars/augmentation_tests/toeholds_small_both_aug/outputs/'\n",
    "\n",
    "run_bioseqml(task, data_folder, data_file, sequence_type, model_folder, output_folder, input_col=input_col, target_col=target_col, augment_data=augment_data, dataset_robustness=dataset_robustness, run_interpretation = run_interpretation, run_design = run_design)\n"
   ]
  },
  {
   "cell_type": "markdown",
   "metadata": {},
   "source": [
    "# ---------------------\n",
    "# RBS\n",
    "# ---------------------"
   ]
  },
  {
   "cell_type": "markdown",
   "metadata": {},
   "source": [
    "# RBS - Small No Aug"
   ]
  },
  {
   "cell_type": "code",
   "execution_count": null,
   "metadata": {
    "scrolled": true
   },
   "outputs": [],
   "source": [
    "#shutil.rmtree('./exemplars/augmentation_tests/rbs_small_no_aug/', ignore_errors = True)\n",
    "os.mkdir('./exemplars/augmentation_tests/rbs_small_no_aug/')\n",
    "\n",
    "data_folder = './clean_data/clean/'\n",
    "data_file = 'hollerer_rbs_smalltrain.csv' # just 2000\n",
    "input_col = 'seq'\n",
    "target_col = 'out'\n",
    "sequence_type = 'nucleic_acid'\n",
    "\n",
    "augment_data = 'none'\n",
    "task = 'binary_classification' # binary_classification, multiclass_classification, regression\n",
    "\n",
    "model_folder = './exemplars/augmentation_tests/rbs_small_no_aug/models/'\n",
    "output_folder = './exemplars/augmentation_tests/rbs_small_no_aug/outputs/'\n",
    "\n",
    "run_bioseqml(task, data_folder, data_file, sequence_type, model_folder, output_folder, input_col=input_col, target_col=target_col, augment_data=augment_data, dataset_robustness=dataset_robustness, run_interpretation = run_interpretation, run_design = run_design)\n"
   ]
  },
  {
   "cell_type": "markdown",
   "metadata": {},
   "source": [
    "# RBS - Small Comp Aug"
   ]
  },
  {
   "cell_type": "code",
   "execution_count": null,
   "metadata": {
    "scrolled": true
   },
   "outputs": [],
   "source": [
    "#shutil.rmtree('./exemplars/augmentation_tests/rbs_small_comp_aug/', ignore_errors = True)\n",
    "os.mkdir('./exemplars/augmentation_tests/rbs_small_comp_aug/')\n",
    "\n",
    "data_folder = './clean_data/clean/'\n",
    "data_file = 'hollerer_rbs_smalltrain.csv' # just 2000\n",
    "input_col = 'seq'\n",
    "target_col = 'out'\n",
    "sequence_type = 'nucleic_acid'\n",
    "\n",
    "augment_data = 'complement'\n",
    "task = 'binary_classification' # binary_classification, multiclass_classification, regression\n",
    "\n",
    "model_folder = './exemplars/augmentation_tests/rbs_small_comp_aug/models/'\n",
    "output_folder = './exemplars/augmentation_tests/rbs_small_comp_aug/outputs/'\n",
    "\n",
    "run_bioseqml(task, data_folder, data_file, sequence_type, model_folder, output_folder, input_col=input_col, target_col=target_col, augment_data=augment_data, dataset_robustness=dataset_robustness, run_interpretation = run_interpretation, run_design = run_design)\n"
   ]
  },
  {
   "cell_type": "markdown",
   "metadata": {},
   "source": [
    "# RBS - Small Rev Comp Aug"
   ]
  },
  {
   "cell_type": "code",
   "execution_count": null,
   "metadata": {
    "scrolled": true
   },
   "outputs": [],
   "source": [
    "#shutil.rmtree('./exemplars/augmentation_tests/rbs_small_rev_aug/', ignore_errors = True)\n",
    "os.mkdir('./exemplars/augmentation_tests/rbs_small_rev_aug/')\n",
    "\n",
    "data_folder = './clean_data/clean/'\n",
    "data_file = 'hollerer_rbs_smalltrain.csv' # just 2000\n",
    "input_col = 'seq'\n",
    "target_col = 'out'\n",
    "sequence_type = 'nucleic_acid'\n",
    "\n",
    "augment_data = 'reverse_complement'\n",
    "task = 'binary_classification' # binary_classification, multiclass_classification, regression\n",
    "\n",
    "model_folder = './exemplars/augmentation_tests/rbs_small_rev_aug/models/'\n",
    "output_folder = './exemplars/augmentation_tests/rbs_small_rev_aug/outputs/'\n",
    "\n",
    "run_bioseqml(task, data_folder, data_file, sequence_type, model_folder, output_folder, input_col=input_col, target_col=target_col, augment_data=augment_data, dataset_robustness=dataset_robustness, run_interpretation = run_interpretation, run_design = run_design)\n"
   ]
  },
  {
   "cell_type": "markdown",
   "metadata": {},
   "source": [
    "# RBS - Small Both Aug"
   ]
  },
  {
   "cell_type": "code",
   "execution_count": null,
   "metadata": {
    "scrolled": true
   },
   "outputs": [],
   "source": [
    "#shutil.rmtree('./exemplars/augmentation_tests/rbs_small_both_aug/', ignore_errors = True)\n",
    "os.mkdir('./exemplars/augmentation_tests/rbs_small_both_aug/')\n",
    "\n",
    "data_folder = './clean_data/clean/'\n",
    "data_file = 'hollerer_rbs_smalltrain.csv' # just 2000\n",
    "input_col = 'seq'\n",
    "target_col = 'out'\n",
    "sequence_type = 'nucleic_acid'\n",
    "\n",
    "augment_data = 'both_complements'\n",
    "task = 'binary_classification' # binary_classification, multiclass_classification, regression\n",
    "\n",
    "model_folder = './exemplars/augmentation_tests/rbs_small_both_aug/models/'\n",
    "output_folder = './exemplars/augmentation_tests/rbs_small_both_aug/outputs/'\n",
    "\n",
    "run_bioseqml(task, data_folder, data_file, sequence_type, model_folder, output_folder, input_col=input_col, target_col=target_col, augment_data=augment_data, dataset_robustness=dataset_robustness, run_interpretation = run_interpretation, run_design = run_design)\n"
   ]
  },
  {
   "cell_type": "code",
   "execution_count": null,
   "metadata": {},
   "outputs": [],
   "source": []
  }
 ],
 "metadata": {
  "kernelspec": {
   "display_name": "automl_py37",
   "language": "python",
   "name": "automl_py37"
  },
  "language_info": {
   "codemirror_mode": {
    "name": "ipython",
    "version": 3
   },
   "file_extension": ".py",
   "mimetype": "text/x-python",
   "name": "python",
   "nbconvert_exporter": "python",
   "pygments_lexer": "ipython3",
   "version": "3.7.10"
  }
 },
 "nbformat": 4,
 "nbformat_minor": 2
}
