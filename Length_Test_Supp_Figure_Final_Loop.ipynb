{
 "cells": [
  {
   "cell_type": "markdown",
   "metadata": {},
   "source": [
    "This notebook reproduces results in the length tests portion of the manuscript."
   ]
  },
  {
   "cell_type": "code",
   "execution_count": null,
   "metadata": {},
   "outputs": [],
   "source": [
    "import sys\n",
    "sys.path.insert(1, 'main_classes/')\n",
    "\n",
    "from BioSeqAutoML_wrapper import run_bioseqml\n",
    "import shutil\n",
    "import os\n",
    "\n",
    "# make directory where these results can live - no need to run if already have a directory\n",
    "#os.mkdir('./final_exemplars/')"
   ]
  },
  {
   "cell_type": "markdown",
   "metadata": {},
   "source": [
    "# General Parameters (can be changed)"
   ]
  },
  {
   "cell_type": "code",
   "execution_count": 1,
   "metadata": {},
   "outputs": [],
   "source": [
    "# ### input arguments \n",
    "#     task : str, one of 'binary_classification', 'multiclass_classification', 'regression'\n",
    "#     data_folder : str representing folder where data is stored\n",
    "#     data_file : str representing file name where data is stored\n",
    "#     sequence_type : str, either 'nucleic_acid', 'peptide', or 'glycan'\n",
    "#     model_folder : str representing folder where models are to be stored\n",
    "#     output_folder : str representing folder where output is to be stored\n",
    "#     automl_search_techniques : str representing which AutoML search technique should be performed, one of 'all', 'deepswarm', 'autokeras', 'tpot'\n",
    "#     do_backup : bool representing if a backup should be performed\n",
    "#     max_runtime_minutes : int representing max runtime for model search in minutes\n",
    "#     num_folds : int representing num folds\n",
    "#     verbosity : int representing 0=not verbose, 1=verbose\n",
    "#     do_auto_bin : bool representing if target values should be automatically binned\n",
    "#     bin_threshold : float representing threshold for positive and negative classes\n",
    "#     do_transform : bool representing if target values should be transformed\n",
    "#     input_col : str representing input column name where sequences can be located\n",
    "#     target_col : str representing target column name where target values can be located\n",
    "#     pad_seqs : str indicating pad_seqs method, either 'max', 'min', 'average'\n",
    "#     augment_data : str, either 'none', 'complement', 'reverse_complement', or 'both_complements'\n",
    "#     dataset_robustness : bool indicating if data ablation study should be performed\n",
    "#     num_final_epochs : int representing number of final epochs to train final deepswarm model\n",
    "#     yaml_params : dict of extra deepswarm parameters, with keys 'max_depth' (int), 'ant_count' (int), 'epochs' (int)\n",
    "#     num_generations : int representing number of generations of tpot search\n",
    "#     population_size : int representing population size of tpot search\n",
    "#     run_interpretation : bool indicating if interpretation module should be executed\n",
    "#     interpret_params : dict of extra interpretation parameters, with keys 'sample_number_class_activation_maps' (int), 'class_activation_grad_modifier' (str), 'class_activation_layer_index' (int);\n",
    "#         'sample_number_saliency_maps' (int), 'saliency_map_grad_modifier' (str), 'saliency_map_layer_index' (int), 'sample_number_mutagenesis' (int)\n",
    "#     run_design : bool indicating if design module should be executed\n",
    "#     design_params :dict of extra design parameters, with keys 'k' (int), 'substitution_type' (str), 'target_y' (float), 'class_of_interest' (int), 'constraint_file_path' (str);\n",
    "#         'de_novo_num_seqs_to_test' (int), 'storm_num_seqs_to_test' (int), 'num_of_optimization_rounds' (int)\n",
    "# ###"
   ]
  },
  {
   "cell_type": "code",
   "execution_count": null,
   "metadata": {},
   "outputs": [],
   "source": [
    "# specify parameters for the actual search if different from defaults\n",
    "max_runtime_minutes = 180 # time in minutes to give to each implemented AutoML algorithms\n",
    "num_folds = 3 # recommend 3 - 5 folds for robustness\n",
    "\n",
    "# Deepswarm execution - for domain max, reduced num:\n",
    "yaml_params = {'ant_count': 2, 'max_depth': 3, 'epochs': 5}"
   ]
  },
  {
   "cell_type": "markdown",
   "metadata": {},
   "source": [
    "# ---------------------\n",
    "# Glycans-  IMMUNOGENIC\n",
    "# ---------------------"
   ]
  },
  {
   "cell_type": "markdown",
   "metadata": {},
   "source": [
    "# Glycans - Max Pad"
   ]
  },
  {
   "cell_type": "code",
   "execution_count": null,
   "metadata": {
    "scrolled": true
   },
   "outputs": [],
   "source": [
    "#shutil.rmtree('./final_exemplars/S5_length_tests/immunogenic_glycans_max/', ignore_errors = True)\n",
    "os.mkdir('./final_exemplars/S5_length_tests/immunogenic_glycans_max/')\n",
    "\n",
    "pad_seqs = 'max' # pads seqs to max length\n",
    "\n",
    "data_folder = './clean_data/clean/'\n",
    "data_file = 'immunogenic_glycans.csv'\n",
    "input_col = 'seq'\n",
    "target_col = 'target'\n",
    "sequence_type = 'glycan'\n",
    "\n",
    "task = 'binary_classification' # binary_classification, multiclass_classification, regression\n",
    "\n",
    "model_folder = './final_exemplars/S5_length_tests/immunogenic_glycans_max/models/'\n",
    "output_folder = './final_exemplars/S5_length_tests/immunogenic_glycans_max/outputs/'\n",
    "\n",
    "run_bioseqml(task, data_folder, data_file, sequence_type, model_folder, output_folder, num_folds=num_folds, do_backup=do_backup, input_col=input_col, target_col=target_col, pad_seqs=pad_seqs, max_runtime_minutes=max_runtime_minutes, yaml_params=yaml_params)\n"
   ]
  },
  {
   "cell_type": "markdown",
   "metadata": {},
   "source": [
    "# Glycans - Min Pad"
   ]
  },
  {
   "cell_type": "code",
   "execution_count": null,
   "metadata": {
    "scrolled": true
   },
   "outputs": [],
   "source": [
    "#shutil.rmtree('./final_exemplars/S5_length_tests/immunogenic_glycans_min/', ignore_errors = True)\n",
    "os.mkdir('./final_exemplars/S5_length_tests/immunogenic_glycans_min/')\n",
    "\n",
    "pad_seqs = 'min' # pads seqs to min length\n",
    "\n",
    "data_folder = './clean_data/clean/'\n",
    "data_file = 'immunogenic_glycans.csv'\n",
    "input_col = 'seq'\n",
    "target_col = 'target'\n",
    "sequence_type = 'glycan'\n",
    "\n",
    "task = 'binary_classification' # binary_classification, multiclass_classification, regression\n",
    "\n",
    "model_folder = './final_exemplars/S5_length_tests/immunogenic_glycans_min/models/'\n",
    "output_folder = './final_exemplars/S5_length_tests/immunogenic_glycans_min/outputs/'\n",
    "\n",
    "run_bioseqml(task, data_folder, data_file, sequence_type, model_folder, output_folder, num_folds=num_folds, do_backup=do_backup, input_col=input_col, target_col=target_col, pad_seqs=pad_seqs, max_runtime_minutes=max_runtime_minutes, yaml_params=yaml_params)\n"
   ]
  },
  {
   "cell_type": "markdown",
   "metadata": {},
   "source": [
    "# Glycans - Avg Pad"
   ]
  },
  {
   "cell_type": "code",
   "execution_count": null,
   "metadata": {
    "scrolled": true
   },
   "outputs": [],
   "source": [
    "#shutil.rmtree('./final_exemplars/S5_length_tests/immunogenic_glycans_avg/', ignore_errors = True)\n",
    "os.mkdir('./final_exemplars/S5_length_tests/immunogenic_glycans_avg/')\n",
    "\n",
    "pad_seqs = 'average' # pads seqs to avg length\n",
    "\n",
    "data_folder = './clean_data/clean/'\n",
    "data_file = 'immunogenic_glycans.csv'\n",
    "input_col = 'seq'\n",
    "target_col = 'target'\n",
    "sequence_type = 'glycan'\n",
    "\n",
    "task = 'binary_classification' # binary_classification, multiclass_classification, regression\n",
    "\n",
    "model_folder = './final_exemplars/S5_length_tests/immunogenic_glycans_avg/models/'\n",
    "output_folder = './final_exemplars/S5_length_tests/immunogenic_glycans_avg/outputs/'\n",
    "\n",
    "run_bioseqml(task, data_folder, data_file, sequence_type, model_folder, output_folder, num_folds=num_folds, do_backup=do_backup, input_col=input_col, target_col=target_col, pad_seqs=pad_seqs, max_runtime_minutes=max_runtime_minutes, yaml_params=yaml_params)\n"
   ]
  },
  {
   "cell_type": "markdown",
   "metadata": {},
   "source": [
    "# ---------------------\n",
    "# Glycans-  DOMAIN CLASS\n",
    "# ---------------------"
   ]
  },
  {
   "cell_type": "markdown",
   "metadata": {},
   "source": [
    "# Glycans - Max Pad"
   ]
  },
  {
   "cell_type": "code",
   "execution_count": null,
   "metadata": {
    "scrolled": true
   },
   "outputs": [],
   "source": [
    "#shutil.rmtree('./final_exemplars/S5_length_tests/domain_glycans_max/', ignore_errors = True)\n",
    "os.mkdir('./final_exemplars/S5_length_tests/domain_glycans_max/')\n",
    "\n",
    "pad_seqs = 'max' # pads seqs to max length\n",
    "\n",
    "data_folder = './clean_data/multiclass/'\n",
    "data_file = 'domain_glycans.csv'\n",
    "input_col = 'seq'\n",
    "target_col = 'target'\n",
    "sequence_type = 'glycan'\n",
    "\n",
    "task = 'multiclass_classification' # binary_classification, multiclass_classification, regression\n",
    "\n",
    "model_folder = './final_exemplars/S5_length_tests/domain_glycans_max/models/'\n",
    "output_folder = './final_exemplars/S5_length_tests/domain_glycans_max/outputs/'\n",
    "\n",
    "run_bioseqml(task, data_folder, data_file, sequence_type, model_folder, output_folder, num_folds=num_folds, do_backup=do_backup, input_col=input_col, target_col=target_col, pad_seqs=pad_seqs, max_runtime_minutes=max_runtime_minutes, yaml_params=yaml_params)\n"
   ]
  },
  {
   "cell_type": "markdown",
   "metadata": {},
   "source": [
    "# Glycans - Min Pad"
   ]
  },
  {
   "cell_type": "code",
   "execution_count": null,
   "metadata": {
    "scrolled": true
   },
   "outputs": [],
   "source": [
    "#shutil.rmtree('./final_exemplars/S5_length_tests/domain_glycans_min/', ignore_errors = True)\n",
    "os.mkdir('./final_exemplars/S5_length_tests/domain_glycans_min/')\n",
    "\n",
    "pad_seqs = 'min' # pads seqs to min length\n",
    "\n",
    "data_folder = './clean_data/multiclass/'\n",
    "data_file = 'domain_glycans.csv'\n",
    "input_col = 'seq'\n",
    "target_col = 'target'\n",
    "sequence_type = 'glycan'\n",
    "\n",
    "task = 'multiclass_classification' # binary_classification, multiclass_classification, regression\n",
    "\n",
    "model_folder = './final_exemplars/S5_length_tests/domain_glycans_min/models/'\n",
    "output_folder = './final_exemplars/S5_length_tests/domain_glycans_min/outputs/'\n",
    "\n",
    "run_bioseqml(task, data_folder, data_file, sequence_type, model_folder, output_folder, num_folds=num_folds, do_backup=do_backup, input_col=input_col, target_col=target_col, pad_seqs=pad_seqs, max_runtime_minutes=max_runtime_minutes, yaml_params=yaml_params)\n"
   ]
  },
  {
   "cell_type": "markdown",
   "metadata": {},
   "source": [
    "# Glycans - Avg Pad"
   ]
  },
  {
   "cell_type": "code",
   "execution_count": null,
   "metadata": {
    "scrolled": false
   },
   "outputs": [],
   "source": [
    "#shutil.rmtree('./final_exemplars/S5_length_tests/domain_glycans_avg/', ignore_errors = True)\n",
    "os.mkdir('./final_exemplars/S5_length_tests/domain_glycans_avg/')\n",
    "\n",
    "pad_seqs = 'average' # pads seqs to avg length\n",
    "\n",
    "data_folder = './clean_data/multiclass/'\n",
    "data_file = 'domain_glycans.csv'\n",
    "input_col = 'seq'\n",
    "target_col = 'target'\n",
    "sequence_type = 'glycan'\n",
    "\n",
    "task = 'multiclass_classification' # binary_classification, multiclass_classification, regression\n",
    "\n",
    "model_folder = './final_exemplars/S5_length_tests/domain_glycans_avg/models/'\n",
    "output_folder = './final_exemplars/S5_length_tests/domain_glycans_avg/outputs/'\n",
    "\n",
    "run_bioseqml(task, data_folder, data_file, sequence_type, model_folder, output_folder, num_folds=num_folds, do_backup=do_backup, input_col=input_col, target_col=target_col, pad_seqs=pad_seqs, max_runtime_minutes=max_runtime_minutes, yaml_params=yaml_params)\n"
   ]
  }
 ],
 "metadata": {
  "kernelspec": {
   "display_name": "automl_py37",
   "language": "python",
   "name": "automl_py37"
  },
  "language_info": {
   "codemirror_mode": {
    "name": "ipython",
    "version": 3
   },
   "file_extension": ".py",
   "mimetype": "text/x-python",
   "name": "python",
   "nbconvert_exporter": "python",
   "pygments_lexer": "ipython3",
   "version": "3.7.10"
  }
 },
 "nbformat": 4,
 "nbformat_minor": 2
}
