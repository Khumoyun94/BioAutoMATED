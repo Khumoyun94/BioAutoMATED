{
 "cells": [
  {
   "cell_type": "markdown",
   "metadata": {},
   "source": [
    "Please note that to run different datasets, you should restart the kernel and run the import statement and general parameter definition blocks again. This is due to graph operations needing to be reset between every experiment."
   ]
  },
  {
   "cell_type": "code",
   "execution_count": null,
   "metadata": {},
   "outputs": [],
   "source": [
    "sys.path.insert(1, './main_classes/')\n",
    "from CAML_wrapper import run_bioseqml\n",
    "\n",
    "import shutil\n",
    "import os\n",
    "\n",
    "# make directory where these results can live - no need to run if already have a directory\n",
    "os.mkdir('./final_exemplars/S5_length_tests/')"
   ]
  },
  {
   "cell_type": "markdown",
   "metadata": {},
   "source": [
    "# General Parameters (can be changed)"
   ]
  },
  {
   "cell_type": "code",
   "execution_count": null,
   "metadata": {},
   "outputs": [],
   "source": [
    "# specify parameters for the actual search (example)\n",
    "max_runtime_minutes = 180 # time in minutes to give to each implemented AutoML algorithms\n",
    "num_folds = 3 # recommend 3 - 5 folds for robustness\n",
    "verbosity = 0\n",
    "do_backup = False # make a backup of your outputs and models\n",
    "\n",
    "# Deepswarm execution\n",
    "num_final_epochs = 50\n",
    "num_final_epochs = 50\n",
    "yaml_params = {'ant_count': 4, 'max_depth': 3, 'epochs': 5}\n",
    "\n",
    "# TPOT execution\n",
    "num_generations = 50 # or do hyperparameter optimization in an automated way\n",
    "population_size = 50 # or do hyperparameter optimization in an automated way\n",
    "\n",
    "# required only for binary_classification\n",
    "# If do_auto_bin=True then binary threshold is set to None to be automatically generated\n",
    "do_auto_bin = True\n",
    "if do_auto_bin == True:\n",
    "    bin_threshold=None\n",
    "else:\n",
    "    bin_threshold = 0.75\n",
    "    \n",
    "# Optional Add-ons\n",
    "pad_seqs = 'max' # pads seqs to max length; options include 'max', 'min', 'average'\n",
    "augment_data = 'none' # available for nucleic acids: none, complement, rev_complement, both_complements\n",
    "dataset_robustness = False # try with different fractions of your dataset, may add time\n",
    "\n",
    "# interpretation options\n",
    "run_interpretation = False\n",
    "interpret_params = {}\n",
    "\n",
    "# design options\n",
    "run_design = False\n",
    "design_params = {}\n"
   ]
  },
  {
   "cell_type": "markdown",
   "metadata": {},
   "source": [
    "# ---------------------\n",
    "# Glycans-  IMMUNOGENIC\n",
    "# ---------------------"
   ]
  },
  {
   "cell_type": "markdown",
   "metadata": {},
   "source": [
    "# Glycans - Max Pad"
   ]
  },
  {
   "cell_type": "code",
   "execution_count": null,
   "metadata": {
    "scrolled": true
   },
   "outputs": [],
   "source": [
    "os.mkdir('./final_exemplars/S5_length_tests/immunogenic_glycans_max/')\n",
    "\n",
    "pad_seqs = 'max' # pads seqs to max length\n",
    "\n",
    "data_folder = './clean_data/clean/'\n",
    "data_file = 'immunogenic_glycans.csv'\n",
    "input_col = 'seq'\n",
    "target_col = 'target'\n",
    "sequence_type = 'glycan'\n",
    "\n",
    "task = 'binary_classification' # binary_classification, multiclass_classification, regression\n",
    "\n",
    "# Specify target folders for saving models and results\n",
    "# Generic here - will add the tags specifying classification/regression\n",
    "# as well as specific for the AutoML tool being used (i.e. /tpot/)\n",
    "model_folder = './final_exemplars/S5_length_tests/immunogenic_glycans_max/models/'\n",
    "output_folder = './final_exemplars/S5_length_tests/immunogenic_glycans_max/outputs/'\n",
    "\n",
    "run_bioseqml(task, data_folder, data_file, sequence_type, model_folder, output_folder, max_runtime_minutes, num_folds, verbosity, do_backup, do_auto_bin, bin_threshold, input_col, target_col, pad_seqs, augment_data, dataset_robustness, num_final_epochs, yaml_params, num_generations, population_size, run_interpretation = run_interpretation, interpret_params = interpret_params, run_design = run_design, design_params = design_params)"
   ]
  },
  {
   "cell_type": "markdown",
   "metadata": {},
   "source": [
    "# Glycans - Min Pad"
   ]
  },
  {
   "cell_type": "code",
   "execution_count": null,
   "metadata": {
    "scrolled": false
   },
   "outputs": [],
   "source": [
    "os.mkdir('./final_exemplars/S5_length_tests/immunogenic_glycans_min/')\n",
    "\n",
    "pad_seqs = 'min' # pads seqs to min length\n",
    "\n",
    "data_folder = './clean_data/clean/'\n",
    "data_file = 'immunogenic_glycans.csv'\n",
    "input_col = 'seq'\n",
    "target_col = 'target'\n",
    "sequence_type = 'glycan'\n",
    "\n",
    "task = 'binary_classification' # binary_classification, multiclass_classification, regression\n",
    "\n",
    "# Specify target folders for saving models and results\n",
    "# Generic here - will add the tags specifying classification/regression\n",
    "# as well as specific for the AutoML tool being used (i.e. /tpot/)\n",
    "model_folder = './final_exemplars/S5_length_tests/immunogenic_glycans_min/models/'\n",
    "output_folder = './final_exemplars/S5_length_tests/immunogenic_glycans_min/outputs/'\n",
    "\n",
    "run_bioseqml(task, data_folder, data_file, sequence_type, model_folder, output_folder, max_runtime_minutes, num_folds, verbosity, do_backup, do_auto_bin, bin_threshold, input_col, target_col, pad_seqs, augment_data, dataset_robustness, num_final_epochs, yaml_params, num_generations, population_size, run_interpretation = run_interpretation, interpret_params = interpret_params, run_design = run_design, design_params = design_params)"
   ]
  },
  {
   "cell_type": "markdown",
   "metadata": {},
   "source": [
    "# Glycans - Avg Pad"
   ]
  },
  {
   "cell_type": "code",
   "execution_count": null,
   "metadata": {
    "scrolled": false
   },
   "outputs": [],
   "source": [
    "os.mkdir('./final_exemplars/S5_length_tests/immunogenic_glycans_avg/')\n",
    "\n",
    "pad_seqs = 'average' # pads seqs to min length\n",
    "\n",
    "data_folder = './clean_data/clean/'\n",
    "data_file = 'immunogenic_glycans.csv'\n",
    "input_col = 'seq'\n",
    "target_col = 'target'\n",
    "sequence_type = 'glycan'\n",
    "\n",
    "task = 'binary_classification' # binary_classification, multiclass_classification, regression\n",
    "\n",
    "# Specify target folders for saving models and results\n",
    "# Generic here - will add the tags specifying classification/regression\n",
    "# as well as specific for the AutoML tool being used (i.e. /tpot/)\n",
    "model_folder = './final_exemplars/S5_length_tests/immunogenic_glycans_avg/models/'\n",
    "output_folder = './final_exemplars/S5_length_tests/immunogenic_glycans_avg/outputs/'\n",
    "\n",
    "run_bioseqml(task, data_folder, data_file, sequence_type, model_folder, output_folder, max_runtime_minutes, num_folds, verbosity, do_backup, do_auto_bin, bin_threshold, input_col, target_col, pad_seqs, augment_data, dataset_robustness, num_final_epochs, yaml_params, num_generations, population_size, run_interpretation = run_interpretation, interpret_params = interpret_params, run_design = run_design, design_params = design_params)"
   ]
  },
  {
   "cell_type": "markdown",
   "metadata": {},
   "source": [
    "# ---------------------\n",
    "# Glycans-  DOMAIN CLASS\n",
    "# ---------------------"
   ]
  },
  {
   "cell_type": "markdown",
   "metadata": {},
   "source": [
    "# Glycans - Max Pad"
   ]
  },
  {
   "cell_type": "code",
   "execution_count": null,
   "metadata": {
    "scrolled": false
   },
   "outputs": [],
   "source": [
    "os.mkdir('./final_exemplars/S5_length_tests/domain_glycans_max/')\n",
    "\n",
    "pad_seqs = 'max' # pads seqs to max length\n",
    "\n",
    "data_folder = './clean_data/multiclass/'\n",
    "data_file = 'domain_glycans.csv'\n",
    "input_col = 'seq'\n",
    "target_col = 'target'\n",
    "sequence_type = 'glycan'\n",
    "\n",
    "task = 'multiclass_classification' # binary_classification, multiclass_classification, regression\n",
    "\n",
    "# Specify target folders for saving models and results\n",
    "# Generic here - will add the tags specifying classification/regression\n",
    "# as well as specific for the AutoML tool being used (i.e. /tpot/)\n",
    "model_folder = './final_exemplars/S5_length_tests/domain_glycans_max/models/'\n",
    "output_folder = './final_exemplars/S5_length_tests/domain_glycans_max/outputs/'\n",
    "\n",
    "run_bioseqml(task, data_folder, data_file, sequence_type, model_folder, output_folder, max_runtime_minutes, num_folds, verbosity, do_backup, do_auto_bin, bin_threshold, input_col, target_col, pad_seqs, augment_data, dataset_robustness, num_final_epochs, yaml_params, num_generations, population_size, run_interpretation = run_interpretation, interpret_params = interpret_params, run_design = run_design, design_params = design_params)"
   ]
  },
  {
   "cell_type": "markdown",
   "metadata": {},
   "source": [
    "# Glycans - Min Pad"
   ]
  },
  {
   "cell_type": "code",
   "execution_count": null,
   "metadata": {
    "scrolled": false
   },
   "outputs": [],
   "source": [
    "os.mkdir('./final_exemplars/S5_length_tests/domain_glycans_min/')\n",
    "\n",
    "pad_seqs = 'min' # pads seqs to min length\n",
    "\n",
    "data_folder = './clean_data/multiclass/'\n",
    "data_file = 'domain_glycans.csv'\n",
    "input_col = 'seq'\n",
    "target_col = 'target'\n",
    "sequence_type = 'glycan'\n",
    "\n",
    "task = 'multiclass_classification' # binary_classification, multiclass_classification, regression\n",
    "\n",
    "# Specify target folders for saving models and results\n",
    "# Generic here - will add the tags specifying classification/regression\n",
    "# as well as specific for the AutoML tool being used (i.e. /tpot/)\n",
    "model_folder = './final_exemplars/S5_length_tests/domain_glycans_min/models/'\n",
    "output_folder = './final_exemplars/S5_length_tests/domain_glycans_min/outputs/'\n",
    "\n",
    "run_bioseqml(task, data_folder, data_file, sequence_type, model_folder, output_folder, max_runtime_minutes, num_folds, verbosity, do_backup, do_auto_bin, bin_threshold, input_col, target_col, pad_seqs, augment_data, dataset_robustness, num_final_epochs, yaml_params, num_generations, population_size, run_interpretation = run_interpretation, interpret_params = interpret_params, run_design = run_design, design_params = design_params)"
   ]
  },
  {
   "cell_type": "markdown",
   "metadata": {},
   "source": [
    "# Glycans - Avg Pad"
   ]
  },
  {
   "cell_type": "code",
   "execution_count": null,
   "metadata": {
    "scrolled": false
   },
   "outputs": [],
   "source": [
    "os.mkdir('./final_exemplars/S5_length_tests/domain_glycans_avg/')\n",
    "\n",
    "pad_seqs = 'average' # pads seqs to max length\n",
    "\n",
    "data_folder = './clean_data/multiclass/'\n",
    "data_file = 'domain_glycans.csv'\n",
    "input_col = 'seq'\n",
    "target_col = 'target'\n",
    "sequence_type = 'glycan'\n",
    "\n",
    "task = 'multiclass_classification' # binary_classification, multiclass_classification, regression\n",
    "\n",
    "# Specify target folders for saving models and results\n",
    "# Generic here - will add the tags specifying classification/regression\n",
    "# as well as specific for the AutoML tool being used (i.e. /tpot/)\n",
    "model_folder = './final_exemplars/S5_length_tests/domain_glycans_avg/models/'\n",
    "output_folder = './final_exemplars/S5_length_tests/domain_glycans_avg/outputs/'\n",
    "\n",
    "run_bioseqml(task, data_folder, data_file, sequence_type, model_folder, output_folder, max_runtime_minutes, num_folds, verbosity, do_backup, do_auto_bin, bin_threshold, input_col, target_col, pad_seqs, augment_data, dataset_robustness, num_final_epochs, yaml_params, num_generations, population_size, run_interpretation = run_interpretation, interpret_params = interpret_params, run_design = run_design, design_params = design_params)"
   ]
  }
 ],
 "metadata": {
  "kernelspec": {
   "display_name": "automl_py37",
   "language": "python",
   "name": "automl_py37"
  },
  "language_info": {
   "codemirror_mode": {
    "name": "ipython",
    "version": 3
   },
   "file_extension": ".py",
   "mimetype": "text/x-python",
   "name": "python",
   "nbconvert_exporter": "python",
   "pygments_lexer": "ipython3",
   "version": "3.7.10"
  }
 },
 "nbformat": 4,
 "nbformat_minor": 2
}
